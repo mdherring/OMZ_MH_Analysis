{
 "cells": [
  {
   "cell_type": "markdown",
   "id": "95c75aa0-6571-4ea0-9355-1b59390bced2",
   "metadata": {},
   "source": [
    "# 12_dramv_genome_summaries"
   ]
  },
  {
   "cell_type": "markdown",
   "id": "3a5353da-7fca-482e-9524-175ee043343e",
   "metadata": {},
   "source": [
    "This document includes an example command to run DRAM on host genomes and DRAM-v on both vMAGs and vSAGs, as well as summaries of the ouput of dram of the 10 selected genomes in the 10_interesting_virus_host_pairs jupyter notebook.\n",
    "\n",
    "\n",
    "| virus name     | variable name | type | sample depth |\n",
    "|----------------|---------------|------| ------------ |\n",
    "| vir_AM-654-B04 | vsag1         | vSAG | 80           |\n",
    "| vir_AM-654-E17 | vsag2         | vSAG | 80           |         \n",
    "| vir_AM-656-P04 | vsag3         | vSAG | 95           |\n",
    "| vir_AM-662-D22 | vsag4         | vSAG | 140          |\n",
    "| vir_AM-666-P13 | vsag5         | vSAG | 400          |\n",
    "| jv119_vMAG_29  | vmag1         | vMAG | 400          |          \n",
    "| jv119_vMAG_32  | vmag2         | vMAG | 400          |\n",
    "| jv121_vMAG_31  | vmag3         | vMAG | 95           |\n",
    "| jv154_vMAG_31  | vmag4         | vMAG | 140          |\n",
    "| jv154_vMAG_44  | vmag5         | vMAG | 140          |"
   ]
  },
  {
   "cell_type": "markdown",
   "id": "c8383b11-c67b-462b-af8a-0d43125c0b67",
   "metadata": {},
   "source": [
    "## DRAM command line code examples"
   ]
  },
  {
   "cell_type": "code",
   "execution_count": null,
   "id": "4ae17b98-2a77-4346-b2a3-fa96ad956da0",
   "metadata": {},
   "outputs": [],
   "source": [
    "# DRAM- for hosts\n",
    "\n",
    "DRAM.py annotate \\\n",
    "-i 'input_file_path' \\ \n",
    "-o output_folder_name\n",
    "\n",
    "DRAM.py distill \\\n",
    "-i annot_output_folder/annotations.tsv \\\n",
    "-o distill_output_folder_name \\\n",
    "--trna_path annot_output_folder/trnas.tsv \\\n",
    "--rrna_path annot_output_folder/rrnas.tsv\n",
    "\n",
    "# example using a single host SAG file on my laptop\n",
    "\n",
    "DRAM.py annotate \\\n",
    "-i '~/Documents/Bigelow/Virus_Project/OMZ_MH_Analysis/Data/genomes/sag_hosts/AM-656-B04_nvcontigs.fasta' \\\n",
    "-o annotations\n",
    "\n",
    "DRAM.py distill \\\n",
    "-i annotations/annotations.tsv \\\n",
    "-o distill \\\n",
    "--trna_path annotations/trnas.tsv \\\n",
    "--rrna_path annotations/rrnas.tsv"
   ]
  },
  {
   "cell_type": "code",
   "execution_count": null,
   "id": "861afa02-dd7d-4e98-bdb2-4c2e74c8bbb0",
   "metadata": {},
   "outputs": [],
   "source": [
    "# DRAM-v\n",
    "\n",
    "# First, run contigs trough VirSorter to identify the viral contigs. Then concatenate viral contigs into a single file. \n",
    "# Run the concatenated fasta file and the VIRSorter_affi-contigs.tab file through DRAM-v.\n",
    "\n",
    "DRAM-v.py annotate \\\n",
    "-i input_viral_path \\\n",
    "-v VIRSorter_affi-contigs.tab \\\n",
    "-o output_folder_name\n",
    "\n",
    "DRAM-v.py distill \\\n",
    "-i annot_output_folder/annotations.tsv \\\n",
    "-o distill\n",
    "\n",
    "# example using a single vSAG file on my laptop\n",
    "\n",
    "DRAM-v.py annotate \\\n",
    "-i '~/Documents/Bigelow/Virus_Project/OMZ_MH_Analysis/Data/genomes/vsags/cv1_AM-656-B04.fasta' \\\n",
    "-v VIRSorter_affi-contigs.tab \\\n",
    "-o distill"
   ]
  },
  {
   "cell_type": "markdown",
   "id": "5de15a5e-44d5-45d9-9100-9de6a33c029d",
   "metadata": {},
   "source": [
    "## Load packages and data"
   ]
  },
  {
   "cell_type": "code",
   "execution_count": 55,
   "id": "8b27f793-c8e3-4d47-b789-1a097d08c935",
   "metadata": {},
   "outputs": [],
   "source": [
    "import pandas as pd\n",
    "import os\n",
    "import sys\n",
    "import csv\n",
    "import numpy as np\n",
    "import matplotlib\n",
    "import matplotlib.pyplot as plt\n",
    "import glob\n",
    "import seaborn as sns\n",
    "from collections import Counter\n",
    "\n",
    "pd.set_option('display.max_columns', None)\n",
    "\n",
    "vsag1 = pd.read_csv(\"~/Documents/Bigelow/Virus_Project/OMZ_MH_Analysis/Data/dramv_output/cv1_AM-654-B04/annotations.tsv\", sep = '\\t').fillna('NA')\n",
    "vsag2 = pd.read_csv(\"~/Documents/Bigelow/Virus_Project/OMZ_MH_Analysis/Data/dramv_output/cv1_AM-654-E17/annotations.tsv\", sep = '\\t').fillna('NA')\n",
    "vsag3 = pd.read_csv(\"~/Documents/Bigelow/Virus_Project/OMZ_MH_Analysis/Data/dramv_output/cv1_AM-656-P04/annotations.tsv\", sep = '\\t').fillna('NA')\n",
    "vsag4 = pd.read_csv(\"~/Documents/Bigelow/Virus_Project/OMZ_MH_Analysis/Data/dramv_output/cv1_AM-662-D22/annotations.tsv\", sep = '\\t').fillna('NA')\n",
    "vsag5 = pd.read_csv(\"~/Documents/Bigelow/Virus_Project/OMZ_MH_Analysis/Data/dramv_output/cv1_AM-666-P13/annotations.tsv\", sep = '\\t').fillna('NA')\n",
    "\n",
    "vmag1 = pd.read_csv(\"~/Documents/Bigelow/Virus_Project/OMZ_MH_Analysis/Data/dramv_output/jv-119-vMAG_29/annotations.tsv\", sep = '\\t').fillna('NA')\n",
    "vmag2 = pd.read_csv(\"~/Documents/Bigelow/Virus_Project/OMZ_MH_Analysis/Data/dramv_output/jv-119-vMAG_32/annotations.tsv\", sep = '\\t').fillna('NA')\n",
    "vmag3 = pd.read_csv(\"~/Documents/Bigelow/Virus_Project/OMZ_MH_Analysis/Data/dramv_output/jv-121-vMAG_31/annotations.tsv\", sep = '\\t').fillna('NA')\n",
    "vmag4 = pd.read_csv(\"~/Documents/Bigelow/Virus_Project/OMZ_MH_Analysis/Data/dramv_output/jv-154-vMAG_31/annotations.tsv\", sep = '\\t').fillna('NA')\n",
    "vmag5 = pd.read_csv(\"~/Documents/Bigelow/Virus_Project/OMZ_MH_Analysis/Data/dramv_output/jv-154-vMAG_44/annotations.tsv\", sep = '\\t').fillna('NA')"
   ]
  },
  {
   "cell_type": "markdown",
   "id": "9cea76fe-c7b3-4186-8290-36b9a9171c1e",
   "metadata": {},
   "source": [
    "## vSAGs"
   ]
  },
  {
   "cell_type": "markdown",
   "id": "34032026-e919-4a2c-a3bb-8a22f32ebd6d",
   "metadata": {},
   "source": [
    "### vSAG1"
   ]
  },
  {
   "cell_type": "code",
   "execution_count": 2,
   "id": "68a13d36-190a-4211-9400-b872380d41ac",
   "metadata": {},
   "outputs": [
    {
     "data": {
      "text/plain": [
       "63"
      ]
     },
     "execution_count": 2,
     "metadata": {},
     "output_type": "execute_result"
    }
   ],
   "source": [
    "# How many genes does DRAM-v recognize?\n",
    "vsag1_annot = vsag1[vsag1['rank'] != 'E'] # E = no annotation\n",
    "len(vsag1_annot)"
   ]
  },
  {
   "cell_type": "code",
   "execution_count": 9,
   "id": "e49fc723-12c7-42fb-ae81-9c315ce6d087",
   "metadata": {},
   "outputs": [
    {
     "data": {
      "text/plain": [
       "14"
      ]
     },
     "execution_count": 9,
     "metadata": {},
     "output_type": "execute_result"
    }
   ],
   "source": [
    "# subset out AMGs\n",
    "vsag1_amg = vsag1_annot[vsag1_annot['amg_flags'].str.contains('M')]\n",
    "len(vsag1_amg)"
   ]
  },
  {
   "cell_type": "code",
   "execution_count": 10,
   "id": "07612be7-2500-4c8a-8402-d41bb07c48c7",
   "metadata": {},
   "outputs": [
    {
     "data": {
      "text/plain": [
       "NA                                                                      6\n",
       "ferredoxin-nitrite reductase [EC:1.7.7.1]                               1\n",
       "3-methyl-2-oxobutanoate hydroxymethyltransferase [EC:2.1.2.11]          1\n",
       "GDP-D-mannose 3', 5'-epimerase [EC:5.1.3.18 5.1.3.-]                    1\n",
       "ribonucleoside-diphosphate reductase beta chain [EC:1.17.4.1]           1\n",
       "phosphoribosylformylglycinamidine cyclo-ligase [EC:6.3.3.1]             1\n",
       "phosphoribosylformylglycinamidine synthase subunit PurS [EC:6.3.5.3]    1\n",
       "cobaltochelatase CobS [EC:6.6.1.2]                                      1\n",
       "ferredoxin                                                              1\n",
       "Name: kegg_hit, dtype: int64"
      ]
     },
     "execution_count": 10,
     "metadata": {},
     "output_type": "execute_result"
    }
   ],
   "source": [
    "vsag1_amg['kegg_hit'].value_counts()"
   ]
  },
  {
   "cell_type": "code",
   "execution_count": 11,
   "id": "3c9121c1-7137-4207-a6c1-dd15c6e8b2ab",
   "metadata": {},
   "outputs": [
    {
     "data": {
      "text/plain": [
       "NA                                                                                                                         1\n",
       "YP_004324307.1 nucleotide-sugar epimerase [Synechococcus phage S-SSM7]                                                     1\n",
       "YP_004322358.1 cysteine dioxygenase [Synechococcus phage S-SM2]                                                            1\n",
       "YP_009810871.1 bifunctional heptose 7-phosphate kinase/heptose 1-phosphate adenyltransferase [Synechococcus phage S-T4]    1\n",
       "YP_004061678.1 nucleotide-sugar epimerase [Ostreococcus lucimarinus virus 1]                                               1\n",
       "YP_009172525.1 hypothetical protein APZ24_gp034 [Ostreococcus lucimarinus virus 2]                                         1\n",
       "YP_004322339.1 nucleotide-sugar epimerase [Synechococcus phage S-SM2]                                                      1\n",
       "YP_004322326.1 ribonucleoside diphosphate reductase small subunit [Synechococcus phage S-SM2]                              1\n",
       "YP_009791335.1 ribonucleotide reductase large subunit [Synechococcus phage Bellamy]                                        1\n",
       "YP_009320653.1 phosphoribosylaminoimidazole synthetase [Synechococcus phage S-CAM4]                                        1\n",
       "YP_007674478.1 5-phosphoribosylformylglycinamide amidotransferase [Synechococcus phage S-SKS1]                             1\n",
       "YP_214386.1 porphyrin biosynthesis [Prochlorococcus phage P-SSM2]                                                          1\n",
       "YP_004324849.1 Galactose-3-O-sulfotransferase [Prochlorococcus phage P-SSM7]                                               1\n",
       "YP_007674399.1 ferredoxin [Synechococcus phage S-SKS1]                                                                     1\n",
       "Name: viral_hit, dtype: int64"
      ]
     },
     "execution_count": 11,
     "metadata": {},
     "output_type": "execute_result"
    }
   ],
   "source": [
    "vsag1_amg['viral_hit'].value_counts()"
   ]
  },
  {
   "cell_type": "code",
   "execution_count": 12,
   "id": "b3cb3f8b-97da-4af1-99a6-639cbeee942a",
   "metadata": {},
   "outputs": [
    {
     "data": {
      "text/plain": [
       "Nitrite and sulphite reductase 4Fe-4S domain [PF01077.25]; Nitrite/Sulfite reductase ferredoxin-like half domain [PF03460.20]                                                                                      1\n",
       "NAD dependent epimerase/dehydratase family [PF01370.24]; GDP-mannose 4,6 dehydratase [PF16363.8]; RmlD substrate binding domain [PF04321.20]                                                                       1\n",
       "Mannose-6-phosphate isomerase [PF01050.21]; Cupin [PF00190.25]; D-lyxose isomerase [PF07385.15]                                                                                                                    1\n",
       "Cytidylyltransferase-like [PF01467.29]                                                                                                                                                                             1\n",
       "NAD dependent epimerase/dehydratase family [PF01370.24]; GDP-mannose 4,6 dehydratase [PF16363.8]; RmlD substrate binding domain [PF04321.20]; 3-beta hydroxysteroid dehydrogenase/isomerase family [PF01073.22]    1\n",
       "Ketopantoate hydroxymethyltransferase [PF02548.18]                                                                                                                                                                 1\n",
       "GDP-mannose 4,6 dehydratase [PF16363.8]; NAD dependent epimerase/dehydratase family [PF01370.24]; 3-beta hydroxysteroid dehydrogenase/isomerase family [PF01073.22]; RmlD substrate binding domain [PF04321.20]    1\n",
       "Ribonucleotide reductase, small chain [PF00268.24]                                                                                                                                                                 1\n",
       "Ribonucleotide reductase, barrel domain [PF02867.18]; Ribonucleotide reductase, all-alpha domain [PF00317.24]; ATP cone domain [PF03477.19]                                                                        1\n",
       "AIR synthase related protein, N-terminal domain [PF00586.27]; AIR synthase related protein, C-terminal domain [PF02769.25]                                                                                         1\n",
       "Phosphoribosylformylglycinamidine (FGAM) synthase [PF02700.17]                                                                                                                                                     1\n",
       "AAA domain (dynein-related subfamily) [PF07728.17]; CbbQ/NirQ/NorQ C-terminal [PF08406.13]                                                                                                                         1\n",
       "Sulfotransferase family [PF03567.17]                                                                                                                                                                               1\n",
       "2Fe-2S iron-sulfur cluster binding domain [PF00111.30]                                                                                                                                                             1\n",
       "Name: pfam_hits, dtype: int64"
      ]
     },
     "execution_count": 12,
     "metadata": {},
     "output_type": "execute_result"
    }
   ],
   "source": [
    "vsag1_amg['pfam_hits'].value_counts()"
   ]
  },
  {
   "cell_type": "markdown",
   "id": "75e199cd-6e14-4369-981a-6cb25704889c",
   "metadata": {},
   "source": [
    "### vSAG2"
   ]
  },
  {
   "cell_type": "code",
   "execution_count": 15,
   "id": "7f510320-39c1-4792-a3dd-719f609ff4fc",
   "metadata": {},
   "outputs": [
    {
     "data": {
      "text/plain": [
       "60"
      ]
     },
     "execution_count": 15,
     "metadata": {},
     "output_type": "execute_result"
    }
   ],
   "source": [
    "# How many genes does DRAM-v recognize?\n",
    "vsag2_annot = vsag2[vsag2['rank'] != 'E'] # E = no annotation\n",
    "len(vsag2_annot)"
   ]
  },
  {
   "cell_type": "code",
   "execution_count": 16,
   "id": "d19bebe5-6a8b-4d5b-a27a-41d14c7b3bec",
   "metadata": {},
   "outputs": [
    {
     "data": {
      "text/plain": [
       "4"
      ]
     },
     "execution_count": 16,
     "metadata": {},
     "output_type": "execute_result"
    }
   ],
   "source": [
    "# subset out AMGs\n",
    "vsag2_amg = vsag2_annot[vsag2_annot['amg_flags'].str.contains('M')]\n",
    "len(vsag2_amg)"
   ]
  },
  {
   "cell_type": "code",
   "execution_count": 17,
   "id": "218dd3cc-491b-470a-81cb-e989570a3d85",
   "metadata": {},
   "outputs": [
    {
     "data": {
      "text/plain": [
       "cobaltochelatase CobS [EC:6.6.1.2]             1\n",
       "NA                                             1\n",
       "nitrite reductase (NO-forming) [EC:1.7.2.1]    1\n",
       "small subunit ribosomal protein S21            1\n",
       "Name: kegg_hit, dtype: int64"
      ]
     },
     "execution_count": 17,
     "metadata": {},
     "output_type": "execute_result"
    }
   ],
   "source": [
    "vsag2_amg['kegg_hit'].value_counts()"
   ]
  },
  {
   "cell_type": "code",
   "execution_count": 18,
   "id": "25d52ac8-be62-4e0a-a98a-79fd10b5907a",
   "metadata": {},
   "outputs": [
    {
     "data": {
      "text/plain": [
       "NA                                                                    2\n",
       "YP_009325124.1 porphyrin biosynthesis [Synechococcus phage S-WAM1]    1\n",
       "YP_009810895.1 cytidyltransferase [Synechococcus phage S-T4]          1\n",
       "Name: viral_hit, dtype: int64"
      ]
     },
     "execution_count": 18,
     "metadata": {},
     "output_type": "execute_result"
    }
   ],
   "source": [
    "vsag2_amg['viral_hit'].value_counts()"
   ]
  },
  {
   "cell_type": "code",
   "execution_count": 19,
   "id": "118c52a5-6d3b-453e-9d05-02ad66f789c2",
   "metadata": {},
   "outputs": [
    {
     "data": {
      "text/plain": [
       "AAA domain (dynein-related subfamily) [PF07728.17]; ATPase family associated with various cellular activities (AAA) [PF07726.14]; P-loop containing dynein motor region [PF12775.10]; ATPase family associated with various cellular activities (AAA) [PF00004.32]    1\n",
       "Cytidylyltransferase-like [PF01467.29]                                                                                                                                                                                                                                1\n",
       "Multicopper oxidase [PF07732.18]                                                                                                                                                                                                                                      1\n",
       "Ribosomal protein S21 [PF01165.23]                                                                                                                                                                                                                                    1\n",
       "Name: pfam_hits, dtype: int64"
      ]
     },
     "execution_count": 19,
     "metadata": {},
     "output_type": "execute_result"
    }
   ],
   "source": [
    "vsag2_amg['pfam_hits'].value_counts()"
   ]
  },
  {
   "cell_type": "markdown",
   "id": "7345444e-d1eb-4f50-8e6a-1e89ea458a70",
   "metadata": {},
   "source": [
    "### vSAG3"
   ]
  },
  {
   "cell_type": "code",
   "execution_count": 21,
   "id": "e1c241e1-2b81-492f-a242-d72292fb51b5",
   "metadata": {},
   "outputs": [
    {
     "data": {
      "text/plain": [
       "19"
      ]
     },
     "execution_count": 21,
     "metadata": {},
     "output_type": "execute_result"
    }
   ],
   "source": [
    "# How many genes does DRAM-v recognize?\n",
    "vsag3_annot = vsag3[vsag3['rank'] != 'E'] # E = no annotation\n",
    "len(vsag3_annot)"
   ]
  },
  {
   "cell_type": "code",
   "execution_count": 22,
   "id": "98e98a89-c508-49a3-a7f1-8a5ee1f4af87",
   "metadata": {},
   "outputs": [
    {
     "data": {
      "text/plain": [
       "1"
      ]
     },
     "execution_count": 22,
     "metadata": {},
     "output_type": "execute_result"
    }
   ],
   "source": [
    "# subset out AMGs\n",
    "vsag3_amg = vsag3_annot[vsag3_annot['amg_flags'].str.contains('M')]\n",
    "len(vsag3_amg)"
   ]
  },
  {
   "cell_type": "code",
   "execution_count": 23,
   "id": "419567de-85b0-424d-81d8-f75c938ecd14",
   "metadata": {},
   "outputs": [
    {
     "data": {
      "text/plain": [
       "NA    1\n",
       "Name: kegg_hit, dtype: int64"
      ]
     },
     "execution_count": 23,
     "metadata": {},
     "output_type": "execute_result"
    }
   ],
   "source": [
    "vsag3_amg['kegg_hit'].value_counts()"
   ]
  },
  {
   "cell_type": "code",
   "execution_count": 24,
   "id": "9cdf506c-7b7f-4aa6-8499-30400e98d0ea",
   "metadata": {},
   "outputs": [
    {
     "data": {
      "text/plain": [
       "YP_005087467.1 ribonucleotide reductase [Cyanophage NATL1A-7]    1\n",
       "Name: viral_hit, dtype: int64"
      ]
     },
     "execution_count": 24,
     "metadata": {},
     "output_type": "execute_result"
    }
   ],
   "source": [
    "vsag3_amg['viral_hit'].value_counts()"
   ]
  },
  {
   "cell_type": "code",
   "execution_count": 25,
   "id": "ae229482-7fb2-4cae-9029-582029596016",
   "metadata": {},
   "outputs": [
    {
     "data": {
      "text/plain": [
       "Ribonucleotide reductase, barrel domain [PF02867.18]    1\n",
       "Name: pfam_hits, dtype: int64"
      ]
     },
     "execution_count": 25,
     "metadata": {},
     "output_type": "execute_result"
    }
   ],
   "source": [
    "vsag3_amg['pfam_hits'].value_counts()"
   ]
  },
  {
   "cell_type": "markdown",
   "id": "4c3d3a39-e2da-47e4-a1f4-1db4319fc5d0",
   "metadata": {},
   "source": [
    "### vSAG4"
   ]
  },
  {
   "cell_type": "code",
   "execution_count": 27,
   "id": "408ca09d-6d1d-49d9-908a-d1d638450526",
   "metadata": {},
   "outputs": [
    {
     "data": {
      "text/plain": [
       "10"
      ]
     },
     "execution_count": 27,
     "metadata": {},
     "output_type": "execute_result"
    }
   ],
   "source": [
    "# How many genes does DRAM-v recognize?\n",
    "vsag4_annot = vsag4[vsag4['rank'] != 'E'] # E = no annotation\n",
    "len(vsag4_annot)"
   ]
  },
  {
   "cell_type": "code",
   "execution_count": 28,
   "id": "411f9a1f-3f73-46ab-b910-1cc0c77b6be6",
   "metadata": {},
   "outputs": [
    {
     "data": {
      "text/plain": [
       "1"
      ]
     },
     "execution_count": 28,
     "metadata": {},
     "output_type": "execute_result"
    }
   ],
   "source": [
    "# subset out AMGs\n",
    "vsag4_amg = vsag4_annot[vsag4_annot['amg_flags'].str.contains('M')]\n",
    "len(vsag4_amg)"
   ]
  },
  {
   "cell_type": "code",
   "execution_count": 29,
   "id": "523cf230-53e9-426d-891d-1470d0641d5b",
   "metadata": {},
   "outputs": [
    {
     "data": {
      "text/plain": [
       "NA    1\n",
       "Name: kegg_hit, dtype: int64"
      ]
     },
     "execution_count": 29,
     "metadata": {},
     "output_type": "execute_result"
    }
   ],
   "source": [
    "vsag4_amg['kegg_hit'].value_counts()"
   ]
  },
  {
   "cell_type": "code",
   "execution_count": 30,
   "id": "325225a4-daa3-4203-82e5-a4df91dbcf88",
   "metadata": {},
   "outputs": [
    {
     "data": {
      "text/plain": [
       "YP_009831807.1 ribonucleotide-diphosphate reductase [Streptomyces phage BRock]    1\n",
       "Name: viral_hit, dtype: int64"
      ]
     },
     "execution_count": 30,
     "metadata": {},
     "output_type": "execute_result"
    }
   ],
   "source": [
    "vsag4_amg['viral_hit'].value_counts()"
   ]
  },
  {
   "cell_type": "code",
   "execution_count": 31,
   "id": "47a405c1-dd0e-4e80-93d2-de0f79b6fd99",
   "metadata": {},
   "outputs": [
    {
     "data": {
      "text/plain": [
       "Ribonucleotide reductase, barrel domain [PF02867.18]    1\n",
       "Name: pfam_hits, dtype: int64"
      ]
     },
     "execution_count": 31,
     "metadata": {},
     "output_type": "execute_result"
    }
   ],
   "source": [
    "vsag4_amg['pfam_hits'].value_counts()"
   ]
  },
  {
   "cell_type": "markdown",
   "id": "e5d1a21c-065e-48c0-94f1-b4c0b11866d7",
   "metadata": {},
   "source": [
    "### vSAG5"
   ]
  },
  {
   "cell_type": "code",
   "execution_count": 33,
   "id": "75c9b461-f423-41a8-bade-b38a45e3a782",
   "metadata": {},
   "outputs": [
    {
     "data": {
      "text/plain": [
       "52"
      ]
     },
     "execution_count": 33,
     "metadata": {},
     "output_type": "execute_result"
    }
   ],
   "source": [
    "# How many genes does DRAM-v recognize?\n",
    "vsag5_annot = vsag5[vsag5['rank'] != 'E'] # E = no annotation\n",
    "len(vsag5_annot)"
   ]
  },
  {
   "cell_type": "code",
   "execution_count": 34,
   "id": "58e6ff28-8ebc-47a8-901a-870ef307afdb",
   "metadata": {},
   "outputs": [
    {
     "data": {
      "text/plain": [
       "11"
      ]
     },
     "execution_count": 34,
     "metadata": {},
     "output_type": "execute_result"
    }
   ],
   "source": [
    "# subset out AMGs\n",
    "vsag5_amg = vsag5_annot[vsag5_annot['amg_flags'].str.contains('M')]\n",
    "len(vsag5_amg)"
   ]
  },
  {
   "cell_type": "code",
   "execution_count": 35,
   "id": "3e18ab0a-44a5-4ecd-af07-5650de1f2ef4",
   "metadata": {},
   "outputs": [
    {
     "data": {
      "text/plain": [
       "NA                                                                                      5\n",
       "small subunit ribosomal protein S21                                                     1\n",
       "ribonucleoside-diphosphate reductase beta chain [EC:1.17.4.1]                           1\n",
       "ribonucleoside-diphosphate reductase alpha chain [EC:1.17.4.1]                          1\n",
       "GTP cyclohydrolase IA [EC:3.5.4.16]                                                     1\n",
       "6-pyruvoyltetrahydropterin/6-carboxytetrahydropterin synthase [EC:4.2.3.12 4.1.2.50]    1\n",
       "large subunit ribosomal protein L31                                                     1\n",
       "Name: kegg_hit, dtype: int64"
      ]
     },
     "execution_count": 35,
     "metadata": {},
     "output_type": "execute_result"
    }
   ],
   "source": [
    "vsag5_amg['kegg_hit'].value_counts()"
   ]
  },
  {
   "cell_type": "code",
   "execution_count": 36,
   "id": "86f6503a-da6e-4e5f-a07b-739154d07848",
   "metadata": {},
   "outputs": [
    {
     "data": {
      "text/plain": [
       "NA                                                                                                              4\n",
       "YP_010761232.1 S-adenosylmethionine decarboxylase proenzyme (TIGR03330) [uncultured phage_MedDCM-OCT-S35-C6]    1\n",
       "YP_214387.1 2OG-Fe(II) oxygenase [Prochlorococcus phage P-SSM2]                                                 1\n",
       "YP_009810888.1 ribonucleoside diphosphate reductase small subunit [Synechococcus phage S-T4]                    1\n",
       "YP_009140943.1 ribonucleotide reductase large subunit [Synechococcus phage ACG-2014i]                           1\n",
       "YP_010114473.1 GTP cyclohydrolase [Flavobacterium phage vB_FspM_immuto_2-6A]                                    1\n",
       "YP_010678988.1 QueD-like 6-pyruvoyl-tetrahydropterin synthase [Pseudomonas phage vB_PaeM_PA5oct]                1\n",
       "YP_007677334.1 cytidyltransferase [Synechococcus phage S-SSM4]                                                  1\n",
       "Name: viral_hit, dtype: int64"
      ]
     },
     "execution_count": 36,
     "metadata": {},
     "output_type": "execute_result"
    }
   ],
   "source": [
    "vsag5_amg['viral_hit'].value_counts()"
   ]
  },
  {
   "cell_type": "code",
   "execution_count": 37,
   "id": "20e826a6-afd7-44be-9ab8-0134e1d13940",
   "metadata": {},
   "outputs": [
    {
     "data": {
      "text/plain": [
       "S-adenosylmethionine decarboxylase [PF02675.18]                                                                                                1\n",
       "Putative 2OG-Fe(II) oxygenase [PF13759.9]                                                                                                      1\n",
       "Cadherin domain [PF00028.20]                                                                                                                   1\n",
       "Sulfotransferase family [PF03567.17]                                                                                                           1\n",
       "NA                                                                                                                                             1\n",
       "Ribonucleotide reductase, small chain [PF00268.24]                                                                                             1\n",
       "Ribonucleotide reductase, barrel domain [PF02867.18]; Ribonucleotide reductase, all-alpha domain [PF00317.24]; ATP cone domain [PF03477.19]    1\n",
       "GTP cyclohydrolase I [PF01227.25]                                                                                                              1\n",
       "6-pyruvoyl tetrahydropterin synthase [PF01242.22]                                                                                              1\n",
       "Ribosomal protein L31 [PF01197.21]                                                                                                             1\n",
       "5' nucleotidase, deoxy (Pyrimidine), cytosolic type C protein (NT5C) [PF06941.15]; Cytidylyltransferase-like [PF01467.29]                      1\n",
       "Name: pfam_hits, dtype: int64"
      ]
     },
     "execution_count": 37,
     "metadata": {},
     "output_type": "execute_result"
    }
   ],
   "source": [
    "vsag5_amg['pfam_hits'].value_counts()"
   ]
  },
  {
   "cell_type": "markdown",
   "id": "b0abab91-e0f1-41dd-9744-d52758cca57a",
   "metadata": {},
   "source": [
    "## vMAGs"
   ]
  },
  {
   "cell_type": "markdown",
   "id": "25c45f1f-4b1d-4429-b7c7-151bc490f2aa",
   "metadata": {},
   "source": [
    "### vMAG1"
   ]
  },
  {
   "cell_type": "code",
   "execution_count": 39,
   "id": "8db52f3f-af33-4def-8a3b-20f94ac33b9e",
   "metadata": {},
   "outputs": [
    {
     "data": {
      "text/plain": [
       "20"
      ]
     },
     "execution_count": 39,
     "metadata": {},
     "output_type": "execute_result"
    }
   ],
   "source": [
    "# How many genes does DRAM-v recognize?\n",
    "vmag1_annot = vmag1[vmag1['rank'] != 'E'] # E = no annotation\n",
    "len(vmag1_annot)"
   ]
  },
  {
   "cell_type": "code",
   "execution_count": 40,
   "id": "6ff9a433-fa83-4954-ab64-44e577efd848",
   "metadata": {},
   "outputs": [
    {
     "data": {
      "text/plain": [
       "0"
      ]
     },
     "execution_count": 40,
     "metadata": {},
     "output_type": "execute_result"
    }
   ],
   "source": [
    "# subset out AMGs\n",
    "vmag1_amg = vmag1_annot[vmag1_annot['amg_flags'].str.contains('M')]\n",
    "len(vmag1_amg)"
   ]
  },
  {
   "cell_type": "markdown",
   "id": "12f052cb-0d0e-4e90-8dc8-4de99e0bec75",
   "metadata": {},
   "source": [
    "### vMAG2"
   ]
  },
  {
   "cell_type": "code",
   "execution_count": 45,
   "id": "fdf9aec6-9cbf-42b6-88e1-9e96dc48b4e9",
   "metadata": {},
   "outputs": [
    {
     "data": {
      "text/plain": [
       "9"
      ]
     },
     "execution_count": 45,
     "metadata": {},
     "output_type": "execute_result"
    }
   ],
   "source": [
    "# How many genes does DRAM-v recognize?\n",
    "vmag2_annot = vmag2[vmag2['rank'] != 'E'] # E = no annotation\n",
    "len(vmag2_annot)"
   ]
  },
  {
   "cell_type": "code",
   "execution_count": 46,
   "id": "da0e7413-74c3-4a89-8604-37f73786f31a",
   "metadata": {},
   "outputs": [
    {
     "data": {
      "text/plain": [
       "2"
      ]
     },
     "execution_count": 46,
     "metadata": {},
     "output_type": "execute_result"
    }
   ],
   "source": [
    "# subset out AMGs\n",
    "vmag2_amg = vmag2_annot[vmag2_annot['amg_flags'].str.contains('M')]\n",
    "len(vmag2_amg)"
   ]
  },
  {
   "cell_type": "code",
   "execution_count": 48,
   "id": "29b5bded-e8f2-4e03-ba42-8f94668d94ff",
   "metadata": {},
   "outputs": [
    {
     "data": {
      "text/plain": [
       "GTP cyclohydrolase IA [EC:3.5.4.16]    1\n",
       "NA                                     1\n",
       "Name: kegg_hit, dtype: int64"
      ]
     },
     "execution_count": 48,
     "metadata": {},
     "output_type": "execute_result"
    }
   ],
   "source": [
    "vmag2_amg['kegg_hit'].value_counts()"
   ]
  },
  {
   "cell_type": "code",
   "execution_count": 49,
   "id": "99b5769a-58f2-4af4-b453-a35a62835cfd",
   "metadata": {},
   "outputs": [
    {
     "data": {
      "text/plain": [
       "YP_008125321.1 GTP cyclohydrolase [Vibrio phage nt-1]    1\n",
       "NA                                                       1\n",
       "Name: viral_hit, dtype: int64"
      ]
     },
     "execution_count": 49,
     "metadata": {},
     "output_type": "execute_result"
    }
   ],
   "source": [
    "vmag2_amg['viral_hit'].value_counts()"
   ]
  },
  {
   "cell_type": "code",
   "execution_count": 50,
   "id": "f689eba6-b01f-4564-89e2-64f62520f7fc",
   "metadata": {},
   "outputs": [
    {
     "data": {
      "text/plain": [
       "GTP cyclohydrolase I [PF01227.25]                   1\n",
       "Queuosine biosynthesis protein QueC [PF06508.16]    1\n",
       "Name: pfam_hits, dtype: int64"
      ]
     },
     "execution_count": 50,
     "metadata": {},
     "output_type": "execute_result"
    }
   ],
   "source": [
    "vmag2_amg['pfam_hits'].value_counts()"
   ]
  },
  {
   "cell_type": "markdown",
   "id": "53a20b73-20fb-4c26-a239-e8f818e1b8a7",
   "metadata": {},
   "source": [
    "### vMAG3"
   ]
  },
  {
   "cell_type": "code",
   "execution_count": 52,
   "id": "e6d80052-3e31-49de-b533-3178dbd7be02",
   "metadata": {},
   "outputs": [
    {
     "data": {
      "text/plain": [
       "3"
      ]
     },
     "execution_count": 52,
     "metadata": {},
     "output_type": "execute_result"
    }
   ],
   "source": [
    "# How many genes does DRAM-v recognize?\n",
    "vmag3_annot = vmag3[vmag3['rank'] != 'E'] # E = no annotation\n",
    "len(vmag3_annot)"
   ]
  },
  {
   "cell_type": "code",
   "execution_count": 53,
   "id": "842f2f30-672b-4643-9233-f7c9ca3c2d83",
   "metadata": {},
   "outputs": [
    {
     "data": {
      "text/plain": [
       "0"
      ]
     },
     "execution_count": 53,
     "metadata": {},
     "output_type": "execute_result"
    }
   ],
   "source": [
    "# subset out AMGs\n",
    "vmag3_amg = vmag3_annot[vmag3_annot['amg_flags'].str.contains('M')]\n",
    "len(vmag3_amg)"
   ]
  },
  {
   "cell_type": "markdown",
   "id": "e2b22f13-417c-4530-b461-f8ec429fd8f6",
   "metadata": {},
   "source": [
    "### vMAG4"
   ]
  },
  {
   "cell_type": "code",
   "execution_count": 56,
   "id": "a70d4923-bc18-45a2-8a5a-9cbc5cdca1fe",
   "metadata": {},
   "outputs": [
    {
     "data": {
      "text/plain": [
       "8"
      ]
     },
     "execution_count": 56,
     "metadata": {},
     "output_type": "execute_result"
    }
   ],
   "source": [
    "# How many genes does DRAM-v recognize?\n",
    "vmag4_annot = vmag4[vmag4['rank'] != 'E'] # E = no annotation\n",
    "len(vmag4_annot)"
   ]
  },
  {
   "cell_type": "code",
   "execution_count": 57,
   "id": "090a18af-7bda-4e52-819c-d604127caf5b",
   "metadata": {},
   "outputs": [
    {
     "data": {
      "text/plain": [
       "0"
      ]
     },
     "execution_count": 57,
     "metadata": {},
     "output_type": "execute_result"
    }
   ],
   "source": [
    "# subset out AMGs\n",
    "vmag4_amg = vmag4_annot[vmag4_annot['amg_flags'].str.contains('M')]\n",
    "len(vmag4_amg)"
   ]
  },
  {
   "cell_type": "markdown",
   "id": "fded99e4-9931-4d5b-9ad6-cba53fac8f0e",
   "metadata": {},
   "source": [
    "### vMAG5"
   ]
  },
  {
   "cell_type": "code",
   "execution_count": 58,
   "id": "e1c4c650-c940-4ce4-bcf4-726794524a34",
   "metadata": {},
   "outputs": [
    {
     "data": {
      "text/plain": [
       "19"
      ]
     },
     "execution_count": 58,
     "metadata": {},
     "output_type": "execute_result"
    }
   ],
   "source": [
    "# How many genes does DRAM-v recognize?\n",
    "vmag5_annot = vmag5[vmag5['rank'] != 'E'] # E = no annotation\n",
    "len(vmag5_annot)"
   ]
  },
  {
   "cell_type": "code",
   "execution_count": 59,
   "id": "168c384f-68fc-440c-92e5-a99583fd0336",
   "metadata": {},
   "outputs": [
    {
     "data": {
      "text/plain": [
       "2"
      ]
     },
     "execution_count": 59,
     "metadata": {},
     "output_type": "execute_result"
    }
   ],
   "source": [
    "# subset out AMGs\n",
    "vmag5_amg = vmag5_annot[vmag5_annot['amg_flags'].str.contains('M')]\n",
    "len(vmag5_amg)"
   ]
  },
  {
   "cell_type": "code",
   "execution_count": 60,
   "id": "056f1890-002b-497a-8fe2-b553cd27597a",
   "metadata": {},
   "outputs": [
    {
     "data": {
      "text/plain": [
       "NA    2\n",
       "Name: kegg_hit, dtype: int64"
      ]
     },
     "execution_count": 60,
     "metadata": {},
     "output_type": "execute_result"
    }
   ],
   "source": [
    "vmag5_amg['kegg_hit'].value_counts()"
   ]
  },
  {
   "cell_type": "code",
   "execution_count": 61,
   "id": "9c6a3588-76ec-49ab-8981-6e017346222b",
   "metadata": {},
   "outputs": [
    {
     "data": {
      "text/plain": [
       "YP_009210858.1 carboxylate deaminase [Mycobacterium phage Vincenzo]    1\n",
       "NA                                                                     1\n",
       "Name: viral_hit, dtype: int64"
      ]
     },
     "execution_count": 61,
     "metadata": {},
     "output_type": "execute_result"
    }
   ],
   "source": [
    "vmag5_amg['viral_hit'].value_counts()"
   ]
  },
  {
   "cell_type": "code",
   "execution_count": null,
   "id": "40374f36-1eec-49fc-ba01-61cf1f2f17d4",
   "metadata": {},
   "outputs": [],
   "source": []
  }
 ],
 "metadata": {
  "kernelspec": {
   "display_name": "Python 3 (ipykernel)",
   "language": "python",
   "name": "python3"
  },
  "language_info": {
   "codemirror_mode": {
    "name": "ipython",
    "version": 3
   },
   "file_extension": ".py",
   "mimetype": "text/x-python",
   "name": "python",
   "nbconvert_exporter": "python",
   "pygments_lexer": "ipython3",
   "version": "3.9.12"
  }
 },
 "nbformat": 4,
 "nbformat_minor": 5
}
