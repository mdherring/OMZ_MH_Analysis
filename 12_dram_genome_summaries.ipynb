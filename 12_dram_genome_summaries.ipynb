{
 "cells": [
  {
   "cell_type": "markdown",
   "id": "95c75aa0-6571-4ea0-9355-1b59390bced2",
   "metadata": {},
   "source": [
    "# 12_dram_genome_summaries"
   ]
  },
  {
   "cell_type": "markdown",
   "id": "3a5353da-7fca-482e-9524-175ee043343e",
   "metadata": {},
   "source": [
    "This document includes an example command to run DRAM on host genomes and DRAM-v on both vMAGs and vSAGs, as well as summaries of the ouput of dram of the 10 selected genomes in the 10_interesting_virus_host_pairs jupyter notebook.\n",
    "\n",
    "\n",
    "| virus name     | variable name | type | sample depth |\n",
    "|----------------|---------------|------| ------------ |\n",
    "| vir_AM-654-B04 | vsag1         | vSAG | 80           |\n",
    "| vir_AM-654-E17 | vsag2         | vSAG | 80           |         \n",
    "| vir_AM-656-P04 | vsag3         | vSAG | 95           |\n",
    "| vir_AM-662-D22 | vsag4         | vSAG | 140          |\n",
    "| vir_AM-666-P13 | vsag5         | vSAG | 400          |\n",
    "| jv119_vMAG_29  | vmag1         | vMAG | 400          |          \n",
    "| jv119_vMAG_32  | vmag2         | vMAG | 400          |\n",
    "| jv121_vMAG_31  | vmag3         | vMAG | 95           |\n",
    "| jv154_vMAG_31  | vmag4         | vMAG | 140          |\n",
    "| jv154_vMAG_44  | vmag5         | vMAG | 140          |"
   ]
  },
  {
   "cell_type": "markdown",
   "id": "c8383b11-c67b-462b-af8a-0d43125c0b67",
   "metadata": {},
   "source": [
    "## DRAM command line code examples"
   ]
  },
  {
   "cell_type": "code",
   "execution_count": null,
   "id": "4ae17b98-2a77-4346-b2a3-fa96ad956da0",
   "metadata": {},
   "outputs": [],
   "source": [
    "# DRAM- for hosts\n",
    "\n",
    "DRAM.py annotate \\\n",
    "-i 'input_file_path' \\ \n",
    "-o output_folder_name\n",
    "\n",
    "DRAM.py distill \\\n",
    "-i annot_output_folder/annotations.tsv \\\n",
    "-o distill_output_folder_name \\\n",
    "--trna_path annot_output_folder/trnas.tsv \\\n",
    "--rrna_path annot_output_folder/rrnas.tsv\n",
    "\n",
    "# example using a single host SAG file on my laptop\n",
    "\n",
    "DRAM.py annotate \\\n",
    "-i '~/Documents/Bigelow/Virus_Project/OMZ_MH_Analysis/Data/genomes/sag_hosts/AM-656-B04_nvcontigs.fasta' \\\n",
    "-o annotations\n",
    "\n",
    "DRAM.py distill \\\n",
    "-i annotations/annotations.tsv \\\n",
    "-o distill \\\n",
    "--trna_path annotations/trnas.tsv \\\n",
    "--rrna_path annotations/rrnas.tsv"
   ]
  },
  {
   "cell_type": "code",
   "execution_count": null,
   "id": "861afa02-dd7d-4e98-bdb2-4c2e74c8bbb0",
   "metadata": {},
   "outputs": [],
   "source": [
    "# DRAM-v\n",
    "\n",
    "# First, run contigs trough VirSorter to identify the viral contigs. Then concatenate viral contigs into a single file. \n",
    "# Run the concatenated fasta file and the VIRSorter_affi-contigs.tab file through DRAM-v.\n",
    "\n",
    "DRAM-v.py annotate \\\n",
    "-i input_viral_path \\\n",
    "-v VIRSorter_affi-contigs.tab \\\n",
    "-o output_folder_name\n",
    "\n",
    "DRAM-v.py distill \\\n",
    "-i annot_output_folder/annotations.tsv \\\n",
    "-o distill\n",
    "\n",
    "# example using a single vSAG file on my laptop\n",
    "\n",
    "DRAM-v.py annotate \\\n",
    "-i '~/Documents/Bigelow/Virus_Project/OMZ_MH_Analysis/Data/genomes/vsags/cv1_AM-656-B04.fasta' \\\n",
    "-v VIRSorter_affi-contigs.tab \\\n",
    "-o distill"
   ]
  }
 ],
 "metadata": {
  "kernelspec": {
   "display_name": "Python 3 (ipykernel)",
   "language": "python",
   "name": "python3"
  },
  "language_info": {
   "codemirror_mode": {
    "name": "ipython",
    "version": 3
   },
   "file_extension": ".py",
   "mimetype": "text/x-python",
   "name": "python",
   "nbconvert_exporter": "python",
   "pygments_lexer": "ipython3",
   "version": "3.9.12"
  }
 },
 "nbformat": 4,
 "nbformat_minor": 5
}
