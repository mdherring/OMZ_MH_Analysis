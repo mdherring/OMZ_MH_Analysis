{
 "cells": [
  {
   "cell_type": "markdown",
   "id": "95c75aa0-6571-4ea0-9355-1b59390bced2",
   "metadata": {},
   "source": [
    "# 11_dram_genome_summaries"
   ]
  },
  {
   "cell_type": "markdown",
   "id": "3a5353da-7fca-482e-9524-175ee043343e",
   "metadata": {},
   "source": [
    "This document summarizes the ouput of dram of the 10 selected genomes in the 10_interesting_virus_host_pairs jupyter notebook, which was run on Galaxy. Each of the viruses were run separately. All output files are uploaded to google drive folder MH_project > prokka_output with edited file names that include virus name. There are separate histories in Galaxy for vsags and vmags.\n",
    "\n",
    "\n",
    "\n",
    "work flow on galaxy : dram annotate > dram distallate"
   ]
  }
 ],
 "metadata": {
  "kernelspec": {
   "display_name": "Python 3 (ipykernel)",
   "language": "python",
   "name": "python3"
  },
  "language_info": {
   "codemirror_mode": {
    "name": "ipython",
    "version": 3
   },
   "file_extension": ".py",
   "mimetype": "text/x-python",
   "name": "python",
   "nbconvert_exporter": "python",
   "pygments_lexer": "ipython3",
   "version": "3.9.12"
  }
 },
 "nbformat": 4,
 "nbformat_minor": 5
}
