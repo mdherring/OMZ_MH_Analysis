{
 "cells": [
  {
   "cell_type": "markdown",
   "id": "d30d2df4-139a-4ecd-95ab-39c820a66e20",
   "metadata": {},
   "source": [
    "# 03_create_merged_mag_gtdb_table\n",
    "\n",
    "Run this notebook to create a merged data frame of both the archaea and bacteria for all samples."
   ]
  },
  {
   "cell_type": "code",
   "execution_count": 20,
   "id": "75a6d3ee-98d7-47b4-94d0-05b74763ea03",
   "metadata": {},
   "outputs": [],
   "source": [
    "import pandas as pd\n",
    "import os\n",
    "import os.path as op\n",
    "import sys\n",
    "import csv\n",
    "import numpy as np\n",
    "import matplotlib\n",
    "import glob\n",
    "import seaborn as sns\n",
    "from collections import Counter\n",
    "import matplotlib.pyplot as plt\n",
    "\n",
    "def split_classification(df):\n",
    "    df[['domain','phyla','class','order','family','genus','species']] = df.classification.str.split(';', expand=True)\n",
    "    df['domain'] = df['domain'].str.replace('d__', '')\n",
    "    df['phyla'] = df['phyla'].str.replace('p__', '')\n",
    "    df['class'] = df['class'].str.replace('c__', '')\n",
    "    df['order'] = df['order'].str.replace('o__', '')\n",
    "    df['family'] = df['family'].str.replace('f__', '')\n",
    "    df['genus'] = df['genus'].str.replace('g__', '')\n",
    "    df['species'] = df['species'].str.replace('s__', '')\n",
    "    return df\n",
    "\n",
    "m_path = '/Users/melissaherring/Google Drive/My Drive/MH_project/'\n",
    "#j_path = '/Users/juliabrown/Google Drive/My Drive/projects/OMZvir_round2/MH_project/'\n",
    "\n",
    "jv119_arc = pd.read_csv(op.join(m_path,'data/mag_data/jv-119_gtdbtk/jv-119.ar53.summary.tsv'),sep='\\t')\n",
    "jv119_bac = pd.read_csv(op.join(m_path,'data/mag_data/jv-119_gtdbtk/jv-119.bac120.summary.tsv'),sep='\\t')\n",
    "jv121_arc = pd.read_csv(op.join(m_path,'data/mag_data/jv-121_gtdbtk/jv-121.ar53.summary.tsv'),sep='\\t')\n",
    "jv121_bac = pd.read_csv(op.join(m_path,'data/mag_data/jv-121_gtdbtk/jv-121.bac120.summary.tsv'),sep='\\t')\n",
    "jv132_arc = pd.read_csv(op.join(m_path,'data/mag_data/jv-132_gtdbtk/jv-132.ar53.summary.tsv'),sep='\\t')\n",
    "jv132_bac = pd.read_csv(op.join(m_path,'data/mag_data/jv-132_gtdbtk/jv-132.bac120.summary.tsv'),sep='\\t')\n",
    "jv154_arc = pd.read_csv(op.join(m_path,'data/mag_data/jv-154_gtdbtk/jv-154.ar53.summary.tsv'),sep='\\t')\n",
    "jv154_bac = pd.read_csv(op.join(m_path,'data/mag_data/jv-154_gtdbtk/jv-154.bac120.summary.tsv'),sep='\\t')\n",
    "\n",
    "# create sample_name column\n",
    "jv119_arc['sample_name'] = \"JV119\"\n",
    "jv119_bac['sample_name'] = \"JV119\"\n",
    "jv121_arc['sample_name'] = \"JV121\"\n",
    "jv121_bac['sample_name'] = \"JV121\"\n",
    "jv132_arc['sample_name'] = \"JV132\"\n",
    "jv132_bac['sample_name'] = \"JV132\"\n",
    "jv154_arc['sample_name'] = \"JV154\"\n",
    "jv154_bac['sample_name'] = \"JV154\"\n",
    "\n",
    "# create sample_depth column\n",
    "jv119_arc['sample_depth'] = 400\n",
    "jv119_bac['sample_depth'] = 400\n",
    "jv121_arc['sample_depth'] = 95\n",
    "jv121_bac['sample_depth'] = 95\n",
    "jv132_arc['sample_depth'] = 80\n",
    "jv132_bac['sample_depth'] = 80\n",
    "jv154_arc['sample_depth'] = 140\n",
    "jv154_bac['sample_depth'] = 140\n",
    "\n",
    "# combine all data frames into one data set\n",
    "combo = pd.concat([jv119_arc, jv119_bac, jv121_arc, jv121_bac, jv132_arc, jv132_bac, jv154_arc, jv154_bac])\n",
    "\n",
    "# split the classification into tax level columns and rename\n",
    "combo = split_classification(combo)\n",
    "\n",
    "#combo.to_csv(op.join(m_path,'tables/merged_mag_gtdb_table.csv'), index=False)"
   ]
  }
 ],
 "metadata": {
  "kernelspec": {
   "display_name": "Python 3 (ipykernel)",
   "language": "python",
   "name": "python3"
  },
  "language_info": {
   "codemirror_mode": {
    "name": "ipython",
    "version": 3
   },
   "file_extension": ".py",
   "mimetype": "text/x-python",
   "name": "python",
   "nbconvert_exporter": "python",
   "pygments_lexer": "ipython3",
   "version": "3.9.12"
  }
 },
 "nbformat": 4,
 "nbformat_minor": 5
}
