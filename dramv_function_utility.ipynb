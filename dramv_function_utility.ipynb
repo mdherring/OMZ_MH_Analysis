{
 "cells": [
  {
   "cell_type": "code",
   "execution_count": 4,
   "id": "9ad23114-1791-4f60-8dc0-63e770c743f6",
   "metadata": {},
   "outputs": [],
   "source": [
    "import pandas as pd\n",
    "import math\n",
    "\n",
    "def get_ann_text(hit_text, column_type = 'viral_hit'):\n",
    "    '''\n",
    "    args:\n",
    "        hit_text: text string from DRAMv for 'viral_hit' column\n",
    "    returns:\n",
    "        text string of just annotation information, not organism or hit id\n",
    "    \n",
    "    exe_input: YP_004325053.1 hypothetical protein PSSM7_226 [Prochlorococcus phage P-SSM7]\n",
    "    exe_output: hypothetical protein PSSM7_226\n",
    "    '''\n",
    "    \n",
    "    if type(hit_text) == float:\n",
    "        return hit_text\n",
    "    \n",
    "    if column_type == 'viral_hit':\n",
    "        no_org = hit_text.split(\"[\")[0]\n",
    "        no_acc_id = \" \".join(no_org.split(\" \")[1:-1])\n",
    "        return no_acc_id\n",
    "    \n",
    "    if column_type in ['kegg_hit']:\n",
    "        no_ee = hit_text.split(\"[\")[0].strip()\n",
    "        return no_ee\n",
    "    \n",
    "    if column_type == 'pfam_hits':\n",
    "        no_pf_ids = \";\".join([text.split(\"[\")[0].strip() for text in hit_text.split(\";\")])\n",
    "        return no_pf_ids\n",
    "    \n",
    "    if column_type == 'vogdb_hits':\n",
    "        '''sp|Q5UQ62|YR655_MIMIV Putative glycosyltransferase R655; Xh'''\n",
    "        no_code = hit_text.split(\";\")[0]\n",
    "        no_acc = \" \".join(no_code.split(\" \")[1:])\n",
    "        return no_acc\n",
    "                                 \n",
    "        \n",
    "def grab_annotation(line):\n",
    "    col_preference = ['kegg_hit', 'pfam_hits', 'viral_hit', 'vogdb_hits']\n",
    "\n",
    "    for col in col_preference:\n",
    "        if type(line[col]) != str:\n",
    "            continue\n",
    "        elif 'hypothetical' not in line[col]:\n",
    "            keep_text = get_ann_text(line[col], column_type = col)\n",
    "            keep_source = col\n",
    "            return keep_text, keep_source\n",
    "        else:\n",
    "            continue\n",
    "            \n",
    "    for col in col_preference:\n",
    "        if type(line[col]) != str:\n",
    "            continue\n",
    "        else:\n",
    "            keep_text = get_ann_text(line[col], column_type = col)\n",
    "            keep_source = col\n",
    "            return keep_text, keep_source\n",
    "    \n",
    "    return math.nan, math.nan\n",
    "\n",
    "def load_dramv(path_to_dramv):\n",
    "    df = pd.read_csv(path_to_dramv, sep = \"\\t\")\n",
    "    df[['annotation','annotation_source']] = df.apply(grab_annotation, axis=1, result_type='expand')\n",
    "    return df"
   ]
  },
  {
   "cell_type": "code",
   "execution_count": 5,
   "id": "bfbbbb27-9a3f-4089-9052-19c06d43d67d",
   "metadata": {},
   "outputs": [],
   "source": [
    "exe_dramv = \"/Users/juliabrown/Google Drive/My Drive/projects/OMZvir_round2/MH_project/dramv/cv1_AM-654-B04/annotations.tsv\"\n",
    "df = load_dramv(exe_dramv)"
   ]
  },
  {
   "cell_type": "code",
   "execution_count": 7,
   "id": "27245da4-8915-4b95-a89d-00f8fa63f606",
   "metadata": {},
   "outputs": [],
   "source": [
    "import glob"
   ]
  },
  {
   "cell_type": "code",
   "execution_count": 8,
   "id": "ecc935e6-8a3d-466a-aae9-9c27a2af39fe",
   "metadata": {},
   "outputs": [],
   "source": [
    "# how you might access annotation tables on google drive:\n",
    "dramv_tbls = glob.glob(\"/Users/juliabrown/Google Drive/My Drive/projects/OMZvir_round2/MH_project/dramv/*/annotations.tsv\")"
   ]
  },
  {
   "cell_type": "code",
   "execution_count": null,
   "id": "6dcacb37-cfaa-4444-9e0c-9dfb6f6e9725",
   "metadata": {},
   "outputs": [],
   "source": [
    "for annotation_file in dramv_tbls:\n",
    "    df = load_dramv(annotation_file)\n",
    "    '''\n",
    "    # summarize dramv results here\n",
    "    * print out metabolic gene annotations\n",
    "    * print SAG/MAG ID for all viruses containing specific metabolism\n",
    "    * count metabolic genes per virus\n",
    "    '''"
   ]
  },
  {
   "cell_type": "code",
   "execution_count": null,
   "id": "96789278-eb01-4d19-a8b1-081165cc9d97",
   "metadata": {},
   "outputs": [],
   "source": [
    "def search_for_nitrate_genes(text):\n",
    "    "
   ]
  }
 ],
 "metadata": {
  "kernelspec": {
   "display_name": "Python 3 (ipykernel)",
   "language": "python",
   "name": "python3"
  },
  "language_info": {
   "codemirror_mode": {
    "name": "ipython",
    "version": 3
   },
   "file_extension": ".py",
   "mimetype": "text/x-python",
   "name": "python",
   "nbconvert_exporter": "python",
   "pygments_lexer": "ipython3",
   "version": "3.9.12"
  }
 },
 "nbformat": 4,
 "nbformat_minor": 5
}
