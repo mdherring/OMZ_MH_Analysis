{
 "cells": [
  {
   "cell_type": "markdown",
   "id": "8a03860e-7cf7-4d83-94fb-5f291e242aeb",
   "metadata": {},
   "source": [
    "# 08_interesting_virus_host_pairs"
   ]
  },
  {
   "cell_type": "markdown",
   "id": "1e2dc225-7150-4b63-a79d-7c1e85b7040c",
   "metadata": {},
   "source": [
    "This document explores which virus-host pairs are the most interesting based on the strength of the connection, the taxonomy of the host (biogeochemical significance), and quality of the viral sequence/MAG."
   ]
  },
  {
   "cell_type": "markdown",
   "id": "9dc9f314-cb82-4312-a067-2010dd982c3a",
   "metadata": {},
   "source": [
    "## Load packages and data"
   ]
  },
  {
   "cell_type": "code",
   "execution_count": 2,
   "id": "66e07241-e5ec-403d-be5a-2774d627630e",
   "metadata": {},
   "outputs": [],
   "source": [
    "import pandas as pd\n",
    "import os\n",
    "import sys\n",
    "import csv\n",
    "import numpy as np\n",
    "import matplotlib\n",
    "import matplotlib.pyplot as plt\n",
    "import glob\n",
    "import seaborn as sns\n",
    "from collections import Counter\n",
    "\n",
    "df = pd.read_csv('~/Documents/Bigelow/Virus_Project/OMZ_MH_Analysis/Data/all_associations_gtdb.csv')\n",
    "\n",
    "vMAG_119 = pd.read_csv(\"~/Documents/Bigelow/Virus_Project/OMZ_MH_Analysis/Data/proximeta_viral_files/jv-119_874814_Viral_Files/viral_MAGs/viral_mags_summary.tsv\", sep = '\\t')\n",
    "vMAG_121 = pd.read_csv(\"~/Documents/Bigelow/Virus_Project/OMZ_MH_Analysis/Data/proximeta_viral_files/jv-121_874818_Viral_Files/viral_MAGs/viral_mags_summary.tsv\", sep = '\\t')\n",
    "vMAG_132 = pd.read_csv(\"~/Documents/Bigelow/Virus_Project/OMZ_MH_Analysis/Data/proximeta_viral_files/jv-132_874826_Viral_Files/viral_MAGs/viral_mags_summary.tsv\", sep = '\\t')\n",
    "vMAG_154 = pd.read_csv(\"~/Documents/Bigelow/Virus_Project/OMZ_MH_Analysis/Data/proximeta_viral_files/jv-154_874822_Viral_Files/viral_MAGs/viral_mags_summary.tsv\", sep = '\\t')\n",
    "\n",
    "vMAGs = pd.concat([vMAG_119,vMAG_121,vMAG_132,vMAG_154])"
   ]
  },
  {
   "cell_type": "code",
   "execution_count": 3,
   "id": "1440a8d8-c535-479c-aef3-88ad38182476",
   "metadata": {},
   "outputs": [
    {
     "data": {
      "text/html": [
       "<div>\n",
       "<style scoped>\n",
       "    .dataframe tbody tr th:only-of-type {\n",
       "        vertical-align: middle;\n",
       "    }\n",
       "\n",
       "    .dataframe tbody tr th {\n",
       "        vertical-align: top;\n",
       "    }\n",
       "\n",
       "    .dataframe thead th {\n",
       "        text-align: right;\n",
       "    }\n",
       "</style>\n",
       "<table border=\"1\" class=\"dataframe\">\n",
       "  <thead>\n",
       "    <tr style=\"text-align: right;\">\n",
       "      <th></th>\n",
       "      <th>contig_id</th>\n",
       "      <th>contig_length</th>\n",
       "      <th>provirus</th>\n",
       "      <th>proviral_length</th>\n",
       "      <th>gene_count</th>\n",
       "      <th>viral_genes</th>\n",
       "      <th>host_genes</th>\n",
       "      <th>checkv_quality</th>\n",
       "      <th>miuvig_quality</th>\n",
       "      <th>completeness</th>\n",
       "      <th>completeness_method</th>\n",
       "      <th>contamination</th>\n",
       "      <th>kmer_freq</th>\n",
       "      <th>warnings</th>\n",
       "    </tr>\n",
       "  </thead>\n",
       "  <tbody>\n",
       "    <tr>\n",
       "      <th>0</th>\n",
       "      <td>vMAG_7|N=2|L=36972</td>\n",
       "      <td>37172</td>\n",
       "      <td>No</td>\n",
       "      <td>NaN</td>\n",
       "      <td>48</td>\n",
       "      <td>4</td>\n",
       "      <td>0</td>\n",
       "      <td>Medium-quality</td>\n",
       "      <td>Genome-fragment</td>\n",
       "      <td>66.90</td>\n",
       "      <td>AAI-based (medium-confidence)</td>\n",
       "      <td>0.0</td>\n",
       "      <td>1.00</td>\n",
       "      <td>NaN</td>\n",
       "    </tr>\n",
       "    <tr>\n",
       "      <th>1</th>\n",
       "      <td>vMAG_32|N=2|L=21616</td>\n",
       "      <td>21816</td>\n",
       "      <td>No</td>\n",
       "      <td>NaN</td>\n",
       "      <td>37</td>\n",
       "      <td>7</td>\n",
       "      <td>2</td>\n",
       "      <td>Low-quality</td>\n",
       "      <td>Genome-fragment</td>\n",
       "      <td>5.53</td>\n",
       "      <td>AAI-based (medium-confidence)</td>\n",
       "      <td>0.0</td>\n",
       "      <td>1.00</td>\n",
       "      <td>NaN</td>\n",
       "    </tr>\n",
       "    <tr>\n",
       "      <th>2</th>\n",
       "      <td>vMAG_12|N=2|L=30847</td>\n",
       "      <td>31047</td>\n",
       "      <td>No</td>\n",
       "      <td>NaN</td>\n",
       "      <td>52</td>\n",
       "      <td>7</td>\n",
       "      <td>4</td>\n",
       "      <td>Medium-quality</td>\n",
       "      <td>Genome-fragment</td>\n",
       "      <td>70.44</td>\n",
       "      <td>AAI-based (medium-confidence)</td>\n",
       "      <td>0.0</td>\n",
       "      <td>1.00</td>\n",
       "      <td>NaN</td>\n",
       "    </tr>\n",
       "    <tr>\n",
       "      <th>3</th>\n",
       "      <td>vMAG_36|N=2|L=13927</td>\n",
       "      <td>14127</td>\n",
       "      <td>No</td>\n",
       "      <td>NaN</td>\n",
       "      <td>16</td>\n",
       "      <td>11</td>\n",
       "      <td>0</td>\n",
       "      <td>Low-quality</td>\n",
       "      <td>Genome-fragment</td>\n",
       "      <td>3.68</td>\n",
       "      <td>AAI-based (medium-confidence)</td>\n",
       "      <td>0.0</td>\n",
       "      <td>1.03</td>\n",
       "      <td>NaN</td>\n",
       "    </tr>\n",
       "    <tr>\n",
       "      <th>4</th>\n",
       "      <td>vMAG_1|N=10|L=116593</td>\n",
       "      <td>118393</td>\n",
       "      <td>No</td>\n",
       "      <td>NaN</td>\n",
       "      <td>156</td>\n",
       "      <td>53</td>\n",
       "      <td>9</td>\n",
       "      <td>Medium-quality</td>\n",
       "      <td>Genome-fragment</td>\n",
       "      <td>54.91</td>\n",
       "      <td>AAI-based (medium-confidence)</td>\n",
       "      <td>0.0</td>\n",
       "      <td>1.00</td>\n",
       "      <td>NaN</td>\n",
       "    </tr>\n",
       "    <tr>\n",
       "      <th>...</th>\n",
       "      <td>...</td>\n",
       "      <td>...</td>\n",
       "      <td>...</td>\n",
       "      <td>...</td>\n",
       "      <td>...</td>\n",
       "      <td>...</td>\n",
       "      <td>...</td>\n",
       "      <td>...</td>\n",
       "      <td>...</td>\n",
       "      <td>...</td>\n",
       "      <td>...</td>\n",
       "      <td>...</td>\n",
       "      <td>...</td>\n",
       "      <td>...</td>\n",
       "    </tr>\n",
       "    <tr>\n",
       "      <th>43</th>\n",
       "      <td>vMAG_45|N=2|L=14520</td>\n",
       "      <td>14720</td>\n",
       "      <td>No</td>\n",
       "      <td>NaN</td>\n",
       "      <td>15</td>\n",
       "      <td>6</td>\n",
       "      <td>0</td>\n",
       "      <td>Low-quality</td>\n",
       "      <td>Genome-fragment</td>\n",
       "      <td>36.45</td>\n",
       "      <td>AAI-based (medium-confidence)</td>\n",
       "      <td>0.0</td>\n",
       "      <td>1.00</td>\n",
       "      <td>NaN</td>\n",
       "    </tr>\n",
       "    <tr>\n",
       "      <th>44</th>\n",
       "      <td>vMAG_3|N=2|L=33980</td>\n",
       "      <td>34180</td>\n",
       "      <td>No</td>\n",
       "      <td>NaN</td>\n",
       "      <td>28</td>\n",
       "      <td>2</td>\n",
       "      <td>0</td>\n",
       "      <td>Medium-quality</td>\n",
       "      <td>Genome-fragment</td>\n",
       "      <td>57.21</td>\n",
       "      <td>AAI-based (high-confidence)</td>\n",
       "      <td>0.0</td>\n",
       "      <td>1.00</td>\n",
       "      <td>NaN</td>\n",
       "    </tr>\n",
       "    <tr>\n",
       "      <th>45</th>\n",
       "      <td>vMAG_27|N=2|L=33970</td>\n",
       "      <td>34170</td>\n",
       "      <td>No</td>\n",
       "      <td>NaN</td>\n",
       "      <td>50</td>\n",
       "      <td>11</td>\n",
       "      <td>2</td>\n",
       "      <td>Medium-quality</td>\n",
       "      <td>Genome-fragment</td>\n",
       "      <td>75.07</td>\n",
       "      <td>AAI-based (medium-confidence)</td>\n",
       "      <td>0.0</td>\n",
       "      <td>1.00</td>\n",
       "      <td>NaN</td>\n",
       "    </tr>\n",
       "    <tr>\n",
       "      <th>46</th>\n",
       "      <td>vMAG_17|N=3|L=25751</td>\n",
       "      <td>26151</td>\n",
       "      <td>No</td>\n",
       "      <td>NaN</td>\n",
       "      <td>27</td>\n",
       "      <td>2</td>\n",
       "      <td>1</td>\n",
       "      <td>Low-quality</td>\n",
       "      <td>Genome-fragment</td>\n",
       "      <td>24.50</td>\n",
       "      <td>HMM-based (lower-bound)</td>\n",
       "      <td>0.0</td>\n",
       "      <td>1.00</td>\n",
       "      <td>NaN</td>\n",
       "    </tr>\n",
       "    <tr>\n",
       "      <th>47</th>\n",
       "      <td>vMAG_40|N=2|L=22570</td>\n",
       "      <td>22770</td>\n",
       "      <td>No</td>\n",
       "      <td>NaN</td>\n",
       "      <td>38</td>\n",
       "      <td>11</td>\n",
       "      <td>1</td>\n",
       "      <td>Low-quality</td>\n",
       "      <td>Genome-fragment</td>\n",
       "      <td>39.75</td>\n",
       "      <td>AAI-based (high-confidence)</td>\n",
       "      <td>0.0</td>\n",
       "      <td>1.00</td>\n",
       "      <td>NaN</td>\n",
       "    </tr>\n",
       "  </tbody>\n",
       "</table>\n",
       "<p>236 rows × 14 columns</p>\n",
       "</div>"
      ],
      "text/plain": [
       "               contig_id  contig_length provirus  proviral_length  gene_count  \\\n",
       "0     vMAG_7|N=2|L=36972          37172       No              NaN          48   \n",
       "1    vMAG_32|N=2|L=21616          21816       No              NaN          37   \n",
       "2    vMAG_12|N=2|L=30847          31047       No              NaN          52   \n",
       "3    vMAG_36|N=2|L=13927          14127       No              NaN          16   \n",
       "4   vMAG_1|N=10|L=116593         118393       No              NaN         156   \n",
       "..                   ...            ...      ...              ...         ...   \n",
       "43   vMAG_45|N=2|L=14520          14720       No              NaN          15   \n",
       "44    vMAG_3|N=2|L=33980          34180       No              NaN          28   \n",
       "45   vMAG_27|N=2|L=33970          34170       No              NaN          50   \n",
       "46   vMAG_17|N=3|L=25751          26151       No              NaN          27   \n",
       "47   vMAG_40|N=2|L=22570          22770       No              NaN          38   \n",
       "\n",
       "    viral_genes  host_genes  checkv_quality   miuvig_quality  completeness  \\\n",
       "0             4           0  Medium-quality  Genome-fragment         66.90   \n",
       "1             7           2     Low-quality  Genome-fragment          5.53   \n",
       "2             7           4  Medium-quality  Genome-fragment         70.44   \n",
       "3            11           0     Low-quality  Genome-fragment          3.68   \n",
       "4            53           9  Medium-quality  Genome-fragment         54.91   \n",
       "..          ...         ...             ...              ...           ...   \n",
       "43            6           0     Low-quality  Genome-fragment         36.45   \n",
       "44            2           0  Medium-quality  Genome-fragment         57.21   \n",
       "45           11           2  Medium-quality  Genome-fragment         75.07   \n",
       "46            2           1     Low-quality  Genome-fragment         24.50   \n",
       "47           11           1     Low-quality  Genome-fragment         39.75   \n",
       "\n",
       "              completeness_method  contamination  kmer_freq warnings  \n",
       "0   AAI-based (medium-confidence)            0.0       1.00      NaN  \n",
       "1   AAI-based (medium-confidence)            0.0       1.00      NaN  \n",
       "2   AAI-based (medium-confidence)            0.0       1.00      NaN  \n",
       "3   AAI-based (medium-confidence)            0.0       1.03      NaN  \n",
       "4   AAI-based (medium-confidence)            0.0       1.00      NaN  \n",
       "..                            ...            ...        ...      ...  \n",
       "43  AAI-based (medium-confidence)            0.0       1.00      NaN  \n",
       "44    AAI-based (high-confidence)            0.0       1.00      NaN  \n",
       "45  AAI-based (medium-confidence)            0.0       1.00      NaN  \n",
       "46        HMM-based (lower-bound)            0.0       1.00      NaN  \n",
       "47    AAI-based (high-confidence)            0.0       1.00      NaN  \n",
       "\n",
       "[236 rows x 14 columns]"
      ]
     },
     "execution_count": 3,
     "metadata": {},
     "output_type": "execute_result"
    }
   ],
   "source": [
    "vMAGs"
   ]
  },
  {
   "cell_type": "code",
   "execution_count": 3,
   "id": "53d47925-afb2-4e72-88a8-eea5b8db37cf",
   "metadata": {},
   "outputs": [
    {
     "data": {
      "text/plain": [
       "Index(['virus_name', 'virus_length', 'virus_read_count', 'virus_read_depth',\n",
       "       'virus_read_depth_in_host', 'host_name', 'host_length',\n",
       "       'host_read_count', 'host_read_depth', 'intra_read_count',\n",
       "       'intra_linkage_density', 'inter_read_count',\n",
       "       'raw_inter_linkage_density', 'raw_inter_vs_intra_ratio',\n",
       "       'viral_copies_per_cell', 'adjusted_inter_linkage_density',\n",
       "       'adjusted_inter_vs_intra_ratio', 'sample_name', 'virus_type',\n",
       "       'sample_depth', 'classification', 'fastani_reference',\n",
       "       'fastani_reference_radius', 'fastani_taxonomy', 'fastani_ani',\n",
       "       'fastani_af', 'closest_placement_reference', 'closest_placement_radius',\n",
       "       'closest_placement_taxonomy', 'closest_placement_ani',\n",
       "       'closest_placement_af', 'pplacer_taxonomy', 'classification_method',\n",
       "       'note',\n",
       "       'other_related_references(genome_id,species_name,radius,ANI,AF)',\n",
       "       'msa_percent', 'translation_table', 'red_value', 'warnings', 'domain',\n",
       "       'phyla', 'class', 'order', 'family', 'genus', 'species'],\n",
       "      dtype='object')"
      ]
     },
     "execution_count": 3,
     "metadata": {},
     "output_type": "execute_result"
    }
   ],
   "source": [
    "df.columns"
   ]
  },
  {
   "cell_type": "markdown",
   "id": "7fda7450-c662-4a46-b582-12f5e54b5ab0",
   "metadata": {},
   "source": [
    "## Criteria: Interesting Taxonomy"
   ]
  },
  {
   "cell_type": "markdown",
   "id": "78ab14d1-821a-4f4d-969d-de1d5d975355",
   "metadata": {},
   "source": [
    "Readings? How do I determine this?"
   ]
  },
  {
   "cell_type": "markdown",
   "id": "4ebe0046-d6d8-4c2c-968e-f03916417d50",
   "metadata": {},
   "source": [
    "## Criteria: Quality"
   ]
  },
  {
   "cell_type": "code",
   "execution_count": 6,
   "id": "aa693328-e085-4594-9b29-85f45a579847",
   "metadata": {},
   "outputs": [
    {
     "data": {
      "text/plain": [
       "336"
      ]
     },
     "execution_count": 6,
     "metadata": {},
     "output_type": "execute_result"
    }
   ],
   "source": [
    "# Virus length\n",
    "long_length = df[df['virus_length'] >= 1500]\n",
    "len(long_length)"
   ]
  },
  {
   "cell_type": "code",
   "execution_count": null,
   "id": "b634b701-5e4e-43dc-b603-e555dfcc51e7",
   "metadata": {},
   "outputs": [],
   "source": [
    "# Number of identified viral genes\n"
   ]
  },
  {
   "cell_type": "code",
   "execution_count": null,
   "id": "7b2bb1e7-7283-4bb1-b508-19ca625147e3",
   "metadata": {},
   "outputs": [],
   "source": []
  },
  {
   "cell_type": "code",
   "execution_count": null,
   "id": "b3e1175f-bf38-4b24-b1f8-5f193f28fec9",
   "metadata": {},
   "outputs": [],
   "source": []
  },
  {
   "cell_type": "markdown",
   "id": "552ef9be-5620-4464-8075-af3b95643f86",
   "metadata": {},
   "source": [
    "## Connection Strength"
   ]
  },
  {
   "cell_type": "markdown",
   "id": "812ab471-abbf-4bae-8dc5-f7cee179488b",
   "metadata": {},
   "source": [
    "Proposed criteria: Adjusted inter connective linkage density >= 0.05 reads/kbp^2"
   ]
  },
  {
   "cell_type": "code",
   "execution_count": 19,
   "id": "109f118c-0c03-472d-9643-1676da406c08",
   "metadata": {},
   "outputs": [
    {
     "name": "stdout",
     "output_type": "stream",
     "text": [
      "87 associations are >= 0.05, which is about 26 %.\n"
     ]
    }
   ],
   "source": [
    "inter = df[df['adjusted_inter_linkage_density'] >= 0.05]\n",
    "print(len(inter), 'associations are >= 0.05, which is about', round(len(inter)/len(df)*100), '%.')"
   ]
  },
  {
   "cell_type": "raw",
   "id": "31c56bdd-0db4-42f4-8f36-1ccbd9e2fac0",
   "metadata": {},
   "source": [
    "Proposed criteria: inter vs intra ratio"
   ]
  },
  {
   "cell_type": "code",
   "execution_count": 23,
   "id": "35513b99-a829-4ac3-a264-0fb3c597713e",
   "metadata": {},
   "outputs": [
    {
     "name": "stdout",
     "output_type": "stream",
     "text": [
      "88 associations are >= 1, which is about 26 %.\n"
     ]
    }
   ],
   "source": [
    "ratio = df[df['adjusted_inter_vs_intra_ratio'] >= 2.5]\n",
    "print(len(ratio), 'associations are >= 1, which is about', round(len(ratio)/len(df)*100), '%.')"
   ]
  },
  {
   "cell_type": "code",
   "execution_count": 31,
   "id": "80d5d0dd-a756-47ab-be53-bda88bbcb3fe",
   "metadata": {},
   "outputs": [
    {
     "data": {
      "text/html": [
       "<div>\n",
       "<style scoped>\n",
       "    .dataframe tbody tr th:only-of-type {\n",
       "        vertical-align: middle;\n",
       "    }\n",
       "\n",
       "    .dataframe tbody tr th {\n",
       "        vertical-align: top;\n",
       "    }\n",
       "\n",
       "    .dataframe thead th {\n",
       "        text-align: right;\n",
       "    }\n",
       "</style>\n",
       "<table border=\"1\" class=\"dataframe\">\n",
       "  <thead>\n",
       "    <tr style=\"text-align: right;\">\n",
       "      <th></th>\n",
       "      <th>virus_name</th>\n",
       "      <th>virus_length</th>\n",
       "      <th>virus_read_count</th>\n",
       "      <th>virus_read_depth</th>\n",
       "      <th>virus_read_depth_in_host</th>\n",
       "      <th>host_name</th>\n",
       "      <th>host_length</th>\n",
       "      <th>host_read_count</th>\n",
       "      <th>host_read_depth</th>\n",
       "      <th>intra_read_count</th>\n",
       "      <th>...</th>\n",
       "      <th>translation_table</th>\n",
       "      <th>red_value</th>\n",
       "      <th>warnings</th>\n",
       "      <th>domain</th>\n",
       "      <th>phyla</th>\n",
       "      <th>class</th>\n",
       "      <th>order</th>\n",
       "      <th>family</th>\n",
       "      <th>genus</th>\n",
       "      <th>species</th>\n",
       "    </tr>\n",
       "  </thead>\n",
       "  <tbody>\n",
       "    <tr>\n",
       "      <th>209</th>\n",
       "      <td>k141_3298423</td>\n",
       "      <td>5405</td>\n",
       "      <td>231</td>\n",
       "      <td>42.738205</td>\n",
       "      <td>15.114731</td>\n",
       "      <td>bin_110</td>\n",
       "      <td>155303</td>\n",
       "      <td>4643</td>\n",
       "      <td>29.896396</td>\n",
       "      <td>142</td>\n",
       "      <td>...</td>\n",
       "      <td>NaN</td>\n",
       "      <td>NaN</td>\n",
       "      <td>No bacterial or archaeal marker</td>\n",
       "      <td>Unclassified</td>\n",
       "      <td>NaN</td>\n",
       "      <td>NaN</td>\n",
       "      <td>NaN</td>\n",
       "      <td>NaN</td>\n",
       "      <td>NaN</td>\n",
       "      <td>NaN</td>\n",
       "    </tr>\n",
       "    <tr>\n",
       "      <th>286</th>\n",
       "      <td>k141_2834672</td>\n",
       "      <td>16753</td>\n",
       "      <td>366</td>\n",
       "      <td>21.846833</td>\n",
       "      <td>8.516562</td>\n",
       "      <td>bin_135</td>\n",
       "      <td>110072</td>\n",
       "      <td>2484</td>\n",
       "      <td>22.567047</td>\n",
       "      <td>106</td>\n",
       "      <td>...</td>\n",
       "      <td>NaN</td>\n",
       "      <td>NaN</td>\n",
       "      <td>No bacterial or archaeal marker</td>\n",
       "      <td>Unclassified</td>\n",
       "      <td>NaN</td>\n",
       "      <td>NaN</td>\n",
       "      <td>NaN</td>\n",
       "      <td>NaN</td>\n",
       "      <td>NaN</td>\n",
       "      <td>NaN</td>\n",
       "    </tr>\n",
       "  </tbody>\n",
       "</table>\n",
       "<p>2 rows × 46 columns</p>\n",
       "</div>"
      ],
      "text/plain": [
       "       virus_name  virus_length  virus_read_count  virus_read_depth  \\\n",
       "209  k141_3298423          5405               231         42.738205   \n",
       "286  k141_2834672         16753               366         21.846833   \n",
       "\n",
       "     virus_read_depth_in_host host_name  host_length  host_read_count  \\\n",
       "209                 15.114731   bin_110       155303             4643   \n",
       "286                  8.516562   bin_135       110072             2484   \n",
       "\n",
       "     host_read_depth  intra_read_count  ...  translation_table  red_value  \\\n",
       "209        29.896396               142  ...                NaN        NaN   \n",
       "286        22.567047               106  ...                NaN        NaN   \n",
       "\n",
       "                            warnings        domain  phyla  class  order  \\\n",
       "209  No bacterial or archaeal marker  Unclassified    NaN    NaN    NaN   \n",
       "286  No bacterial or archaeal marker  Unclassified    NaN    NaN    NaN   \n",
       "\n",
       "    family genus  species  \n",
       "209    NaN   NaN      NaN  \n",
       "286    NaN   NaN      NaN  \n",
       "\n",
       "[2 rows x 46 columns]"
      ]
     },
     "execution_count": 31,
     "metadata": {},
     "output_type": "execute_result"
    }
   ],
   "source": [
    "both = df[(df['adjusted_inter_linkage_density'] >= 0.05) & (df['adjusted_inter_vs_intra_ratio'] >= 2.5)]\n",
    "both"
   ]
  },
  {
   "cell_type": "markdown",
   "id": "d279748e-cde2-4080-8492-19177b145e06",
   "metadata": {},
   "source": [
    "There are only 2 associations that have adjusted_inter_linkage_density >= 0.05 and adjusted_inter_vs_intra_ratio >= 2.5. So I recommend picking one of the criteria, not both."
   ]
  },
  {
   "cell_type": "code",
   "execution_count": null,
   "id": "dd4bbe80-4368-4704-ab7a-46857d00dcc5",
   "metadata": {},
   "outputs": [],
   "source": []
  }
 ],
 "metadata": {
  "kernelspec": {
   "display_name": "Python 3 (ipykernel)",
   "language": "python",
   "name": "python3"
  },
  "language_info": {
   "codemirror_mode": {
    "name": "ipython",
    "version": 3
   },
   "file_extension": ".py",
   "mimetype": "text/x-python",
   "name": "python",
   "nbconvert_exporter": "python",
   "pygments_lexer": "ipython3",
   "version": "3.9.12"
  }
 },
 "nbformat": 4,
 "nbformat_minor": 5
}
