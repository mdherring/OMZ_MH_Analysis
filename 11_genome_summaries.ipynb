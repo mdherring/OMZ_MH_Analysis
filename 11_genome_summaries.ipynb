{
 "cells": [
  {
   "cell_type": "markdown",
   "id": "83b6836e-1182-45e0-8e8c-ea0ec898441d",
   "metadata": {},
   "source": [
    "# 11_genome_summaries"
   ]
  },
  {
   "cell_type": "markdown",
   "id": "4538431e-9711-4c5d-adf0-23b337037446",
   "metadata": {},
   "source": [
    "This document summarizes the ouput of pharokka of the 10 selected genomes in the 10_interesting_virus_host_pairs jupyter notebook, which was run on Galaxy. Each of the SAG viruses where run on pharokka separately due to errors when running multiple at one time. All input files are uploaded to google drive folder MH_project > prokka_output with edited file names that include virus name.\n",
    "\n",
    "| virus name     | variable name | type |\n",
    "|----------------|---------------|------| \n",
    "| vir_AM-654-B04 | vsag1         | vSAG | \n",
    "| vir_AM-654-E17 | vsag2         | vSAG |                     \n",
    "|                | vsag3         | vSAG | \n",
    "|                | vsag4         | vSAG | \n",
    "|                | vsag5         | vSAG | \n",
    "|                | vmag1         | vMAG |\n",
    "|                | vmag2         | vMAG |\n",
    "|                | vmag3         | vMAG |\n",
    "|                | vmag4         | vMAG |\n",
    "|                | vmag5         | vMAG |"
   ]
  },
  {
   "cell_type": "markdown",
   "id": "19dc312a-deb5-4948-9877-cc30ef0f1350",
   "metadata": {},
   "source": [
    "## Load packages and data"
   ]
  },
  {
   "cell_type": "code",
   "execution_count": 24,
   "id": "16135335-f566-4b7c-a4f6-5c2682a66830",
   "metadata": {},
   "outputs": [],
   "source": [
    "import pandas as pd\n",
    "import os\n",
    "import sys\n",
    "import csv\n",
    "import numpy as np\n",
    "import matplotlib\n",
    "import matplotlib.pyplot as plt\n",
    "import glob\n",
    "import seaborn as sns\n",
    "from collections import Counter\n",
    "\n",
    "pd.set_option('display.max_columns', None)\n",
    "\n",
    "selected_cols = ['gene','contig','score','phrog','eVal','top_hit','Region','annot','category','locus_tag']\n",
    "\n",
    "vsag1 = pd.read_csv(\"~/Documents/Bigelow/Virus_Project/OMZ_MH_Analysis/Data/pharokka_output/vir_AM-654-B04/pharokka_cds_final_merged_output_vir_AM-654-B04.tsv\", sep = '\\t' )\n",
    "vsag1 = vsag1[selected_cols]\n"
   ]
  },
  {
   "cell_type": "markdown",
   "id": "93a1ffdf-8cf4-44f2-9125-7ba69f38eae0",
   "metadata": {},
   "source": [
    "## vSAGs"
   ]
  },
  {
   "cell_type": "markdown",
   "id": "d02490dc-d296-4be7-9e39-a82d4fa09c9b",
   "metadata": {},
   "source": [
    "### vSAG1: vir-AM-654-B04"
   ]
  },
  {
   "cell_type": "code",
   "execution_count": 25,
   "id": "8e9b4747-a6a7-4400-888e-977d6ae7d8c7",
   "metadata": {},
   "outputs": [
    {
     "data": {
      "text/plain": [
       "164"
      ]
     },
     "execution_count": 25,
     "metadata": {},
     "output_type": "execute_result"
    }
   ],
   "source": [
    "len(vsag1)"
   ]
  },
  {
   "cell_type": "code",
   "execution_count": 19,
   "id": "9ec1cdb1-36e2-4526-a57c-f1b3ec25e3d8",
   "metadata": {},
   "outputs": [
    {
     "data": {
      "text/plain": [
       "unknown function                                     107\n",
       "DNA, RNA and nucleotide metabolism                    16\n",
       "other                                                 13\n",
       "moron, auxiliary metabolic gene and host takeover      9\n",
       "head and packaging                                     8\n",
       "tail                                                   8\n",
       "connector                                              2\n",
       "transcription regulation                               1\n",
       "Name: category, dtype: int64"
      ]
     },
     "execution_count": 19,
     "metadata": {},
     "output_type": "execute_result"
    }
   ],
   "source": [
    "vsag1['category'].value_counts()"
   ]
  },
  {
   "cell_type": "code",
   "execution_count": 18,
   "id": "68ad123e-05aa-4825-8900-281c7cd4cb80",
   "metadata": {},
   "outputs": [
    {
     "data": {
      "text/plain": [
       "glycosyltransferase                                   2\n",
       "glucosyltransferase                                   1\n",
       "phosphoheptose isomerase                              1\n",
       "phosphoribosylaminoimidazole synthetase               1\n",
       "5-phosphoribosylformylglycinamide amidotransferase    1\n",
       "porphyrin biosynthesis                                1\n",
       "Galactose-3-O-sulfotransferase                        1\n",
       "ferredoxin                                            1\n",
       "Name: annot, dtype: int64"
      ]
     },
     "execution_count": 18,
     "metadata": {},
     "output_type": "execute_result"
    }
   ],
   "source": [
    "vsag1_AMG = sag1[sag1['category'] == 'moron, auxiliary metabolic gene and host takeover']\n",
    "vsag1_AMG['annot'].value_counts()"
   ]
  },
  {
   "cell_type": "markdown",
   "id": "a73c08ec-d1b5-400a-8d20-f0596b05e00e",
   "metadata": {},
   "source": [
    "### vSAG2:"
   ]
  },
  {
   "cell_type": "code",
   "execution_count": null,
   "id": "1ba39b90-b583-4b3e-9746-dddc97013fe7",
   "metadata": {},
   "outputs": [],
   "source": []
  }
 ],
 "metadata": {
  "kernelspec": {
   "display_name": "Python 3 (ipykernel)",
   "language": "python",
   "name": "python3"
  },
  "language_info": {
   "codemirror_mode": {
    "name": "ipython",
    "version": 3
   },
   "file_extension": ".py",
   "mimetype": "text/x-python",
   "name": "python",
   "nbconvert_exporter": "python",
   "pygments_lexer": "ipython3",
   "version": "3.9.12"
  }
 },
 "nbformat": 4,
 "nbformat_minor": 5
}
