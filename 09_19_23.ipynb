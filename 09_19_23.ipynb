{
 "cells": [
  {
   "cell_type": "code",
   "execution_count": null,
   "id": "f312d5d2-9567-4c3d-8f05-f5127f659770",
   "metadata": {},
   "outputs": [],
   "source": [
    "import pandas as pd\n",
    "import math\n",
    "import glob\n",
    "from collections import defaultdict\n",
    "import os # these two packages are good for searching and navigating file systems\n",
    "import os.path as op\n",
    "\n",
    "pd.set_option('display.max_columns', None)\n",
    "\n",
    "# function to split classification and get rid of _\n",
    "def split_classification(df):\n",
    "    df[['domain', 'phyla', 'class', 'order', 'family', 'genus', 'species']] = df.classification.str.split(';', expand=True)\n",
    "    df['domain'] = df['domain'].str.replace('d__', '') # remove the d__ in front of all observations\n",
    "    df['phyla'] = df['phyla'].str.replace('p__', '')\n",
    "    df['class'] = df['class'].str.replace('c__', '')\n",
    "    df['order'] = df['order'].str.replace('o__', '')\n",
    "    df['family'] = df['family'].str.replace('f__', '')\n",
    "    df['genus'] = df['genus'].str.replace('g__', '')\n",
    "    df['species'] = df['species'].str.replace('s__', '')\n",
    "    return df"
   ]
  },
  {
   "cell_type": "code",
   "execution_count": null,
   "id": "8cf892f1-d7be-4649-b324-ba87521f2e30",
   "metadata": {},
   "outputs": [],
   "source": [
    "# for loop: create meta data columns for result data frame\n",
    "# if data_type = SAG use sag lookup table\n",
    "# if data_type = MAG use mag lookup table\n",
    "\n",
    "result = pd.read_csv('/Users/melissaherring/Google Drive/My Drive/MH_project/dramv_full_summary.csv')\n",
    "\n",
    "sag_cols = ['vir_id','depth', 'classification_via_GTDBTk']\n",
    "sag_tax = pd.read_csv('~/Documents/Bigelow/Virus_Project/OMZ_MH_Analysis/Data/sag_data/MPvsag_info_230818.csv')[sag_cols]\n",
    "sag_tax.rename(columns={'classification_via_GTDBTk': 'classification','depth':'sample_depth'}, inplace=True)\n",
    "sag_tax = split_classification(sag_tax)\n",
    "sag_tax['virus_name'] = sag_tax['vir_id'].str.replace('vir', 'cv1')\n",
    "\n",
    "mag_tax = pd.read_csv('~/Documents/Bigelow/Virus_Project/OMZ_MH_Analysis/Data/proximeta_viral_files/vMAG_associations.csv')\n",
    "mag_cols= ['virus_name', 'sample_depth','domain', 'phyla', 'class', 'order', 'family', 'genus', 'species']\n",
    "mag_tax = mag_tax[mag_cols]\n",
    "\n",
    "result[['virus_name','sample_depth','domain','phyla','class','order','family','genus','species']] = []\n",
    "\n",
    "for index, row in df.iterrows():\n",
    "    if result['data_type'] == 'vSAG':\n",
    "        result.merge(sag_tax, on=['ID','virus_name'], how='left')\n",
    "    else: result.merge(mag_tax, on=['ID','vir_id'], how = 'left')"
   ]
  }
 ],
 "metadata": {
  "kernelspec": {
   "display_name": "Python 3 (ipykernel)",
   "language": "python",
   "name": "python3"
  },
  "language_info": {
   "codemirror_mode": {
    "name": "ipython",
    "version": 3
   },
   "file_extension": ".py",
   "mimetype": "text/x-python",
   "name": "python",
   "nbconvert_exporter": "python",
   "pygments_lexer": "ipython3",
   "version": "3.9.12"
  }
 },
 "nbformat": 4,
 "nbformat_minor": 5
}
