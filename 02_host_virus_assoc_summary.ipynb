{
 "cells": [
  {
   "cell_type": "markdown",
   "id": "bf67237f-9372-44a9-b8db-6f9b7c2db16c",
   "metadata": {},
   "source": [
    "# 02_host_viral_assoc_summary"
   ]
  },
  {
   "cell_type": "markdown",
   "id": "72cec737-ef2f-4c72-9aa5-0a3b13528a2a",
   "metadata": {},
   "source": [
    "This document explores how many MAGs are connected to viral contigs/vMAGs and how to define strong vs weak linkages. Imported data is the original data files from google drive and the all_host_associations csv file from 01_all_host_association_script. This Rmd file is written in the R coding language."
   ]
  },
  {
   "cell_type": "markdown",
   "id": "53de4773-a16d-4bf9-b9a8-fef14fc9ac33",
   "metadata": {},
   "source": [
    "## Load packages and data"
   ]
  },
  {
   "cell_type": "code",
   "execution_count": 1,
   "id": "b82fce92-45d7-4a69-bc5a-2c17a83e9fdc",
   "metadata": {},
   "outputs": [],
   "source": [
    "import pandas as pd\n",
    "import os\n",
    "import sys\n",
    "import csv\n",
    "import numpy as np\n",
    "import matplotlib\n",
    "import matplotlib.pyplot as plt\n",
    "import glob\n",
    "import seaborn as sns\n",
    "from collections import Counter\n",
    "\n",
    "\n",
    "df = pd.read_csv('/Users/melissaherring/Documents/Bigelow/Virus_Project/OMZ_MH_Analysis/Data/proximeta_viral_files/all_host_associations.csv')\n",
    "\n",
    "# viral MAGs (total)\n",
    "jv119_viral_mag = pd.read_csv(\"~/Documents/Bigelow/Virus_Project/OMZ_MH_Analysis/Data/proximeta_viral_files/jv-119_874814_Viral_Files/viral_MAGs/viral_mags_summary.tsv\", sep = '\\t')\n",
    "jv121_viral_mag = pd.read_csv(\"~/Documents/Bigelow/Virus_Project/OMZ_MH_Analysis/Data/proximeta_viral_files/jv-121_874818_Viral_Files/viral_MAGs/viral_mags_summary.tsv\", sep = '\\t')\n",
    "jv132_viral_mag = pd.read_csv(\"~/Documents/Bigelow/Virus_Project/OMZ_MH_Analysis/Data/proximeta_viral_files/jv-132_874826_Viral_Files/viral_MAGs/viral_mags_summary.tsv\", sep = '\\t')\n",
    "jv154_viral_mag = pd.read_csv(\"~/Documents/Bigelow/Virus_Project/OMZ_MH_Analysis/Data/proximeta_viral_files/jv-154_874822_Viral_Files/viral_MAGs/viral_mags_summary.tsv\", sep = '\\t')\n",
    "\n",
    "sags_viruses = pd.read_csv(\"~/Documents/Bigelow/Virus_Project/OMZ_MH_Analysis/Data/sag_data/MPvsag_info_230818.csv\")"
   ]
  },
  {
   "cell_type": "markdown",
   "id": "8d5d942b-c757-4e37-9f71-48efbc7aad15",
   "metadata": {},
   "source": [
    "## How many MAGs are connected to viral contigs/vMAGs?"
   ]
  },
  {
   "cell_type": "markdown",
   "id": "9eb4cb9d-986f-4f14-980f-6c99cbc8c5d8",
   "metadata": {},
   "source": [
    "### How many per sample?"
   ]
  },
  {
   "cell_type": "code",
   "execution_count": null,
   "id": "184d3e81-0191-4b03-a36c-f3e1e2086555",
   "metadata": {},
   "outputs": [],
   "source": [
    "df.groupby(['sample_name', 'virus_type'], as_index=False)['virus_name'].count()"
   ]
  },
  {
   "cell_type": "markdown",
   "id": "7f8e917b-5d27-48aa-90aa-0ed6310cef19",
   "metadata": {},
   "source": [
    "### How many total?"
   ]
  },
  {
   "cell_type": "code",
   "execution_count": null,
   "id": "34ff39d0-55e8-4c7f-9ed5-3ed1f1f4d54f",
   "metadata": {},
   "outputs": [],
   "source": [
    "df.groupby('virus_type', as_index=False)['virus_name'].count()"
   ]
  },
  {
   "cell_type": "markdown",
   "id": "f62533a9-7fd7-4a10-a31d-ead7c0db360e",
   "metadata": {},
   "source": [
    "## Plots- Distribution of adjusted_inter_vs_intra_ratio "
   ]
  },
  {
   "cell_type": "code",
   "execution_count": null,
   "id": "cd5dc9d6-39f2-41ff-8a50-c0548aaf69d9",
   "metadata": {},
   "outputs": [],
   "source": [
    "jv119_contig = df.groupby(['sample_name', 'virus_type'], as_index=False).get_group(('JV119', 'contig'))\n",
    "jv119_vMAG = df.groupby(['sample_name', 'virus_type'], as_index=False).get_group(('JV119', 'vMAG'))\n",
    "\n",
    "jv121_contig = df.groupby(['sample_name', 'virus_type'], as_index=False).get_group(('JV121', 'contig'))\n",
    "jv121_vMAG = df.groupby(['sample_name', 'virus_type'], as_index=False).get_group(('JV121', 'vMAG'))\n",
    "\n",
    "jv132_contig = df.groupby(['sample_name', 'virus_type'], as_index=False).get_group(('JV132', 'contig'))\n",
    "jv132_vMAG = df.groupby(['sample_name', 'virus_type'], as_index=False).get_group(('JV132', 'vMAG'))\n",
    "\n",
    "jv154_contig = df.groupby(['sample_name', 'virus_type'], as_index=False).get_group(('JV154', 'contig'))\n",
    "jv154_vMAG = df.groupby(['sample_name', 'virus_type'], as_index=False).get_group(('JV154', 'vMAG'))"
   ]
  },
  {
   "cell_type": "code",
   "execution_count": null,
   "id": "7c61e577-9190-4bdf-acda-d37128c9de7f",
   "metadata": {},
   "outputs": [],
   "source": [
    "fig, axes = plt.subplots(nrows=1, ncols=2, figsize=(12, 6), sharex=True, sharey=True)\n",
    "\n",
    "sns.histplot(jv119_contig['adjusted_inter_vs_intra_ratio'],ax= axes[0], bins=10, color='navy', edgecolor='black')\n",
    "axes[0].set_xlabel('Adjusted Inter vs Intra Ratio')\n",
    "axes[0].set_ylabel('Frquency')\n",
    "axes[0].set_title('JV119 Contigs')\n",
    "axes[0].set_yscale('log')\n",
    "\n",
    "sns.histplot(jv119_vMAG['adjusted_inter_vs_intra_ratio'], bins=10, color='skyblue', edgecolor='black', ax= axes[1])\n",
    "axes[1].set_xlabel('Adjusted Inter vs Intra Ratio')\n",
    "axes[1].set_ylabel('Frquency')\n",
    "axes[1].set_title('JV119 vMAGs')\n",
    "axes[1].set_yscale('log')\n",
    "\n",
    "\n",
    "fig.suptitle('JV119 Distribution of the Inter vs Intra Ratio',fontsize=16)"
   ]
  },
  {
   "cell_type": "code",
   "execution_count": null,
   "id": "c0d6a192-4ecf-411b-ba56-a3313603b348",
   "metadata": {},
   "outputs": [],
   "source": [
    "fig, axes = plt.subplots(nrows=1, ncols=2, figsize=(12, 6), sharex=True, sharey=True)\n",
    "\n",
    "sns.histplot(jv121_contig['adjusted_inter_vs_intra_ratio'],ax= axes[0], bins=10, color='firebrick', edgecolor='black')\n",
    "axes[0].set_xlabel('Adjusted Inter vs Intra Ratio')\n",
    "axes[0].set_ylabel('Frquency')\n",
    "axes[0].set_title('JV121 Contigs')\n",
    "axes[0].set_yscale('log')\n",
    "\n",
    "sns.histplot(jv121_vMAG['adjusted_inter_vs_intra_ratio'], bins=10, color='orangered', edgecolor='black', ax= axes[1])\n",
    "axes[1].set_xlabel('Adjusted Inter vs Intra Ratio')\n",
    "axes[1].set_ylabel('Frquency')\n",
    "axes[1].set_title('JV121 vMAGs')\n",
    "axes[1].set_yscale('log')\n",
    "\n",
    "fig.suptitle('JV121 Distribution of the Inter vs Intra Ratio',fontsize=16)"
   ]
  },
  {
   "cell_type": "code",
   "execution_count": null,
   "id": "b6f56148-b913-4421-acda-15972a904f62",
   "metadata": {},
   "outputs": [],
   "source": [
    "fig, axes = plt.subplots(nrows=1, ncols=2, figsize=(12, 6), sharex=True, sharey=True)\n",
    "\n",
    "sns.histplot(jv132_contig['adjusted_inter_vs_intra_ratio'],ax= axes[0], bins=10, color='darkgreen', edgecolor='black')\n",
    "axes[0].set_xlabel('Adjusted Inter vs Intra Ratio')\n",
    "axes[0].set_ylabel('Frquency')\n",
    "axes[0].set_title('JV132 Contigs')\n",
    "axes[0].set_yscale('log')\n",
    "\n",
    "sns.histplot(jv132_vMAG['adjusted_inter_vs_intra_ratio'], bins=10, color='limegreen', edgecolor='black', ax= axes[1])\n",
    "axes[1].set_xlabel('Adjusted Inter vs Intra Ratio')\n",
    "axes[1].set_ylabel('Frquency')\n",
    "axes[1].set_title('JV132 vMAGs')\n",
    "axes[1].set_yscale('log')\n",
    "\n",
    "fig.suptitle('JV132 Distribution of the Inter vs Intra Ratio',fontsize=16)"
   ]
  },
  {
   "cell_type": "code",
   "execution_count": null,
   "id": "64020e09-a636-4a2f-97ea-e93f08273270",
   "metadata": {},
   "outputs": [],
   "source": [
    "fig, axes = plt.subplots(nrows=1, ncols=2, figsize=(12, 6), sharex=True, sharey=True)\n",
    "\n",
    "sns.histplot(jv154_contig['adjusted_inter_vs_intra_ratio'],ax= axes[0], bins=10, color='indigo', edgecolor='black')\n",
    "axes[0].set_xlabel('Adjusted Inter vs Intra Ratio')\n",
    "axes[0].set_ylabel('Frquency')\n",
    "axes[0].set_title('JV154 Contigs')\n",
    "axes[0].set_yscale('log')\n",
    "\n",
    "sns.histplot(jv154_vMAG['adjusted_inter_vs_intra_ratio'], bins=10, color='mediumslateblue', edgecolor='black', ax= axes[1])\n",
    "axes[1].set_xlabel('Adjusted Inter vs Intra Ratio')\n",
    "axes[1].set_ylabel('Frquency')\n",
    "axes[1].set_title('JV154 vMAGs')\n",
    "axes[1].set_yscale('log')\n",
    "\n",
    "fig.suptitle('JV154 Distribution of the Inter vs Intra Ratio',fontsize=16)"
   ]
  },
  {
   "cell_type": "code",
   "execution_count": null,
   "id": "5cc980b2-eeed-4e7b-bbe6-55dae0f60332",
   "metadata": {},
   "outputs": [],
   "source": [
    "# plot all contigs together\n",
    "\n",
    "fig, axes = plt.subplots(nrows=2, ncols=2, figsize=(10,8), sharex=True, sharey=True)\n",
    "\n",
    "sns.histplot(jv119_contig['adjusted_inter_vs_intra_ratio'],ax= axes[0,0], bins=10, color='navy', edgecolor='black')\n",
    "axes[0,0].set_xlabel('Adjusted Inter vs Intra Ratio')\n",
    "axes[0,0].set_ylabel('Frquency')\n",
    "axes[0,0].set_title('JV119 Contigs')\n",
    "axes[0,0].set_yscale('log')\n",
    "\n",
    "sns.histplot(jv121_contig['adjusted_inter_vs_intra_ratio'],ax= axes[0,1], bins=10, color='firebrick', edgecolor='black')\n",
    "axes[0,1].set_xlabel('Adjusted Inter vs Intra Ratio')\n",
    "axes[0,1].set_ylabel('Frquency')\n",
    "axes[0,1].set_title('JV121 Contigs')\n",
    "axes[0,1].set_yscale('log')\n",
    "\n",
    "sns.histplot(jv132_contig['adjusted_inter_vs_intra_ratio'],ax= axes[1,0], bins=10, color='darkgreen', edgecolor='black')\n",
    "axes[1,0].set_xlabel('Adjusted Inter vs Intra Ratio')\n",
    "axes[1,0].set_ylabel('Frquency')\n",
    "axes[1,0].set_title('JV132 Contigs')\n",
    "axes[1,0].set_yscale('log')\n",
    "\n",
    "sns.histplot(jv154_contig['adjusted_inter_vs_intra_ratio'],ax= axes[1,1], bins=10, color='indigo', edgecolor='black')\n",
    "axes[1,1].set_xlabel('Adjusted Inter vs Intra Ratio')\n",
    "axes[1,1].set_ylabel('Frquency')\n",
    "axes[1,1].set_title('JV154 Contigs')\n",
    "axes[1,1].set_yscale('log')\n",
    "\n",
    "fig.suptitle('Distribution of the Inter vs Intra Ratio',fontsize=16)\n",
    "plt.tight_layout()"
   ]
  },
  {
   "cell_type": "markdown",
   "id": "563a9743-dc61-4812-afaa-fd6447b0d33c",
   "metadata": {},
   "source": [
    "## Plots- Distribution of adjusted_inter_connective_linkage_density"
   ]
  },
  {
   "cell_type": "code",
   "execution_count": null,
   "id": "d9161654-15f8-482d-97b3-58935989d673",
   "metadata": {},
   "outputs": [],
   "source": [
    "fig, axes = plt.subplots(nrows=1, ncols=2, figsize=(12, 6), sharex=True, sharey=True)\n",
    "\n",
    "sns.histplot(jv119_contig['adjusted_inter_linkage_density'],ax= axes[0], bins=10, color='navy', edgecolor='black')\n",
    "axes[0].set_xlabel('Adjusted Inter Connective Linkage Density (reads/kbp^2)')\n",
    "axes[0].set_ylabel('Frquency')\n",
    "axes[0].set_title('JV119 Contigs')\n",
    "axes[0].set_yscale('log')\n",
    "\n",
    "sns.histplot(jv119_vMAG['adjusted_inter_linkage_density'], bins=10, color='skyblue', edgecolor='black', ax= axes[1])\n",
    "axes[1].set_xlabel('Adjusted Inter Connective Linkage Density (reads/kbp^2)')\n",
    "axes[1].set_ylabel('Frquency')\n",
    "axes[1].set_title('JV119 vMAGs')\n",
    "axes[1].set_yscale('log')\n",
    "\n",
    "fig.suptitle('JV119 Distribution of the Inter Linkage Density',fontsize=16)"
   ]
  },
  {
   "cell_type": "code",
   "execution_count": null,
   "id": "20f19650-598b-438e-b2d7-a1a25b3d06fe",
   "metadata": {},
   "outputs": [],
   "source": [
    "fig, axes = plt.subplots(nrows=1, ncols=2, figsize=(12, 6), sharex=True, sharey=True)\n",
    "\n",
    "sns.histplot(jv121_contig['adjusted_inter_linkage_density'],ax= axes[0], bins=10, color='firebrick', edgecolor='black')\n",
    "axes[0].set_xlabel('Adjusted Inter Connective Linkage Density (reads/kbp^2)')\n",
    "axes[0].set_ylabel('Frquency')\n",
    "axes[0].set_title('JV121 Contigs')\n",
    "axes[0].set_yscale('log')\n",
    "\n",
    "sns.histplot(jv121_vMAG['adjusted_inter_linkage_density'], bins=10, color='orangered', edgecolor='black', ax= axes[1])\n",
    "axes[1].set_xlabel('Adjusted Inter Connective Linkage Density (reads/kbp^2)')\n",
    "axes[1].set_ylabel('Frquency')\n",
    "axes[1].set_title('JV121 vMAGs')\n",
    "axes[1].set_yscale('log')\n",
    "\n",
    "fig.suptitle('JV119 Distribution of the Inter Linkage Density',fontsize=16)"
   ]
  },
  {
   "cell_type": "code",
   "execution_count": null,
   "id": "91da6c0a-dc6a-4f1b-81da-66c42ed8a9b3",
   "metadata": {},
   "outputs": [],
   "source": [
    "fig, axes = plt.subplots(nrows=1, ncols=2, figsize=(12, 6), sharex=True, sharey=True)\n",
    "\n",
    "sns.histplot(jv132_contig['adjusted_inter_linkage_density'],ax= axes[0], bins=10, color='darkgreen', edgecolor='black')\n",
    "axes[0].set_xlabel('Adjusted Inter Connective Linkage Density (reads/kbp^2)')\n",
    "axes[0].set_ylabel('Frquency')\n",
    "axes[0].set_title('JV132 Contigs')\n",
    "axes[0].set_yscale('log')\n",
    "\n",
    "sns.histplot(jv132_vMAG['adjusted_inter_linkage_density'], bins=10, color='limegreen', edgecolor='black', ax= axes[1])\n",
    "axes[1].set_xlabel('Adjusted Inter Connective Linkage Density (reads/kbp^2)')\n",
    "axes[1].set_ylabel('Frquency')\n",
    "axes[1].set_title('JV132 vMAGs')\n",
    "axes[1].set_yscale('log')\n",
    "\n",
    "fig.suptitle('JV132 Distribution of the Inter Linkage Density',fontsize=16)"
   ]
  },
  {
   "cell_type": "code",
   "execution_count": null,
   "id": "169cffb7-8565-42ea-84d2-a86b4734c62c",
   "metadata": {},
   "outputs": [],
   "source": [
    "fig, axes = plt.subplots(nrows=1, ncols=2, figsize=(12, 6), sharex=True, sharey=True)\n",
    "\n",
    "sns.histplot(jv154_contig['adjusted_inter_linkage_density'],ax= axes[0], bins=10, color='indigo', edgecolor='black')\n",
    "axes[0].set_xlabel('Adjusted Inter Connective Linkage Density (reads/kbp^2)')\n",
    "axes[0].set_ylabel('Frquency')\n",
    "axes[0].set_title('JV154 Contigs')\n",
    "axes[0].set_yscale('log')\n",
    "\n",
    "sns.histplot(jv154_vMAG['adjusted_inter_linkage_density'], bins=10, color='mediumslateblue', edgecolor='black', ax= axes[1])\n",
    "axes[1].set_xlabel('Adjusted Inter Connective Linkage Density (reads/kbp^2)')\n",
    "axes[1].set_ylabel('Frquency')\n",
    "axes[1].set_title('JV154 vMAGs')\n",
    "axes[1].set_yscale('log')\n",
    "\n",
    "fig.suptitle('JV154 Distribution of the Inter Linkage Density',fontsize=16)"
   ]
  },
  {
   "cell_type": "code",
   "execution_count": null,
   "id": "2b991528-5a00-46de-b2e5-a53e4ba4d137",
   "metadata": {},
   "outputs": [],
   "source": [
    "# plot all contigs together\n",
    "\n",
    "fig, axes = plt.subplots(nrows=2, ncols=2, figsize=(10,8), sharex=True, sharey=True)\n",
    "\n",
    "sns.histplot(jv119_contig['adjusted_inter_linkage_density'],ax= axes[0,0], bins=10, color='navy', edgecolor='black')\n",
    "axes[0,0].set_xlabel('Adjusted Inter Connective Linkage Density (reads/kbp^2)')\n",
    "axes[0,0].set_ylabel('Frquency')\n",
    "axes[0,0].set_title('JV119 Contigs')\n",
    "axes[0,0].set_yscale('log')\n",
    "\n",
    "sns.histplot(jv121_contig['adjusted_inter_linkage_density'],ax= axes[0,1], bins=10, color='firebrick', edgecolor='black')\n",
    "axes[0,1].set_xlabel('Adjusted Inter Connective Linkage Density (reads/kbp^2)')\n",
    "axes[0,1].set_ylabel('Frquency')\n",
    "axes[0,1].set_title('JV121 Contigs')\n",
    "axes[0,1].set_yscale('log')\n",
    "\n",
    "sns.histplot(jv132_contig['adjusted_inter_linkage_density'],ax= axes[1,0], bins=10, color='darkgreen', edgecolor='black')\n",
    "axes[1,0].set_xlabel('Adjusted Inter Connective Linkage Density (reads/kbp^2)')\n",
    "axes[1,0].set_ylabel('Frquency')\n",
    "axes[1,0].set_title('JV132 Contigs')\n",
    "axes[1,0].set_yscale('log')\n",
    "\n",
    "sns.histplot(jv154_contig['adjusted_inter_linkage_density'],ax= axes[1,1], bins=10, color='indigo', edgecolor='black')\n",
    "axes[1,1].set_xlabel('Adjusted Inter Connective Linkage Density (reads/kbp^2)')\n",
    "axes[1,1].set_ylabel('Frquency')\n",
    "axes[1,1].set_title('JV154 Contigs')\n",
    "axes[1,1].set_yscale('log')\n",
    "\n",
    "fig.suptitle('Distribution of the Inter Linkage Density for Contigs',fontsize=16)\n",
    "plt.tight_layout()\n"
   ]
  },
  {
   "cell_type": "code",
   "execution_count": null,
   "id": "4e8fe526-45da-4c61-a958-5729c19fb7d4",
   "metadata": {},
   "outputs": [],
   "source": [
    "# plot all vMAGs together\n",
    "\n",
    "fig, axes = plt.subplots(nrows=2, ncols=2, figsize=(10,8), sharex=True, sharey=True)\n",
    "\n",
    "sns.histplot(jv119_vMAG['adjusted_inter_linkage_density'], bins=10, color='skyblue', edgecolor='black', ax= axes[0,0])\n",
    "axes[0,0].set_xlabel('Adjusted Inter Connective Linkage Density (reads/kbp^2)')\n",
    "axes[0,0].set_ylabel('Frquency')\n",
    "axes[0,0].set_title('JV119 vMAGs')\n",
    "axes[0,0].set_yscale('log')\n",
    "\n",
    "sns.histplot(jv121_vMAG['adjusted_inter_linkage_density'], bins=10, color='orangered', edgecolor='black', ax= axes[0,1])\n",
    "axes[0,1].set_xlabel('Adjusted Inter Connective Linkage Density (reads/kbp^2)')\n",
    "axes[0,1].set_ylabel('Frquency')\n",
    "axes[0,1].set_title('JV121 vMAGs')\n",
    "axes[0,1].set_yscale('log')\n",
    "\n",
    "sns.histplot(jv132_vMAG['adjusted_inter_linkage_density'], bins=10, color='limegreen', edgecolor='black', ax= axes[1,0])\n",
    "axes[1,0].set_xlabel('Adjusted Inter Connective Linkage Density (reads/kbp^2)')\n",
    "axes[1,0].set_ylabel('Frquency')\n",
    "axes[1,0].set_title('JV132 vMAGs')\n",
    "axes[1,0].set_yscale('log')\n",
    "\n",
    "sns.histplot(jv154_vMAG['adjusted_inter_linkage_density'], bins=10, color='mediumslateblue', edgecolor='black', ax= axes[1,1])\n",
    "axes[1,1].set_xlabel('Adjusted Inter Connective Linkage Density (reads/kbp^2)')\n",
    "axes[1,1].set_ylabel('Frquency')\n",
    "axes[1,1].set_title('JV154 vMAGs')\n",
    "axes[1,1].set_yscale('log')\n",
    "\n",
    "fig.suptitle('Distribution of the Inter Linkage Density for vMAGs',fontsize=16)\n",
    "plt.tight_layout()"
   ]
  },
  {
   "cell_type": "markdown",
   "id": "a9932596-4f40-4a01-b469-0746593853b1",
   "metadata": {},
   "source": [
    "## Viral Copies per Cell"
   ]
  },
  {
   "cell_type": "code",
   "execution_count": null,
   "id": "c51b989e-5978-4feb-9fa1-01191ceaeeed",
   "metadata": {},
   "outputs": [],
   "source": [
    "sns.stripplot(x='sample_depth', y='viral_copies_per_cell', data=df, jitter=True, hue='virus_type')\n",
    "plt.xlabel('Sample Depth')\n",
    "plt.ylabel('Number of Viral Copies per Cell')\n",
    "plt.title('Viral Copies per Cell for all 4 samples')\n",
    "plt.legend(bbox_to_anchor=(1.4, 1.05),title='Virus Type')"
   ]
  },
  {
   "cell_type": "code",
   "execution_count": null,
   "id": "38eb0449-413e-4117-bed7-fb230af73cc7",
   "metadata": {},
   "outputs": [],
   "source": [
    "contigs = df.groupby('virus_type', as_index=False).get_group('contig')\n",
    "vMAGs = df.groupby('virus_type', as_index=False).get_group('vMAG')\n",
    "\n",
    "fig, axes = plt.subplots(nrows=1, ncols=2, figsize=(12, 6), sharex=True, sharey=True)\n",
    "\n",
    "sns.boxplot(x='sample_depth', y='viral_copies_per_cell', data=contigs, color='royalblue', ax=axes[0])\n",
    "axes[0].set_xlabel('Sample Depth')\n",
    "axes[0].set_ylabel('Number of Viral Copies per Cell')\n",
    "axes[0].set_title('Contigs Boxplot of Viral Copiers per Cell')\n",
    "\n",
    "sns.boxplot(x='sample_depth', y='viral_copies_per_cell', data=vMAGs, color='crimson', ax=axes[1])\n",
    "axes[1].set_xlabel('Sample Depth')\n",
    "axes[1].set_ylabel('Number of Viral Copies per Cell')\n",
    "axes[1].set_title('vMAGs Boxplot of Viral Copies per Cell')"
   ]
  },
  {
   "cell_type": "markdown",
   "id": "645ef549-0521-482f-aaf0-9adb1649fc63",
   "metadata": {},
   "source": [
    "## Number of Associated vMAGs and the Total Number of viral MAGs"
   ]
  },
  {
   "cell_type": "code",
   "execution_count": null,
   "id": "738d757f-b151-4779-a9d8-ab89c8701a43",
   "metadata": {},
   "outputs": [],
   "source": [
    "vMAGs = df.groupby('virus_type', as_index=False).get_group('vMAG')\n",
    "sample_depth = [80,95,140,400]\n",
    "count_vMAG = pd.DataFrame(vMAGs['sample_depth'].value_counts())\n",
    "count_vMAG.rename(columns={'sample_depth': 'count'}, inplace=True)\n",
    "count_vMAG['sample_depth'] = sample_depth\n",
    "\n",
    "len_viral_mag = pd.DataFrame([len(jv119_viral_mag), len(jv121_viral_mag), len(jv132_viral_mag), len(jv154_viral_mag)])\n",
    "len_viral_mag.rename(columns={0: 'count'}, inplace=True)\n",
    "count_viral_mag = pd.DataFrame(pd.concat([len_viral_mag,pd.DataFrame(sample_depth)],axis=1))\n",
    "count_viral_mag.rename(columns={0: 'sample_depth'}, inplace=True)\n",
    "\n",
    "fig, axes = plt.subplots(nrows=1, ncols=2, figsize=(12, 6), sharex=True, sharey=True)\n",
    "\n",
    "sns.barplot(x='sample_depth', y='count', data=count_vMAG, color='royalblue', ax=axes[0])\n",
    "axes[0].set_xlabel('Sample Depth')\n",
    "axes[0].set_ylabel('Number of Associated vMAGs')\n",
    "axes[0].set_title('Number of Associated vMAGs per Sample')\n",
    "\n",
    "sns.barplot(x='sample_depth', y='count', data=count_viral_mag, color='crimson', ax=axes[1])\n",
    "axes[1].set_xlabel('Sample Depth')\n",
    "axes[1].set_ylabel('Number of Total Viral MAGs')\n",
    "axes[1].set_title('Number of Total Viral MAGs per Sample')"
   ]
  },
  {
   "cell_type": "code",
   "execution_count": null,
   "id": "b7d5e1f0-7f4a-45d5-b738-76de2f7e781e",
   "metadata": {},
   "outputs": [],
   "source": [
    "vMAGs = df.groupby('virus_type', as_index=False).get_group('vMAG')\n",
    "sample_depth = [80,95,140,400]\n",
    "count_vMAG = pd.DataFrame(vMAGs['sample_depth'].value_counts())\n",
    "count_vMAG.rename(columns={'sample_depth': 'count'}, inplace=True)\n",
    "count_vMAG['sample_depth'] = sample_depth\n",
    "count_vMAG['type'] = 'vMAGs connected to a Host'\n",
    "\n",
    "len_viral_mag = pd.DataFrame([len(jv119_viral_mag), len(jv121_viral_mag), len(jv132_viral_mag), len(jv154_viral_mag)])\n",
    "len_viral_mag.rename(columns={0: 'count'}, inplace=True)\n",
    "count_viral_mag = pd.DataFrame(pd.concat([len_viral_mag,pd.DataFrame(sample_depth)],axis=1))\n",
    "count_viral_mag.rename(columns={0: 'sample_depth'}, inplace=True)\n",
    "count_viral_mag['type'] = 'Total vMAGs'\n",
    "\n",
    "combo = pd.concat([count_vMAG,count_viral_mag])\n",
    "\n",
    "sns.barplot(x=\"sample_depth\", y=\"count\", hue=\"type\", data=combo)\n",
    "plt.xlabel('Sample Depth')\n",
    "plt.ylabel('Count')\n",
    "plt.legend(title='',loc='upper left', bbox_to_anchor=(1, 1))"
   ]
  },
  {
   "cell_type": "code",
   "execution_count": 17,
   "id": "498d54d6-3c77-4084-af4c-b4ff84de114a",
   "metadata": {},
   "outputs": [
    {
     "data": {
      "text/plain": [
       "<matplotlib.legend.Legend at 0x7fbfa8dc9a60>"
      ]
     },
     "execution_count": 17,
     "metadata": {},
     "output_type": "execute_result"
    },
    {
     "data": {
      "image/png": "[encoded data removed]",
      "text/plain": [
       "<Figure size 432x288 with 1 Axes>"
      ]
     },
     "metadata": {
      "needs_background": "light"
     },
     "output_type": "display_data"
    }
   ],
   "source": [
    "sags_host = sags_viruses[sags_viruses['classification_via_GTDBTk'] != '0']\n",
    "\n",
    "sample_depth = [80,95,140,400]\n",
    "\n",
    "sags_host_count = pd.DataFrame(sags_host['depth'].value_counts())\n",
    "sags_host_count.rename(columns={'depth': 'count'}, inplace=True)\n",
    "sags_host_count['sample_depth'] = sample_depth\n",
    "sags_host_count['type'] = 'Viral SAGs Connected to a Host'\n",
    "\n",
    "sags_count = pd.DataFrame(sags_viruses['depth'].value_counts())\n",
    "sags_count.rename(columns={'depth': 'count'}, inplace=True)\n",
    "sags_count['sample_depth'] = sample_depth\n",
    "sags_count['type'] = \"Total Viral SAGs\"\n",
    "\n",
    "\n",
    "combo = pd.concat([sags_host_count,sags_count])\n",
    "\n",
    "sns.barplot(x=\"sample_depth\", y=\"count\", hue=\"type\", data=combo)\n",
    "plt.xlabel('Sample Depth')\n",
    "plt.ylabel('Count')\n",
    "plt.legend(title='',loc='upper left', bbox_to_anchor=(1, 1))"
   ]
  },
  {
   "cell_type": "code",
   "execution_count": 15,
   "id": "256a7d67-5f79-41cc-9d2c-8bad23d80a6a",
   "metadata": {},
   "outputs": [
    {
     "data": {
      "text/plain": [
       "Text(0, 0.5, 'Count')"
      ]
     },
     "execution_count": 15,
     "metadata": {},
     "output_type": "execute_result"
    },
    {
     "data": {
      "image/png": "[encoded data removed]",
      "text/plain": [
       "<Figure size 432x288 with 1 Axes>"
      ]
     },
     "metadata": {
      "needs_background": "light"
     },
     "output_type": "display_data"
    }
   ],
   "source": [
    "sags_count = pd.DataFrame(sags_viruses['depth'].value_counts())\n",
    "sags_count.rename(columns={'depth': 'count'}, inplace=True)\n",
    "sample_depth = [80,95,140,400]\n",
    "sags_count['sample_depth'] = sample_depth\n",
    "\n",
    "sns.barplot(x=\"sample_depth\", y=\"count\", data=sags_count)\n",
    "plt.xlabel('Sample Depth')\n",
    "plt.ylabel('Count')"
   ]
  },
  {
   "cell_type": "code",
   "execution_count": null,
   "id": "75bb9c0f-9c73-49fd-9301-6d3f96db66a6",
   "metadata": {},
   "outputs": [],
   "source": [
    "vMAGs = df.groupby('virus_type', as_index=False).get_group('vMAG')\n",
    "sample_depth = [80,95,140,400]\n",
    "count_vMAG = pd.DataFrame(vMAGs['sample_depth'].value_counts())\n",
    "count_vMAG.rename(columns={'sample_depth': 'count'}, inplace=True)\n",
    "count_vMAG['sample_depth'] = sample_depth\n",
    "count_vMAG['type'] = 'vMAGs Connected to a Host'\n",
    "\n",
    "len_viral_mag = pd.DataFrame([len(jv119_viral_mag), len(jv121_viral_mag), len(jv132_viral_mag), len(jv154_viral_mag)])\n",
    "len_viral_mag.rename(columns={0: 'count'}, inplace=True)\n",
    "count_viral_mag = pd.DataFrame(pd.concat([len_viral_mag,pd.DataFrame(sample_depth)],axis=1))\n",
    "count_viral_mag.rename(columns={0: 'sample_depth'}, inplace=True)\n",
    "count_viral_mag['type'] = 'Total vMAGs'\n",
    "\n",
    "combo1 = pd.concat([count_vMAG,count_viral_mag])\n",
    "\n",
    "sags_vir_count = pd.DataFrame(sags_viruses['depth'].value_counts())\n",
    "sags_vir_count.rename(columns={'depth': 'count'}, inplace=True)\n",
    "sags_vir_count['sample_depth'] = sample_depth\n",
    "sags_vir_count['type'] = 'Viral SAGs Connected to a Host'\n",
    "\n",
    "combo2 = pd.concat([combo1,sags_vir_count])\n",
    "\n",
    "sags_count = pd.DataFrame(sags['depth'].value_counts())\n",
    "sags_count.rename(columns={'depth': 'count'}, inplace=True)\n",
    "sample_depth = [80,95,140,400]\n",
    "sags_count['sample_depth'] = sample_depth\n",
    "sags_count['type'] = \"Total SAGs\"\n",
    "\n",
    "combo3 = pd.concat([combo2,sags_count])\n",
    "\n",
    "sns.barplot(x=\"sample_depth\", y=\"count\", hue=\"type\", data=combo3, palette ='mako_r')\n",
    "plt.xlabel('Sample Depth')\n",
    "plt.ylabel('Count')\n",
    "plt.legend(title='',loc='upper left', bbox_to_anchor=(1, 1))"
   ]
  }
 ],
 "metadata": {
  "kernelspec": {
   "display_name": "Python 3 (ipykernel)",
   "language": "python",
   "name": "python3"
  },
  "language_info": {
   "codemirror_mode": {
    "name": "ipython",
    "version": 3
   },
   "file_extension": ".py",
   "mimetype": "text/x-python",
   "name": "python",
   "nbconvert_exporter": "python",
   "pygments_lexer": "ipython3",
   "version": "3.9.12"
  }
 },
 "nbformat": 4,
 "nbformat_minor": 5
}
