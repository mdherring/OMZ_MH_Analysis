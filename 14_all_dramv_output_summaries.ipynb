{
 "cells": [
  {
   "cell_type": "markdown",
   "id": "0b1dcd96-6fbc-4e9e-9177-62dd35005ae3",
   "metadata": {},
   "source": [
    "# 14_all_dramv_output_summaries"
   ]
  },
  {
   "cell_type": "markdown",
   "id": "72a2acd7-5292-4f23-8b0c-e8bec94b1e35",
   "metadata": {},
   "source": [
    "This notebook runs dramv parsing functions and loops created in the 13_dramv_functions jupyter notebook."
   ]
  },
  {
   "cell_type": "markdown",
   "id": "21db8152-837d-446c-9b8e-cd50b0d17e91",
   "metadata": {},
   "source": [
    "# Load packages, functions, and data"
   ]
  },
  {
   "cell_type": "code",
   "execution_count": null,
   "id": "2d231c0d-6e18-4f8f-954f-8c3a41b2d046",
   "metadata": {},
   "outputs": [],
   "source": [
    "import pandas as pd\n",
    "import math\n",
    "import glob\n",
    "import os # these two packages are good for searching and navigating file systems\n",
    "import os.path as op\n",
    "\n",
    "pd.set_option('display.max_columns', None)\n",
    "\n",
    "# get_ann_text function\n",
    "def get_ann_text(hit_text, column_type = 'viral_hit'):\n",
    "    if type(hit_text) == float: \n",
    "        return hit_text\n",
    "    if column_type == 'viral_hit': \n",
    "        no_org = hit_text.split(\"[\")[0] \n",
    "        no_acc_id = \" \".join(no_org.split(\" \")[1:-1])\n",
    "        return no_acc_id\n",
    "    if column_type in ['kegg_hit']:\n",
    "        no_ee = hit_text.split(\"[\")[0].strip()\n",
    "        return no_ee\n",
    "    if column_type == 'pfam_hits': \n",
    "        no_pf_ids = \";\".join([text.split(\"[\")[0].strip() for text in hit_text.split(\";\")]) \n",
    "        return no_pf_ids\n",
    "    if column_type == 'vogdb_hits': \n",
    "        no_code = hit_text.split(\";\")[0] \n",
    "        no_acc = \" \".join(no_code.split(\" \")[1:]) \n",
    "        return no_acc\n",
    "    \n",
    "# grab_annotation function\n",
    "def grab_annotation(line):\n",
    "    col_preference = ['kegg_hit', 'pfam_hits', 'viral_hit', 'vogdb_hits'] \n",
    "    for col in col_preference: \n",
    "        if type(line[col]) != str:\n",
    "            continue\n",
    "        elif 'hypothetical' not in line[col]: \n",
    "            keep_text = get_ann_text(line[col], column_type = col) \n",
    "            keep_source = col \n",
    "            return keep_text, keep_source\n",
    "        else: \n",
    "            continue       \n",
    "    for col in col_preference: \n",
    "        if type(line[col]) != \n",
    "            continue\n",
    "        else: \n",
    "            keep_text = get_ann_text(line[col], column_type = col) \n",
    "            keep_source = col\n",
    "            return keep_text, keep_source \n",
    "    return math.nan, math.nan \n",
    "\n",
    "dramv_tbls = glob.glob(\"/Users/melissaherring/Google Drive/My Drive/MH_project/dramv/*/annotations.tsv\")"
   ]
  }
 ],
 "metadata": {
  "kernelspec": {
   "display_name": "Python 3 (ipykernel)",
   "language": "python",
   "name": "python3"
  },
  "language_info": {
   "codemirror_mode": {
    "name": "ipython",
    "version": 3
   },
   "file_extension": ".py",
   "mimetype": "text/x-python",
   "name": "python",
   "nbconvert_exporter": "python",
   "pygments_lexer": "ipython3",
   "version": "3.9.12"
  }
 },
 "nbformat": 4,
 "nbformat_minor": 5
}
