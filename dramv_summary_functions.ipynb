{
 "cells": [
  {
   "cell_type": "markdown",
   "id": "0b1dcd96-6fbc-4e9e-9177-62dd35005ae3",
   "metadata": {},
   "source": [
    "## dramv_summary_functions"
   ]
  },
  {
   "cell_type": "markdown",
   "id": "72a2acd7-5292-4f23-8b0c-e8bec94b1e35",
   "metadata": {},
   "source": [
    "This notebook creates and tests summarizing functions for the dramv annotations outputs from 13_clean_dramv_annot_script."
   ]
  },
  {
   "cell_type": "markdown",
   "id": "21db8152-837d-446c-9b8e-cd50b0d17e91",
   "metadata": {},
   "source": [
    "# Load packages and data"
   ]
  },
  {
   "cell_type": "code",
   "execution_count": 1,
   "id": "2d231c0d-6e18-4f8f-954f-8c3a41b2d046",
   "metadata": {},
   "outputs": [],
   "source": [
    "import pandas as pd\n",
    "import math\n",
    "import glob\n",
    "import os # these two packages are good for searching and navigating file systems\n",
    "import os.path as op\n",
    "\n",
    "pd.set_option('display.max_columns', None)\n",
    "\n",
    "#example = pd.read_csv('/Users/melissaherring/Google Drive/My Drive/MH_project/dramv_trim/cv1_AM-654-B02.csv')\n",
    "example = pd.read_csv('/Users/juliabrown/Google Drive/My Drive/projects/OMZvir_round2/MH_project/dramv_trim/cv1_AM-654-B02.csv')"
   ]
  },
  {
   "cell_type": "code",
   "execution_count": 2,
   "id": "36ea7119-536d-454a-9302-2f966c0498c8",
   "metadata": {},
   "outputs": [
    {
     "data": {
      "text/html": [
       "<div>\n",
       "<style scoped>\n",
       "    .dataframe tbody tr th:only-of-type {\n",
       "        vertical-align: middle;\n",
       "    }\n",
       "\n",
       "    .dataframe tbody tr th {\n",
       "        vertical-align: top;\n",
       "    }\n",
       "\n",
       "    .dataframe thead th {\n",
       "        text-align: right;\n",
       "    }\n",
       "</style>\n",
       "<table border=\"1\" class=\"dataframe\">\n",
       "  <thead>\n",
       "    <tr style=\"text-align: right;\">\n",
       "      <th></th>\n",
       "      <th>fasta</th>\n",
       "      <th>rank</th>\n",
       "      <th>kegg_hit</th>\n",
       "      <th>viral_hit</th>\n",
       "      <th>pfam_hits</th>\n",
       "      <th>vogdb_hits</th>\n",
       "      <th>annotation</th>\n",
       "      <th>annotation_source</th>\n",
       "      <th>amg_flags</th>\n",
       "    </tr>\n",
       "  </thead>\n",
       "  <tbody>\n",
       "    <tr>\n",
       "      <th>0</th>\n",
       "      <td>cv1_AM-654-B02</td>\n",
       "      <td>E</td>\n",
       "      <td>NaN</td>\n",
       "      <td>NaN</td>\n",
       "      <td>NaN</td>\n",
       "      <td>sp|P00970|DNLI_BPT4 DNA ligase; XhXr</td>\n",
       "      <td>DNA ligase</td>\n",
       "      <td>vogdb_hits</td>\n",
       "      <td>VF</td>\n",
       "    </tr>\n",
       "    <tr>\n",
       "      <th>1</th>\n",
       "      <td>cv1_AM-654-B02</td>\n",
       "      <td>E</td>\n",
       "      <td>NaN</td>\n",
       "      <td>NaN</td>\n",
       "      <td>NaN</td>\n",
       "      <td>NaN</td>\n",
       "      <td>NaN</td>\n",
       "      <td>NaN</td>\n",
       "      <td>F</td>\n",
       "    </tr>\n",
       "    <tr>\n",
       "      <th>2</th>\n",
       "      <td>cv1_AM-654-B02</td>\n",
       "      <td>E</td>\n",
       "      <td>NaN</td>\n",
       "      <td>NaN</td>\n",
       "      <td>NaN</td>\n",
       "      <td>NaN</td>\n",
       "      <td>NaN</td>\n",
       "      <td>NaN</td>\n",
       "      <td>F</td>\n",
       "    </tr>\n",
       "    <tr>\n",
       "      <th>3</th>\n",
       "      <td>cv1_AM-654-B02</td>\n",
       "      <td>E</td>\n",
       "      <td>NaN</td>\n",
       "      <td>NaN</td>\n",
       "      <td>NaN</td>\n",
       "      <td>NaN</td>\n",
       "      <td>NaN</td>\n",
       "      <td>NaN</td>\n",
       "      <td>F</td>\n",
       "    </tr>\n",
       "    <tr>\n",
       "      <th>4</th>\n",
       "      <td>cv1_AM-654-B02</td>\n",
       "      <td>E</td>\n",
       "      <td>NaN</td>\n",
       "      <td>NaN</td>\n",
       "      <td>NaN</td>\n",
       "      <td>NaN</td>\n",
       "      <td>NaN</td>\n",
       "      <td>NaN</td>\n",
       "      <td>F</td>\n",
       "    </tr>\n",
       "  </tbody>\n",
       "</table>\n",
       "</div>"
      ],
      "text/plain": [
       "            fasta rank kegg_hit viral_hit pfam_hits  \\\n",
       "0  cv1_AM-654-B02    E      NaN       NaN       NaN   \n",
       "1  cv1_AM-654-B02    E      NaN       NaN       NaN   \n",
       "2  cv1_AM-654-B02    E      NaN       NaN       NaN   \n",
       "3  cv1_AM-654-B02    E      NaN       NaN       NaN   \n",
       "4  cv1_AM-654-B02    E      NaN       NaN       NaN   \n",
       "\n",
       "                             vogdb_hits  annotation annotation_source  \\\n",
       "0  sp|P00970|DNLI_BPT4 DNA ligase; XhXr  DNA ligase        vogdb_hits   \n",
       "1                                   NaN         NaN               NaN   \n",
       "2                                   NaN         NaN               NaN   \n",
       "3                                   NaN         NaN               NaN   \n",
       "4                                   NaN         NaN               NaN   \n",
       "\n",
       "  amg_flags  \n",
       "0        VF  \n",
       "1         F  \n",
       "2         F  \n",
       "3         F  \n",
       "4         F  "
      ]
     },
     "execution_count": 2,
     "metadata": {},
     "output_type": "execute_result"
    }
   ],
   "source": [
    "example.head()"
   ]
  },
  {
   "cell_type": "code",
   "execution_count": null,
   "id": "121186ff-d0db-4790-a765-6df81d3d306e",
   "metadata": {},
   "outputs": [],
   "source": [
    "# create a data frame that summarizes by annotation source\n",
    "\n",
    "source_df = pd.DataFrame(example['annotation_source'].value_counts().reset_index())\n",
    "source_df['ID'] = example.iloc[0, 0]\n",
    "source_df = source_df.pivot(index='ID', columns='index', values='annotation_source')\n",
    "source_df.rename(columns={'kegg_hit':'kegg_count','pfam_hits': 'pfam_count','vogdb_hits':'vogdb_count'}, inplace=True)\n",
    "source_df"
   ]
  },
  {
   "cell_type": "code",
   "execution_count": null,
   "id": "9e8cc9fc-e546-4c34-bd7a-a0ffaed0ca28",
   "metadata": {},
   "outputs": [],
   "source": [
    "#example['amg_flags'].str.slice(0, 1)\n",
    "\n",
    "width = 1  \n",
    "num_parts = len(example['amg_flags'].iloc[0]) // width\n",
    "\n",
    "# Initialize column names\n",
    "columns = ['{}'.format(i) for i in range(1, num_parts + 1)]\n",
    "\n",
    "# Loop through the fixed width and create new columns\n",
    "for i in range(num_parts):\n",
    "    start = i * width\n",
    "    end = start + width\n",
    "    example[columns[i]] = example['amg_flags'].str.slice(start, end)\n",
    "\n",
    "example"
   ]
  },
  {
   "cell_type": "code",
   "execution_count": null,
   "id": "91735069-fde8-4ab3-91f2-8b2373e4c3b4",
   "metadata": {},
   "outputs": [],
   "source": [
    "# create columns for all amg flags\n",
    "# if the column name is in amg_flags column, print column name\n",
    "\n",
    "# V, M, A, P, E, K, T, F, B\n",
    "\n",
    "new_column_names = ['V', 'M', 'A', 'P', 'E', 'K', 'T', 'F', 'B']\n",
    "\n",
    "example.assign(**{name: None for name in new_column_names})\n",
    "\n",
    "for col in example[new_column_names]:\n",
    "    \n",
    "    if col in example['amg_flags']:\n",
    "        example[col] = print(col)\n",
    "    else: example['col'] = None\n",
    "\n",
    "example\n"
   ]
  },
  {
   "cell_type": "code",
   "execution_count": 6,
   "id": "96857656-0df8-4f01-8484-d0be2e4b8edb",
   "metadata": {},
   "outputs": [],
   "source": [
    "# create columns for all amg flags\n",
    "# if the column name is in amg_flags column, print column name\n",
    "\n",
    "# V, M, A, P, E, K, T, F, B\n",
    "\n",
    "from collections import defaultdict\n",
    "\n",
    "new_column_names = ['V', 'M', 'A', 'P', 'E', 'K', 'T', 'F', 'B']\n",
    "\n",
    "example.assign(**{name: None for name in new_column_names})\n",
    "\n",
    "flag_columns = defaultdict(lambda: [])\n",
    "\n",
    "for col in new_column_names:\n",
    "    for flag in example['amg_flags']:\n",
    "        \n",
    "        if col in flag:\n",
    "            flag_columns[col].append(1)\n",
    "        else:\n",
    "            flag_columns[col].append(0)\n",
    "\n",
    "newdf = pd.concat([example, pd.DataFrame(flag_columns)], axis = 1)"
   ]
  },
  {
   "cell_type": "code",
   "execution_count": 39,
   "id": "dc2d45bf-c708-4ebe-b3a0-aea26d74c76e",
   "metadata": {},
   "outputs": [],
   "source": [
    "# summarize by amg_flags\n",
    "\n",
    "flags_df = pd.DataFrame(example['amg_flags'].value_counts().reset_index())\n",
    "flags_df['ID'] = example.iloc[0,0]\n",
    "flags_df = flags_df.pivot(index='ID', columns='index', values='amg_flags')\n",
    "flags_df.rename(columns={'F':'F_amg_flag_count','PF':'PF_amg_flag_count','VF':'VF_amg_flag_count'}, inplace=True)\n",
    "flags_df"
   ]
  },
  {
   "cell_type": "code",
   "execution_count": null,
   "id": "48a70419-e243-4b3e-a10d-5022a81e550c",
   "metadata": {},
   "outputs": [],
   "source": [
    "combo = pd.concat([source_df,flags_df])\n",
    "combo"
   ]
  },
  {
   "cell_type": "code",
   "execution_count": null,
   "id": "85fa7a12-9b61-4857-9a06-67af3461fcbc",
   "metadata": {},
   "outputs": [],
   "source": [
    "# summarize by annotation"
   ]
  },
  {
   "cell_type": "code",
   "execution_count": null,
   "id": "4785cb16-4d30-4a54-b020-7b0132361107",
   "metadata": {},
   "outputs": [],
   "source": [
    "# make annotation category?"
   ]
  }
 ],
 "metadata": {
  "kernelspec": {
   "display_name": "Python 3 (ipykernel)",
   "language": "python",
   "name": "python3"
  },
  "language_info": {
   "codemirror_mode": {
    "name": "ipython",
    "version": 3
   },
   "file_extension": ".py",
   "mimetype": "text/x-python",
   "name": "python",
   "nbconvert_exporter": "python",
   "pygments_lexer": "ipython3",
   "version": "3.9.12"
  }
 },
 "nbformat": 4,
 "nbformat_minor": 5
}
