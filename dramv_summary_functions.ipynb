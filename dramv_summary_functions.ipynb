{
 "cells": [
  {
   "cell_type": "markdown",
   "id": "0b1dcd96-6fbc-4e9e-9177-62dd35005ae3",
   "metadata": {},
   "source": [
    "## dramv_summary_functions"
   ]
  },
  {
   "cell_type": "markdown",
   "id": "72a2acd7-5292-4f23-8b0c-e8bec94b1e35",
   "metadata": {},
   "source": [
    "This notebook creates and tests summarizing functions for the dramv annotations outputs from 13_clean_dramv_annot_script."
   ]
  },
  {
   "cell_type": "markdown",
   "id": "21db8152-837d-446c-9b8e-cd50b0d17e91",
   "metadata": {},
   "source": [
    "# Load packages and data"
   ]
  },
  {
   "cell_type": "code",
   "execution_count": 2,
   "id": "2d231c0d-6e18-4f8f-954f-8c3a41b2d046",
   "metadata": {},
   "outputs": [],
   "source": [
    "import pandas as pd\n",
    "import math\n",
    "import glob\n",
    "import os # these two packages are good for searching and navigating file systems\n",
    "import os.path as op\n",
    "\n",
    "pd.set_option('display.max_columns', None)\n",
    "\n"
   ]
  }
 ],
 "metadata": {
  "kernelspec": {
   "display_name": "Python 3 (ipykernel)",
   "language": "python",
   "name": "python3"
  },
  "language_info": {
   "codemirror_mode": {
    "name": "ipython",
    "version": 3
   },
   "file_extension": ".py",
   "mimetype": "text/x-python",
   "name": "python",
   "nbconvert_exporter": "python",
   "pygments_lexer": "ipython3",
   "version": "3.9.12"
  }
 },
 "nbformat": 4,
 "nbformat_minor": 5
}
