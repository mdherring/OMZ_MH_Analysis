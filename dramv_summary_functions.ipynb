{
 "cells": [
  {
   "cell_type": "markdown",
   "id": "0b1dcd96-6fbc-4e9e-9177-62dd35005ae3",
   "metadata": {},
   "source": [
    "## dramv_summary_functions"
   ]
  },
  {
   "cell_type": "markdown",
   "id": "72a2acd7-5292-4f23-8b0c-e8bec94b1e35",
   "metadata": {},
   "source": [
    "This notebook creates and tests summarizing functions for the dramv annotations outputs from 13_clean_dramv_annot_script."
   ]
  },
  {
   "cell_type": "markdown",
   "id": "21db8152-837d-446c-9b8e-cd50b0d17e91",
   "metadata": {},
   "source": [
    "# Load packages and data"
   ]
  },
  {
   "cell_type": "code",
   "execution_count": 1,
   "id": "2d231c0d-6e18-4f8f-954f-8c3a41b2d046",
   "metadata": {},
   "outputs": [],
   "source": [
    "import pandas as pd\n",
    "import math\n",
    "import glob\n",
    "import os # these two packages are good for searching and navigating file systems\n",
    "import os.path as op\n",
    "\n",
    "pd.set_option('display.max_columns', None)\n",
    "\n",
    "example = pd.read_csv('/Users/melissaherring/Google Drive/My Drive/MH_project/dramv_trim/cv1_AM-654-B02.csv')"
   ]
  },
  {
   "cell_type": "code",
   "execution_count": null,
   "id": "36ea7119-536d-454a-9302-2f966c0498c8",
   "metadata": {},
   "outputs": [],
   "source": [
    "example.head()"
   ]
  },
  {
   "cell_type": "code",
   "execution_count": null,
   "id": "121186ff-d0db-4790-a765-6df81d3d306e",
   "metadata": {},
   "outputs": [],
   "source": [
    "# create a data frame that summarizes by annotation source\n",
    "\n",
    "source_df = pd.DataFrame(example['annotation_source'].value_counts().reset_index())\n",
    "source_df['ID'] = example.iloc[0, 0]\n",
    "source_df = source_df.pivot(index='ID', columns='index', values='annotation_source')\n",
    "source_df.rename(columns={'kegg_hit':'kegg_count','pfam_hits': 'pfam_count','vogdb_hits':'vogdb_count'}, inplace=True)\n",
    "source_df"
   ]
  },
  {
   "cell_type": "code",
   "execution_count": null,
   "id": "96857656-0df8-4f01-8484-d0be2e4b8edb",
   "metadata": {},
   "outputs": [],
   "source": [
    "# create columns for all amg flags\n",
    "# if the column name is in amg_flags column, print column name\n",
    "\n",
    "# V, M, A, P, E, K, T, F, B\n",
    "\n",
    "new_column_names = ['V', 'M', 'A', 'P', 'E', 'K', 'T', 'F', 'B']\n",
    "\n",
    "example.assign(**{name: None for name in new_column_names})\n",
    "\n",
    "for col in example[new_column_names]:\n",
    "    \n",
    "    if col in example['amg_flags']:\n",
    "        example[col] = print(col)\n",
    "    else: example['col'] = None\n",
    "\n",
    "example\n"
   ]
  },
  {
   "cell_type": "code",
   "execution_count": null,
   "id": "dc2d45bf-c708-4ebe-b3a0-aea26d74c76e",
   "metadata": {},
   "outputs": [],
   "source": [
    "# summarize by amg_flags\n",
    "\n",
    "flags_df = pd.DataFrame(example['amg_flags'].value_counts().reset_index())\n",
    "flags_df['ID'] = example.iloc[0,0]\n",
    "flags_df = flags_df.pivot(index='ID', columns='index', values='amg_flags')\n",
    "flags_df.rename(columns={'F':'F_amg_flag_count','PF':'PF_amg_flag_count','VF':'VF_amg_flag_count'}, inplace=True)\n",
    "flags_df"
   ]
  },
  {
   "cell_type": "code",
   "execution_count": null,
   "id": "48a70419-e243-4b3e-a10d-5022a81e550c",
   "metadata": {},
   "outputs": [],
   "source": [
    "combo = pd.concat([source_df,flags_df])\n",
    "combo"
   ]
  },
  {
   "cell_type": "code",
   "execution_count": null,
   "id": "85fa7a12-9b61-4857-9a06-67af3461fcbc",
   "metadata": {},
   "outputs": [],
   "source": [
    "# summarize by annotation"
   ]
  },
  {
   "cell_type": "code",
   "execution_count": null,
   "id": "4785cb16-4d30-4a54-b020-7b0132361107",
   "metadata": {},
   "outputs": [],
   "source": [
    "# make annotation category?"
   ]
  }
 ],
 "metadata": {
  "kernelspec": {
   "display_name": "Python 3 (ipykernel)",
   "language": "python",
   "name": "python3"
  },
  "language_info": {
   "codemirror_mode": {
    "name": "ipython",
    "version": 3
   },
   "file_extension": ".py",
   "mimetype": "text/x-python",
   "name": "python",
   "nbconvert_exporter": "python",
   "pygments_lexer": "ipython3",
   "version": "3.9.12"
  }
 },
 "nbformat": 4,
 "nbformat_minor": 5
}
