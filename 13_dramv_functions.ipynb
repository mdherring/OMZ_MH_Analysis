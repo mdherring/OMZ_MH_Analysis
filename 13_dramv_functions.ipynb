{
 "cells": [
  {
   "cell_type": "markdown",
   "id": "598dbac6-cea5-47fd-87b9-8b94376b5065",
   "metadata": {},
   "source": [
    "# 13_dramv_functions"
   ]
  },
  {
   "cell_type": "markdown",
   "id": "ed30f767-0458-462b-9b76-f123a8a7c8e3",
   "metadata": {},
   "source": [
    "This notebook creates and tests functions for summarizing metabolic potential of viral genes identified by DRAM-v."
   ]
  },
  {
   "cell_type": "markdown",
   "id": "133b8cbe-80c3-481b-95d8-6d6e5d1f4e10",
   "metadata": {},
   "source": [
    "## Load Packages and example data for testing"
   ]
  },
  {
   "cell_type": "code",
   "execution_count": 1,
   "id": "6b7e08b4-02f3-49a7-8c46-7a10d40bd56b",
   "metadata": {},
   "outputs": [],
   "source": [
    "import pandas as pd\n",
    "import math\n",
    "import glob\n",
    "import os # these two packages are good for searching and navigating file systems\n",
    "import os.path as op\n",
    "\n",
    "pd.set_option('display.max_columns', None)\n",
    "\n",
    "ex_file_path = '/Users/melissaherring/Google Drive/My Drive/MH_project/dramv/cv1_AM-654-B02/annotations.tsv' # create file path\n",
    "columns_to_keep = ['Unnamed: 0', 'rank', 'kegg_hit', 'viral_hit', 'pfam_hits', 'vogdb_hits'] # make a list of columns to look at\n",
    "df = pd.read_csv(ex_file_path, sep = \"\\t\")[columns_to_keep] # read the file and store only the columns from the list as a variable named df"
   ]
  },
  {
   "cell_type": "markdown",
   "id": "1bd768a6-733a-4897-8b11-3dc784319478",
   "metadata": {},
   "source": [
    "## Function 1: get_ann_text\n",
    "\n",
    "This function formats the text from the following columns: 'viral_hit', 'kegg_hit', 'pfam_hits', 'vogdb_hits'"
   ]
  },
  {
   "cell_type": "code",
   "execution_count": 2,
   "id": "77d45dc7-026c-42ea-8ca6-39adb436a22f",
   "metadata": {},
   "outputs": [],
   "source": [
    "def get_ann_text(hit_text, column_type = 'viral_hit'): # column_type = 'viral_hit' sets the default column_type as 'viral_hit'; \n",
    "                                                        # if column_type isn't specified, then the function assumes it is 'viral_hit'\n",
    "    '''\n",
    "    args:\n",
    "        hit_text: text string from DRAMv for 'viral_hit' column\n",
    "    returns:\n",
    "        text string of just annotation information, not organism or hit id\n",
    "    \n",
    "    exe_input: YP_004325053.1 hypothetical protein PSSM7_226 [Prochlorococcus phage P-SSM7]\n",
    "    exe_output: hypothetical protein PSSM7_226\n",
    "    '''\n",
    "    \n",
    "    if type(hit_text) == float: # if the text belongs to the float type, return that text; float = NA in these data\n",
    "        return hit_text\n",
    "    \n",
    "    if column_type == 'viral_hit': # if the column_type is 'viral_hit',\n",
    "        no_org = hit_text.split(\"[\")[0] # split the text by brackets ('[') and return the first part of the resulting text\n",
    "        no_acc_id = \" \".join(no_org.split(\" \")[1:-1]) # join the resulting text from the line above with a space, \n",
    "                                                        # then split by a space and return the second part of the text without the 2nd to last character\n",
    "        return no_acc_id\n",
    "    \n",
    "    if column_type in ['kegg_hit']: # if the column_type is 'kegg_hit',\n",
    "        no_ee = hit_text.split(\"[\")[0].strip() # split the text by brackets and return the first part of the resulting text; strip () removes trailing \n",
    "                                                    # space\n",
    "        return no_ee\n",
    "    \n",
    "    if column_type == 'pfam_hits': # if the column_type is 'pfam_hits',\n",
    "        no_pf_ids = \";\".join([text.split(\"[\")[0].strip() for text in hit_text.split(\";\")]) # split the text by brackets and return the first part of the\n",
    "                                    # resulting text without the trailing space then split by a semicolon (;) \n",
    "                                    # and return all pfam annotations joined using a semicolon (there are multiple annotations in this one column)\n",
    "        return no_pf_ids\n",
    "    \n",
    "    if column_type == 'vogdb_hits': # if the column_type is 'vogdb_hits',\n",
    "        no_code = hit_text.split(\";\")[0] # split the text by a semicolon and return the first part of the resulting text\n",
    "        no_acc = \" \".join(no_code.split(\" \")[1:]) # split the text from the line above with a space and return the second part of the text joined by a \n",
    "                                                    # space\n",
    "        return no_acc"
   ]
  },
  {
   "cell_type": "code",
   "execution_count": null,
   "id": "c681c73a-cd92-4fa4-a208-321c5cbd8e6f",
   "metadata": {},
   "outputs": [],
   "source": [
    "# get_ann_text test using cv1_AM-654-B02\n",
    "\n",
    "df['viral_ann_text'] = df['viral_hit'].apply(get_ann_text, args = ('viral_hit',)) # create a new column that is the result of applying the get_ann_text \n",
    "                                                                        # function to the 'viral_hit' column using column_type = 'viral_hit'\n",
    "df['kegg_ann_text'] = df['kegg_hit'].apply(get_ann_text, args = ('kegg_hit',)) # create a new column that is the result of applying the get_ann_text\n",
    "                                                                        # function to the 'kegg_hit' column using column_type = 'kegg_hit'\n",
    "df['pfam_ann_text'] = df['pfam_hits'].apply(get_ann_text, args = ('pfam_hits',)) # create a new column that is the result of applying the get_ann_text \n",
    "                                                                        # function to the 'pfam_hits' column using column_type = 'pfam_hits'\n",
    "df['vogdb_ann_text'] = df['vogdb_hits'].apply(get_ann_text, args = ('vogdb_hits',))# create a new column that is the result of applying the get_ann_text \n",
    "                                                                        # function to the 'vogdb_hit' column using column_type = 'vogdb_hits'\n",
    "df"
   ]
  },
  {
   "cell_type": "markdown",
   "id": "45adfe0b-bc18-4812-8f9f-dc48a6b2eead",
   "metadata": {},
   "source": [
    "## Function 2: grab_annotation"
   ]
  },
  {
   "cell_type": "markdown",
   "id": "c31f0fdf-86d5-434f-a0c1-c6a84ebcc33d",
   "metadata": {},
   "source": [
    "This function looks at the viral_hit, kegg_hit, pfam_hits, and vogdb_hits columns and decides which annotation to keep moving forward (to avoid overlap when looking at only one column at a time)."
   ]
  },
  {
   "cell_type": "code",
   "execution_count": null,
   "id": "f8b85d60-7f15-4ef9-8e0f-eab17ffc1696",
   "metadata": {},
   "outputs": [],
   "source": [
    "def grab_annotation(line):\n",
    "    col_preference = ['kegg_hit', 'pfam_hits', 'viral_hit', 'vogdb_hits'] # create a list of columns to iterate through\n",
    "\n",
    "    for col in col_preference: # for each column in the col_preference list,\n",
    "        if type(line[col]) != str: # if the observation is not a string, continue\n",
    "            continue\n",
    "        elif 'hypothetical' not in line[col]: # if the observation is not hypothetical,\n",
    "            keep_text = get_ann_text(line[col], column_type = col) # apply the get_ann_function using the column_type of the observation \n",
    "                                                                    # and store the result in a variable called keep_text\n",
    "            keep_source = col # and store the observation's column_type in a variable called keep_source\n",
    "            return keep_text, keep_source\n",
    "        else: # otherwise continue\n",
    "            continue\n",
    "            \n",
    "    for col in col_preference: # for each column in the col_preference list,\n",
    "        if type(line[col]) != str: # if the observation is not a string, continue\n",
    "            continue\n",
    "        else: # if the observation is a string,\n",
    "            keep_text = get_ann_text(line[col], column_type = col) # apply the get_ann_text function to the observation using the column_type \n",
    "                                                                    # of the observation and store the result in a variable called keep_text\n",
    "            keep_source = col # store the observation's column_type in a variable called keep_source\n",
    "            return keep_text, keep_source\n",
    "    \n",
    "    return math.nan, math.nan # return NAs as NaN"
   ]
  },
  {
   "cell_type": "code",
   "execution_count": null,
   "id": "7379719f-b139-4cfc-b975-832f231a0b95",
   "metadata": {},
   "outputs": [],
   "source": [
    "# grab_annotation test using cv1_AM-654-B02\n",
    "\n",
    "df[['annotation','annotation_source']] = df.apply(grab_annotation, axis=1, result_type='expand') # create two new columns that are the result of applying\n",
    "                                                                                            # the grab_annotation function\n",
    "df"
   ]
  },
  {
   "cell_type": "code",
   "execution_count": null,
   "id": "18359a57-1fbb-4347-aeb6-a11e4b95446f",
   "metadata": {},
   "outputs": [],
   "source": []
  },
  {
   "cell_type": "code",
   "execution_count": null,
   "id": "620a2311-b167-4ad6-9f29-b8bd0bb4d744",
   "metadata": {},
   "outputs": [],
   "source": []
  },
  {
   "cell_type": "code",
   "execution_count": 7,
   "id": "bc665e2a-19fe-4869-abf4-c1028443ea82",
   "metadata": {},
   "outputs": [],
   "source": [
    "# if rank = A, grab kegg_hit\n",
    "# if rank = B, grab viral_hit\n",
    "# if rank = C, grab don't grab pfam_hits\n",
    "# if rank = D, grab pfam_hits\n",
    "# if rank = E, don't grab kegg_hit, viral_hit, or pfam_hits\n",
    "\n",
    "\n",
    "def assign_annot(line):\n",
    "\n",
    "    for i in df['rank']:\n",
    "    \n",
    "        if line['rank'] == 'A' :\n",
    "            keep_annot = get_ann_text(line[i], column_type = kegg_hit)\n",
    "            annot_source = i\n",
    "            return keep_annot, annot_source\n",
    "        \n",
    "        elif line['rank'] == 'B' :\n",
    "            keep_annot = get_ann_text(line[i], column_type = viral_hit)\n",
    "            annot_source = i\n",
    "            return keep_annot, annot_source\n",
    "        \n",
    "        elif line['rank'] == 'C' and ~line['kegg_hit'].isna() :\n",
    "            keep_annot = get_ann_text(line[i], column_type = kegg_hit)\n",
    "            annot_source = i\n",
    "            return keep_annot, annot_source\n",
    "        \n",
    "        elif line['rank'] == 'C' and line['kegg_hit'].isna() and ~line['viral_hit'].isnna() :\n",
    "            keep_annot = get_ann_text(line[i], column_type = viral_hit)\n",
    "            annot_source = i\n",
    "            return keep_annot, annot_source\n",
    "        \n",
    "        elif line['rank'] == 'C' and line['kegg_hit'].isna() and line['viral_hit'].isnna() :\n",
    "            keep_annot = get_ann_text(line[i], column_type = vogdb_hits)\n",
    "            annot_source = i\n",
    "            return keep_annot, annot_source\n",
    "\n",
    "        elif line['rank'] == 'D' :\n",
    "            keep_annot = get_ann_text(line[i], column_type = pfam_hits)\n",
    "            annot_source = i\n",
    "            return keep_annot, annot_source\n",
    "        \n",
    "        elif line['rank'] == 'E' :\n",
    "            keep_annot = get_ann_text(line[i], column_type = vogdb_hits)\n",
    "            annot_source = i\n",
    "            return keep_annot, annot_source\n",
    "        else: return math.nan, math.nan"
   ]
  },
  {
   "cell_type": "code",
   "execution_count": 8,
   "id": "a13868d9-b81d-4172-b36a-93b5f82e29b8",
   "metadata": {},
   "outputs": [
    {
     "ename": "KeyError",
     "evalue": "'E'",
     "output_type": "error",
     "traceback": [
      "\u001b[0;31m---------------------------------------------------------------------------\u001b[0m",
      "\u001b[0;31mKeyError\u001b[0m                                  Traceback (most recent call last)",
      "File \u001b[0;32m~/opt/anaconda3/lib/python3.9/site-packages/pandas/core/indexes/base.py:3621\u001b[0m, in \u001b[0;36mIndex.get_loc\u001b[0;34m(self, key, method, tolerance)\u001b[0m\n\u001b[1;32m   3620\u001b[0m \u001b[38;5;28;01mtry\u001b[39;00m:\n\u001b[0;32m-> 3621\u001b[0m     \u001b[38;5;28;01mreturn\u001b[39;00m \u001b[38;5;28;43mself\u001b[39;49m\u001b[38;5;241;43m.\u001b[39;49m\u001b[43m_engine\u001b[49m\u001b[38;5;241;43m.\u001b[39;49m\u001b[43mget_loc\u001b[49m\u001b[43m(\u001b[49m\u001b[43mcasted_key\u001b[49m\u001b[43m)\u001b[49m\n\u001b[1;32m   3622\u001b[0m \u001b[38;5;28;01mexcept\u001b[39;00m \u001b[38;5;167;01mKeyError\u001b[39;00m \u001b[38;5;28;01mas\u001b[39;00m err:\n",
      "File \u001b[0;32m~/opt/anaconda3/lib/python3.9/site-packages/pandas/_libs/index.pyx:136\u001b[0m, in \u001b[0;36mpandas._libs.index.IndexEngine.get_loc\u001b[0;34m()\u001b[0m\n",
      "File \u001b[0;32m~/opt/anaconda3/lib/python3.9/site-packages/pandas/_libs/index.pyx:163\u001b[0m, in \u001b[0;36mpandas._libs.index.IndexEngine.get_loc\u001b[0;34m()\u001b[0m\n",
      "File \u001b[0;32mpandas/_libs/hashtable_class_helper.pxi:5198\u001b[0m, in \u001b[0;36mpandas._libs.hashtable.PyObjectHashTable.get_item\u001b[0;34m()\u001b[0m\n",
      "File \u001b[0;32mpandas/_libs/hashtable_class_helper.pxi:5206\u001b[0m, in \u001b[0;36mpandas._libs.hashtable.PyObjectHashTable.get_item\u001b[0;34m()\u001b[0m\n",
      "\u001b[0;31mKeyError\u001b[0m: 'E'",
      "\nThe above exception was the direct cause of the following exception:\n",
      "\u001b[0;31mKeyError\u001b[0m                                  Traceback (most recent call last)",
      "Input \u001b[0;32mIn [8]\u001b[0m, in \u001b[0;36m<cell line: 1>\u001b[0;34m()\u001b[0m\n\u001b[0;32m----> 1\u001b[0m df[[\u001b[38;5;124m'\u001b[39m\u001b[38;5;124mannotation\u001b[39m\u001b[38;5;124m'\u001b[39m,\u001b[38;5;124m'\u001b[39m\u001b[38;5;124mannotation_source\u001b[39m\u001b[38;5;124m'\u001b[39m]] \u001b[38;5;241m=\u001b[39m \u001b[43mdf\u001b[49m\u001b[38;5;241;43m.\u001b[39;49m\u001b[43mapply\u001b[49m\u001b[43m(\u001b[49m\u001b[43massign_annot\u001b[49m\u001b[43m,\u001b[49m\u001b[43m \u001b[49m\u001b[43maxis\u001b[49m\u001b[38;5;241;43m=\u001b[39;49m\u001b[38;5;241;43m1\u001b[39;49m\u001b[43m,\u001b[49m\u001b[43m \u001b[49m\u001b[43mresult_type\u001b[49m\u001b[38;5;241;43m=\u001b[39;49m\u001b[38;5;124;43m'\u001b[39;49m\u001b[38;5;124;43mexpand\u001b[39;49m\u001b[38;5;124;43m'\u001b[39;49m\u001b[43m)\u001b[49m\n",
      "File \u001b[0;32m~/opt/anaconda3/lib/python3.9/site-packages/pandas/core/frame.py:8839\u001b[0m, in \u001b[0;36mDataFrame.apply\u001b[0;34m(self, func, axis, raw, result_type, args, **kwargs)\u001b[0m\n\u001b[1;32m   8828\u001b[0m \u001b[38;5;28;01mfrom\u001b[39;00m \u001b[38;5;21;01mpandas\u001b[39;00m\u001b[38;5;21;01m.\u001b[39;00m\u001b[38;5;21;01mcore\u001b[39;00m\u001b[38;5;21;01m.\u001b[39;00m\u001b[38;5;21;01mapply\u001b[39;00m \u001b[38;5;28;01mimport\u001b[39;00m frame_apply\n\u001b[1;32m   8830\u001b[0m op \u001b[38;5;241m=\u001b[39m frame_apply(\n\u001b[1;32m   8831\u001b[0m     \u001b[38;5;28mself\u001b[39m,\n\u001b[1;32m   8832\u001b[0m     func\u001b[38;5;241m=\u001b[39mfunc,\n\u001b[0;32m   (...)\u001b[0m\n\u001b[1;32m   8837\u001b[0m     kwargs\u001b[38;5;241m=\u001b[39mkwargs,\n\u001b[1;32m   8838\u001b[0m )\n\u001b[0;32m-> 8839\u001b[0m \u001b[38;5;28;01mreturn\u001b[39;00m \u001b[43mop\u001b[49m\u001b[38;5;241;43m.\u001b[39;49m\u001b[43mapply\u001b[49m\u001b[43m(\u001b[49m\u001b[43m)\u001b[49m\u001b[38;5;241m.\u001b[39m__finalize__(\u001b[38;5;28mself\u001b[39m, method\u001b[38;5;241m=\u001b[39m\u001b[38;5;124m\"\u001b[39m\u001b[38;5;124mapply\u001b[39m\u001b[38;5;124m\"\u001b[39m)\n",
      "File \u001b[0;32m~/opt/anaconda3/lib/python3.9/site-packages/pandas/core/apply.py:727\u001b[0m, in \u001b[0;36mFrameApply.apply\u001b[0;34m(self)\u001b[0m\n\u001b[1;32m    724\u001b[0m \u001b[38;5;28;01melif\u001b[39;00m \u001b[38;5;28mself\u001b[39m\u001b[38;5;241m.\u001b[39mraw:\n\u001b[1;32m    725\u001b[0m     \u001b[38;5;28;01mreturn\u001b[39;00m \u001b[38;5;28mself\u001b[39m\u001b[38;5;241m.\u001b[39mapply_raw()\n\u001b[0;32m--> 727\u001b[0m \u001b[38;5;28;01mreturn\u001b[39;00m \u001b[38;5;28;43mself\u001b[39;49m\u001b[38;5;241;43m.\u001b[39;49m\u001b[43mapply_standard\u001b[49m\u001b[43m(\u001b[49m\u001b[43m)\u001b[49m\n",
      "File \u001b[0;32m~/opt/anaconda3/lib/python3.9/site-packages/pandas/core/apply.py:851\u001b[0m, in \u001b[0;36mFrameApply.apply_standard\u001b[0;34m(self)\u001b[0m\n\u001b[1;32m    850\u001b[0m \u001b[38;5;28;01mdef\u001b[39;00m \u001b[38;5;21mapply_standard\u001b[39m(\u001b[38;5;28mself\u001b[39m):\n\u001b[0;32m--> 851\u001b[0m     results, res_index \u001b[38;5;241m=\u001b[39m \u001b[38;5;28;43mself\u001b[39;49m\u001b[38;5;241;43m.\u001b[39;49m\u001b[43mapply_series_generator\u001b[49m\u001b[43m(\u001b[49m\u001b[43m)\u001b[49m\n\u001b[1;32m    853\u001b[0m     \u001b[38;5;66;03m# wrap results\u001b[39;00m\n\u001b[1;32m    854\u001b[0m     \u001b[38;5;28;01mreturn\u001b[39;00m \u001b[38;5;28mself\u001b[39m\u001b[38;5;241m.\u001b[39mwrap_results(results, res_index)\n",
      "File \u001b[0;32m~/opt/anaconda3/lib/python3.9/site-packages/pandas/core/apply.py:867\u001b[0m, in \u001b[0;36mFrameApply.apply_series_generator\u001b[0;34m(self)\u001b[0m\n\u001b[1;32m    864\u001b[0m \u001b[38;5;28;01mwith\u001b[39;00m option_context(\u001b[38;5;124m\"\u001b[39m\u001b[38;5;124mmode.chained_assignment\u001b[39m\u001b[38;5;124m\"\u001b[39m, \u001b[38;5;28;01mNone\u001b[39;00m):\n\u001b[1;32m    865\u001b[0m     \u001b[38;5;28;01mfor\u001b[39;00m i, v \u001b[38;5;129;01min\u001b[39;00m \u001b[38;5;28menumerate\u001b[39m(series_gen):\n\u001b[1;32m    866\u001b[0m         \u001b[38;5;66;03m# ignore SettingWithCopy here in case the user mutates\u001b[39;00m\n\u001b[0;32m--> 867\u001b[0m         results[i] \u001b[38;5;241m=\u001b[39m \u001b[38;5;28;43mself\u001b[39;49m\u001b[38;5;241;43m.\u001b[39;49m\u001b[43mf\u001b[49m\u001b[43m(\u001b[49m\u001b[43mv\u001b[49m\u001b[43m)\u001b[49m\n\u001b[1;32m    868\u001b[0m         \u001b[38;5;28;01mif\u001b[39;00m \u001b[38;5;28misinstance\u001b[39m(results[i], ABCSeries):\n\u001b[1;32m    869\u001b[0m             \u001b[38;5;66;03m# If we have a view on v, we need to make a copy because\u001b[39;00m\n\u001b[1;32m    870\u001b[0m             \u001b[38;5;66;03m#  series_generator will swap out the underlying data\u001b[39;00m\n\u001b[1;32m    871\u001b[0m             results[i] \u001b[38;5;241m=\u001b[39m results[i]\u001b[38;5;241m.\u001b[39mcopy(deep\u001b[38;5;241m=\u001b[39m\u001b[38;5;28;01mFalse\u001b[39;00m)\n",
      "Input \u001b[0;32mIn [7]\u001b[0m, in \u001b[0;36massign_annot\u001b[0;34m(line)\u001b[0m\n\u001b[1;32m     40\u001b[0m     \u001b[38;5;28;01mreturn\u001b[39;00m keep_annot, annot_source\n\u001b[1;32m     42\u001b[0m \u001b[38;5;28;01melif\u001b[39;00m line[\u001b[38;5;124m'\u001b[39m\u001b[38;5;124mrank\u001b[39m\u001b[38;5;124m'\u001b[39m] \u001b[38;5;241m==\u001b[39m \u001b[38;5;124m'\u001b[39m\u001b[38;5;124mE\u001b[39m\u001b[38;5;124m'\u001b[39m :\n\u001b[0;32m---> 43\u001b[0m     keep_annot \u001b[38;5;241m=\u001b[39m get_ann_text(\u001b[43mline\u001b[49m\u001b[43m[\u001b[49m\u001b[43mi\u001b[49m\u001b[43m]\u001b[49m, column_type \u001b[38;5;241m=\u001b[39m vogdb_hits)\n\u001b[1;32m     44\u001b[0m     annot_source \u001b[38;5;241m=\u001b[39m i\n\u001b[1;32m     45\u001b[0m     \u001b[38;5;28;01mreturn\u001b[39;00m keep_annot, annot_source\n",
      "File \u001b[0;32m~/opt/anaconda3/lib/python3.9/site-packages/pandas/core/series.py:958\u001b[0m, in \u001b[0;36mSeries.__getitem__\u001b[0;34m(self, key)\u001b[0m\n\u001b[1;32m    955\u001b[0m     \u001b[38;5;28;01mreturn\u001b[39;00m \u001b[38;5;28mself\u001b[39m\u001b[38;5;241m.\u001b[39m_values[key]\n\u001b[1;32m    957\u001b[0m \u001b[38;5;28;01melif\u001b[39;00m key_is_scalar:\n\u001b[0;32m--> 958\u001b[0m     \u001b[38;5;28;01mreturn\u001b[39;00m \u001b[38;5;28;43mself\u001b[39;49m\u001b[38;5;241;43m.\u001b[39;49m\u001b[43m_get_value\u001b[49m\u001b[43m(\u001b[49m\u001b[43mkey\u001b[49m\u001b[43m)\u001b[49m\n\u001b[1;32m    960\u001b[0m \u001b[38;5;28;01mif\u001b[39;00m is_hashable(key):\n\u001b[1;32m    961\u001b[0m     \u001b[38;5;66;03m# Otherwise index.get_value will raise InvalidIndexError\u001b[39;00m\n\u001b[1;32m    962\u001b[0m     \u001b[38;5;28;01mtry\u001b[39;00m:\n\u001b[1;32m    963\u001b[0m         \u001b[38;5;66;03m# For labels that don't resolve as scalars like tuples and frozensets\u001b[39;00m\n",
      "File \u001b[0;32m~/opt/anaconda3/lib/python3.9/site-packages/pandas/core/series.py:1069\u001b[0m, in \u001b[0;36mSeries._get_value\u001b[0;34m(self, label, takeable)\u001b[0m\n\u001b[1;32m   1066\u001b[0m     \u001b[38;5;28;01mreturn\u001b[39;00m \u001b[38;5;28mself\u001b[39m\u001b[38;5;241m.\u001b[39m_values[label]\n\u001b[1;32m   1068\u001b[0m \u001b[38;5;66;03m# Similar to Index.get_value, but we do not fall back to positional\u001b[39;00m\n\u001b[0;32m-> 1069\u001b[0m loc \u001b[38;5;241m=\u001b[39m \u001b[38;5;28;43mself\u001b[39;49m\u001b[38;5;241;43m.\u001b[39;49m\u001b[43mindex\u001b[49m\u001b[38;5;241;43m.\u001b[39;49m\u001b[43mget_loc\u001b[49m\u001b[43m(\u001b[49m\u001b[43mlabel\u001b[49m\u001b[43m)\u001b[49m\n\u001b[1;32m   1070\u001b[0m \u001b[38;5;28;01mreturn\u001b[39;00m \u001b[38;5;28mself\u001b[39m\u001b[38;5;241m.\u001b[39mindex\u001b[38;5;241m.\u001b[39m_get_values_for_loc(\u001b[38;5;28mself\u001b[39m, loc, label)\n",
      "File \u001b[0;32m~/opt/anaconda3/lib/python3.9/site-packages/pandas/core/indexes/base.py:3623\u001b[0m, in \u001b[0;36mIndex.get_loc\u001b[0;34m(self, key, method, tolerance)\u001b[0m\n\u001b[1;32m   3621\u001b[0m     \u001b[38;5;28;01mreturn\u001b[39;00m \u001b[38;5;28mself\u001b[39m\u001b[38;5;241m.\u001b[39m_engine\u001b[38;5;241m.\u001b[39mget_loc(casted_key)\n\u001b[1;32m   3622\u001b[0m \u001b[38;5;28;01mexcept\u001b[39;00m \u001b[38;5;167;01mKeyError\u001b[39;00m \u001b[38;5;28;01mas\u001b[39;00m err:\n\u001b[0;32m-> 3623\u001b[0m     \u001b[38;5;28;01mraise\u001b[39;00m \u001b[38;5;167;01mKeyError\u001b[39;00m(key) \u001b[38;5;28;01mfrom\u001b[39;00m \u001b[38;5;21;01merr\u001b[39;00m\n\u001b[1;32m   3624\u001b[0m \u001b[38;5;28;01mexcept\u001b[39;00m \u001b[38;5;167;01mTypeError\u001b[39;00m:\n\u001b[1;32m   3625\u001b[0m     \u001b[38;5;66;03m# If we have a listlike key, _check_indexing_error will raise\u001b[39;00m\n\u001b[1;32m   3626\u001b[0m     \u001b[38;5;66;03m#  InvalidIndexError. Otherwise we fall through and re-raise\u001b[39;00m\n\u001b[1;32m   3627\u001b[0m     \u001b[38;5;66;03m#  the TypeError.\u001b[39;00m\n\u001b[1;32m   3628\u001b[0m     \u001b[38;5;28mself\u001b[39m\u001b[38;5;241m.\u001b[39m_check_indexing_error(key)\n",
      "\u001b[0;31mKeyError\u001b[0m: 'E'"
     ]
    }
   ],
   "source": [
    "\n",
    "df[['annotation','annotation_source']] = df.apply(assign_annot, axis=1, result_type='expand')"
   ]
  },
  {
   "cell_type": "code",
   "execution_count": null,
   "id": "a308e107-1779-4c33-a112-1d38e63a8a9b",
   "metadata": {},
   "outputs": [],
   "source": []
  }
 ],
 "metadata": {
  "kernelspec": {
   "display_name": "Python 3 (ipykernel)",
   "language": "python",
   "name": "python3"
  },
  "language_info": {
   "codemirror_mode": {
    "name": "ipython",
    "version": 3
   },
   "file_extension": ".py",
   "mimetype": "text/x-python",
   "name": "python",
   "nbconvert_exporter": "python",
   "pygments_lexer": "ipython3",
   "version": "3.9.12"
  }
 },
 "nbformat": 4,
 "nbformat_minor": 5
}
