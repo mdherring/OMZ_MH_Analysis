{
 "cells": [
  {
   "cell_type": "markdown",
   "id": "322c54de-9d21-4c5e-a0e6-7f577d8557d2",
   "metadata": {},
   "source": [
    "# 05_create_proximeta_assoc_gtdb_table\n",
    "\n",
    "Run this notebook to merge MAG GTDB data with proximeta associations."
   ]
  },
  {
   "cell_type": "code",
   "execution_count": 9,
   "id": "e7852267-8c09-4b8d-80d2-7395b0fbead5",
   "metadata": {},
   "outputs": [],
   "source": [
    "# Load packages\n",
    "import pandas as pd\n",
    "import os\n",
    "import os.path as op\n",
    "import sys\n",
    "import csv\n",
    "import numpy as np\n",
    "import matplotlib\n",
    "import glob\n",
    "import seaborn as sns\n",
    "from collections import Counter\n",
    "import matplotlib.pyplot as plt\n",
    "\n",
    "m_path = '/Users/melissaherring/Google Drive/My Drive/MH_project/'\n",
    "#j_path = '/Users/juliabrown/Google Drive/My Drive/projects/OMZvir_round2/MH_project/'\n",
    "\n",
    "# from 01_create_proximeta_associations_table:\n",
    "proximeta_assoc = pd.read_csv(op.join(m_path, 'tables/proximeta_associations_table.csv'))\n",
    "\n",
    "# from 03_create_merged_mag_gtdb_table:\n",
    "mag_gtdb = pd.read_csv(op.join(m_path, 'tables/merged_mag_gtdb_table.csv'))\n",
    "\n",
    "# rename mag_gtdb user_genome column to match associations data frame\n",
    "mag_gtdb.rename(columns={'user_genome':'host_name'}, inplace=True) \n",
    "\n",
    "# Merge two data frames together\n",
    "combo = proximeta_assoc.merge(mag_gtdb,how='left',on=[\"host_name\",\"sample_name\",\"sample_depth\"])\n",
    "\n",
    "# make all NA values match\n",
    "combo = combo.fillna(\"NA\")\n",
    "\n",
    "# write csv\n",
    "combo.to_csv(op.join(m_path, 'tables/proximeta_assoc_gtdb_table.csv'), index=False)"
   ]
  }
 ],
 "metadata": {
  "kernelspec": {
   "display_name": "Python 3 (ipykernel)",
   "language": "python",
   "name": "python3"
  },
  "language_info": {
   "codemirror_mode": {
    "name": "ipython",
    "version": 3
   },
   "file_extension": ".py",
   "mimetype": "text/x-python",
   "name": "python",
   "nbconvert_exporter": "python",
   "pygments_lexer": "ipython3",
   "version": "3.9.12"
  }
 },
 "nbformat": 4,
 "nbformat_minor": 5
}
