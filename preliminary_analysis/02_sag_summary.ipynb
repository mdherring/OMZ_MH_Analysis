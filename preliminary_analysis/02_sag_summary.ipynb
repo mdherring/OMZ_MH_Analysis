{
 "cells": [
  {
   "cell_type": "markdown",
   "id": "76759877-6bfd-4b2a-9fb9-0a60a158d5e9",
   "metadata": {},
   "source": [
    "# 02_sag_summary"
   ]
  },
  {
   "cell_type": "code",
   "execution_count": 20,
   "id": "ae825e98-bfbb-4ac4-91b4-afb6d5deb386",
   "metadata": {},
   "outputs": [],
   "source": [
    "# Load packages\n",
    "import pandas as pd\n",
    "import os\n",
    "import os.path as op\n",
    "import sys\n",
    "import csv\n",
    "import numpy as np\n",
    "import matplotlib\n",
    "import glob\n",
    "import seaborn as sns\n",
    "from collections import Counter\n",
    "import matplotlib.pyplot as plt\n",
    "\n",
    "# global options\n",
    "pd.set_option('display.max_columns', None)\n",
    "\n",
    "# file paths\n",
    "path = '/Users/melissaherring/Google Drive/My Drive/MH_project/'\n",
    "#path = '/Users/juliabrown/Google Drive/My Drive/projects/OMZvir_round2/MH_project/'\n",
    "\n",
    "# load proximeta master table\n",
    "sags = pd.read_csv(op.join(path, 'tables/sag_master.csv'))"
   ]
  },
  {
   "cell_type": "markdown",
   "id": "fabe8020-c87d-4a19-9b18-af2e37de64bf",
   "metadata": {},
   "source": [
    "## Virus type breakdown:"
   ]
  },
  {
   "cell_type": "code",
   "execution_count": 21,
   "id": "423f6b34-dfa2-41dd-bf99-cc6d508f9b62",
   "metadata": {},
   "outputs": [
    {
     "data": {
      "text/html": [
       "<div>\n",
       "<style scoped>\n",
       "    .dataframe tbody tr th:only-of-type {\n",
       "        vertical-align: middle;\n",
       "    }\n",
       "\n",
       "    .dataframe tbody tr th {\n",
       "        vertical-align: top;\n",
       "    }\n",
       "\n",
       "    .dataframe thead th {\n",
       "        text-align: right;\n",
       "    }\n",
       "</style>\n",
       "<table border=\"1\" class=\"dataframe\">\n",
       "  <thead>\n",
       "    <tr style=\"text-align: right;\">\n",
       "      <th></th>\n",
       "      <th>virus_type</th>\n",
       "      <th>count</th>\n",
       "    </tr>\n",
       "  </thead>\n",
       "  <tbody>\n",
       "    <tr>\n",
       "      <th>0</th>\n",
       "      <td>unassociated vsag</td>\n",
       "      <td>5</td>\n",
       "    </tr>\n",
       "    <tr>\n",
       "      <th>1</th>\n",
       "      <td>uninfected sag</td>\n",
       "      <td>311</td>\n",
       "    </tr>\n",
       "    <tr>\n",
       "      <th>2</th>\n",
       "      <td>vsag</td>\n",
       "      <td>39</td>\n",
       "    </tr>\n",
       "  </tbody>\n",
       "</table>\n",
       "</div>"
      ],
      "text/plain": [
       "          virus_type  count\n",
       "0  unassociated vsag      5\n",
       "1     uninfected sag    311\n",
       "2               vsag     39"
      ]
     },
     "execution_count": 21,
     "metadata": {},
     "output_type": "execute_result"
    }
   ],
   "source": [
    "sags.groupby('virus_type').size().reset_index(name='count')"
   ]
  },
  {
   "cell_type": "markdown",
   "id": "378a3596-b459-44b2-ab02-e6533135c7b2",
   "metadata": {},
   "source": [
    "In this data set, there are 39 vmags associated with hosts, 5 vmags that aren't associated with hosts, and 311 sags that aren't associated with viruses."
   ]
  },
  {
   "cell_type": "code",
   "execution_count": 24,
   "id": "44558e6f-e46c-473c-8f53-8dcc0d26328a",
   "metadata": {},
   "outputs": [
    {
     "data": {
      "text/html": [
       "<div>\n",
       "<style scoped>\n",
       "    .dataframe tbody tr th:only-of-type {\n",
       "        vertical-align: middle;\n",
       "    }\n",
       "\n",
       "    .dataframe tbody tr th {\n",
       "        vertical-align: top;\n",
       "    }\n",
       "\n",
       "    .dataframe thead th {\n",
       "        text-align: right;\n",
       "    }\n",
       "</style>\n",
       "<table border=\"1\" class=\"dataframe\">\n",
       "  <thead>\n",
       "    <tr style=\"text-align: right;\">\n",
       "      <th></th>\n",
       "      <th>count</th>\n",
       "      <th>sample_depth</th>\n",
       "      <th>type</th>\n",
       "    </tr>\n",
       "  </thead>\n",
       "  <tbody>\n",
       "    <tr>\n",
       "      <th>80</th>\n",
       "      <td>12</td>\n",
       "      <td>80</td>\n",
       "      <td>vsags associated with a host</td>\n",
       "    </tr>\n",
       "    <tr>\n",
       "      <th>400</th>\n",
       "      <td>11</td>\n",
       "      <td>95</td>\n",
       "      <td>vsags associated with a host</td>\n",
       "    </tr>\n",
       "    <tr>\n",
       "      <th>95</th>\n",
       "      <td>9</td>\n",
       "      <td>140</td>\n",
       "      <td>vsags associated with a host</td>\n",
       "    </tr>\n",
       "    <tr>\n",
       "      <th>140</th>\n",
       "      <td>7</td>\n",
       "      <td>400</td>\n",
       "      <td>vsags associated with a host</td>\n",
       "    </tr>\n",
       "    <tr>\n",
       "      <th>80</th>\n",
       "      <td>13</td>\n",
       "      <td>80</td>\n",
       "      <td>vsags total</td>\n",
       "    </tr>\n",
       "    <tr>\n",
       "      <th>95</th>\n",
       "      <td>13</td>\n",
       "      <td>95</td>\n",
       "      <td>vsags total</td>\n",
       "    </tr>\n",
       "    <tr>\n",
       "      <th>400</th>\n",
       "      <td>11</td>\n",
       "      <td>140</td>\n",
       "      <td>vsags total</td>\n",
       "    </tr>\n",
       "    <tr>\n",
       "      <th>140</th>\n",
       "      <td>7</td>\n",
       "      <td>400</td>\n",
       "      <td>vsags total</td>\n",
       "    </tr>\n",
       "  </tbody>\n",
       "</table>\n",
       "</div>"
      ],
      "text/plain": [
       "     count  sample_depth                          type\n",
       "80      12            80  vsags associated with a host\n",
       "400     11            95  vsags associated with a host\n",
       "95       9           140  vsags associated with a host\n",
       "140      7           400  vsags associated with a host\n",
       "80      13            80                   vsags total\n",
       "95      13            95                   vsags total\n",
       "400     11           140                   vsags total\n",
       "140      7           400                   vsags total"
      ]
     },
     "execution_count": 24,
     "metadata": {},
     "output_type": "execute_result"
    }
   ],
   "source": [
    "# create a list of sample depths\n",
    "sample_depth = [80,95,140,400]\n",
    "\n",
    "# create a data frame of the number of smags per depth for vmags associated with a host\n",
    "vsag_host = sags.groupby('virus_type',as_index=False).get_group('vsag')\n",
    "vsag_host_count = pd.DataFrame(vsag_host['depth'].value_counts())\n",
    "vsag_host_count.rename(columns={'depth': 'count'}, inplace=True)\n",
    "vsag_host_count['sample_depth'] = sample_depth\n",
    "vsag_host_count['type'] = 'vsags associated with a host'\n",
    "\n",
    "# create a data frame of the total number of vmags (connected to a host and not connected to a host) for each sample depth\n",
    "vsag_tot = pd.concat([sags.groupby('virus_type',as_index=False).get_group('vsag'), sags.groupby('virus_type',as_index=False).get_group('unassociated vsag')]) \n",
    "vsag_tot_count = pd.DataFrame(vsag_tot['depth'].value_counts())\n",
    "vsag_tot_count.rename(columns={'depth': 'count'}, inplace=True)\n",
    "vsag_tot_count['sample_depth'] = sample_depth\n",
    "vsag_tot_count['type'] = 'vsags total'\n",
    "\n",
    "# merge the two vmag data frames from above to plot\n",
    "vsag_plot = pd.concat([vsag_host_count,vsag_tot_count])\n",
    "vsag_plot"
   ]
  },
  {
   "cell_type": "code",
   "execution_count": 25,
   "id": "3ffaa1c0-e609-4ff7-b535-63411dfbc75e",
   "metadata": {},
   "outputs": [
    {
     "data": {
      "text/plain": [
       "<matplotlib.legend.Legend at 0x7f7e51159d60>"
      ]
     },
     "execution_count": 25,
     "metadata": {},
     "output_type": "execute_result"
    },
    {
     "data": {
      "image/png": "[encoded data removed]",
      "text/plain": [
       "<Figure size 432x288 with 1 Axes>"
      ]
     },
     "metadata": {
      "needs_background": "light"
     },
     "output_type": "display_data"
    }
   ],
   "source": [
    "custom_palette2 = ['goldenrod','forestgreen']\n",
    "\n",
    "sns.barplot(x=\"sample_depth\", y=\"count\", hue=\"type\", data=vsag_plot, palette=custom_palette2)\n",
    "plt.xlabel('Sample Depth')\n",
    "plt.ylabel('Count')\n",
    "plt.legend(title='',loc='upper left', bbox_to_anchor=(1, 1))"
   ]
  },
  {
   "cell_type": "markdown",
   "id": "a490c2d2-9bd2-49a8-a01b-dfb781f2db90",
   "metadata": {},
   "source": [
    "This plot shows the number of vsags associated with a host and the total number of vsags (associated with a host and not associated) for each sample depth. The x-axis is sample depth and the y-axis is the number of each type. Yellow bars represent vsags associated with a host and green bars represent the total number of vsags.\n",
    "\n",
    "Overall, there is a much higher proportion of vsags with associated hosts than vmags with associated hosts. Both the total number of vmags and those associated with hosts generally decrease as depth increases."
   ]
  }
 ],
 "metadata": {
  "kernelspec": {
   "display_name": "Python 3 (ipykernel)",
   "language": "python",
   "name": "python3"
  },
  "language_info": {
   "codemirror_mode": {
    "name": "ipython",
    "version": 3
   },
   "file_extension": ".py",
   "mimetype": "text/x-python",
   "name": "python",
   "nbconvert_exporter": "python",
   "pygments_lexer": "ipython3",
   "version": "3.9.12"
  }
 },
 "nbformat": 4,
 "nbformat_minor": 5
}
