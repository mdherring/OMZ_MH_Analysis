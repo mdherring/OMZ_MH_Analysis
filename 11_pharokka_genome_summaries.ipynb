{
 "cells": [
  {
   "cell_type": "markdown",
   "id": "83b6836e-1182-45e0-8e8c-ea0ec898441d",
   "metadata": {},
   "source": [
    "# 11_pharokka_genome_summaries"
   ]
  },
  {
   "cell_type": "markdown",
   "id": "4538431e-9711-4c5d-adf0-23b337037446",
   "metadata": {},
   "source": [
    "This document summarizes the ouput of pharokka of the 10 selected genomes in the 10_interesting_virus_host_pairs jupyter notebook, which was run on Galaxy. Each of the viruses where run on pharokka separately due to errors when running multiple at one time. vMAGs were run using meta mode. All output files are uploaded to google drive folder MH_project > prokka_output with edited file names that include virus name. There are separate histories in Galaxy for vsags and vmags.\n",
    "\n",
    "| virus name     | variable name | type | sample depth |\n",
    "|----------------|---------------|------| ------------ |\n",
    "| vir_AM-654-B04 | vsag1         | vSAG | 80           |\n",
    "| vir_AM-654-E17 | vsag2         | vSAG | 80           |         \n",
    "| vir_AM-656-P04 | vsag3         | vSAG | 95           |\n",
    "| vir_AM-662-D22 | vsag4         | vSAG | 140          |\n",
    "| vir_AM-666-P13 | vsag5         | vSAG | 400          |\n",
    "| jv119_vMAG_29  | vmag1         | vMAG | 400          |          \n",
    "| jv119_vMAG_32  | vmag2         | vMAG | 400          |\n",
    "| jv121_vMAG_31  | vmag3         | vMAG | 95           |\n",
    "| jv154_vMAG_31  | vmag4         | vMAG | 140          |\n",
    "| jv154_vMAG_44  | vmag5         | vMAG | 140          |"
   ]
  },
  {
   "cell_type": "markdown",
   "id": "19dc312a-deb5-4948-9877-cc30ef0f1350",
   "metadata": {},
   "source": [
    "## Load packages and data"
   ]
  },
  {
   "cell_type": "code",
   "execution_count": 92,
   "id": "16135335-f566-4b7c-a4f6-5c2682a66830",
   "metadata": {},
   "outputs": [],
   "source": [
    "import pandas as pd\n",
    "import os\n",
    "import sys\n",
    "import csv\n",
    "import numpy as np\n",
    "import matplotlib\n",
    "import matplotlib.pyplot as plt\n",
    "import glob\n",
    "import seaborn as sns\n",
    "from collections import Counter\n",
    "\n",
    "pd.set_option('display.max_columns', None)\n",
    "\n",
    "vsag1 = pd.read_csv(\"~/Documents/Bigelow/Virus_Project/OMZ_MH_Analysis/Data/pharokka_output/vir_AM-654-B04/pharokka_cds_final_merged_output_vir_AM-654-B04.tsv\", sep = '\\t' )\n",
    "\n",
    "vsag2 = pd.read_csv(\"~/Documents/Bigelow/Virus_Project/OMZ_MH_Analysis/Data/pharokka_output/vir_AM-654-E17/pharokka_cds_final_merged_output_vir_AM-654-E17.tsv\", sep = '\\t' )\n",
    "\n",
    "vsag3 = pd.read_csv(\"~/Documents/Bigelow/Virus_Project/OMZ_MH_Analysis/Data/pharokka_output/vir_AM-656-P04/pharokka_cds_final_merged_output_vir_AM-656-P04.tsv\", sep = '\\t' )\n",
    "\n",
    "vsag4 = pd.read_csv(\"~/Documents/Bigelow/Virus_Project/OMZ_MH_Analysis/Data/pharokka_output/vir_AM-662-D22/pharokka_cds_final_merged_output_vir_AM-662-D22.tsv\", sep = '\\t' )\n",
    "\n",
    "vsag5 = pd.read_csv(\"~/Documents/Bigelow/Virus_Project/OMZ_MH_Analysis/Data/pharokka_output/vir_AM-666-P13/pharokka_cds_final_merged_output_vir_AM-666-P13.tsv\", sep = '\\t' )\n",
    "\n",
    "vmag1 = pd.read_csv(\"~/Documents/Bigelow/Virus_Project/OMZ_MH_Analysis/Data/pharokka_output/jv119_vMAG_29/pharokka_cds_final_merged_output_jv119_vMAG_29.tsv\", sep = '\\t' )\n",
    "\n",
    "vmag2 = pd.read_csv(\"~/Documents/Bigelow/Virus_Project/OMZ_MH_Analysis/Data/pharokka_output/jv119_vMAG_32/pharokka_cds_final_merged_output_jv119_vMAG_32.tsv\", sep = '\\t' )\n",
    "\n",
    "vmag3 = pd.read_csv(\"~/Documents/Bigelow/Virus_Project/OMZ_MH_Analysis/Data/pharokka_output/jv121_vMAG_31/pharokka_cds_final_merged_output_jv121_vMAG_31.tsv\", sep = '\\t' )\n",
    "\n",
    "vmag4 = pd.read_csv(\"~/Documents/Bigelow/Virus_Project/OMZ_MH_Analysis/Data/pharokka_output/jv154_vMAG_31/pharokka_cds_final_merged_output_jv154_vMAG_31.tsv\", sep = '\\t' )\n",
    "\n",
    "vmag5 = pd.read_csv(\"~/Documents/Bigelow/Virus_Project/OMZ_MH_Analysis/Data/pharokka_output/jv154_vMAG_44/pharokka_cds_final_merged_output_jv154_vMAG_44.tsv\", sep = '\\t' )\n"
   ]
  },
  {
   "cell_type": "markdown",
   "id": "93a1ffdf-8cf4-44f2-9125-7ba69f38eae0",
   "metadata": {},
   "source": [
    "## vSAGs"
   ]
  },
  {
   "cell_type": "markdown",
   "id": "d02490dc-d296-4be7-9e39-a82d4fa09c9b",
   "metadata": {},
   "source": [
    "### vSAG1: vir-AM-654-B04"
   ]
  },
  {
   "cell_type": "code",
   "execution_count": 25,
   "id": "8e9b4747-a6a7-4400-888e-977d6ae7d8c7",
   "metadata": {},
   "outputs": [
    {
     "data": {
      "text/plain": [
       "164"
      ]
     },
     "execution_count": 25,
     "metadata": {},
     "output_type": "execute_result"
    }
   ],
   "source": [
    "len(vsag1)"
   ]
  },
  {
   "cell_type": "code",
   "execution_count": 32,
   "id": "9ec1cdb1-36e2-4526-a57c-f1b3ec25e3d8",
   "metadata": {},
   "outputs": [
    {
     "data": {
      "text/plain": [
       "unknown function                                     107\n",
       "DNA, RNA and nucleotide metabolism                    16\n",
       "other                                                 13\n",
       "moron, auxiliary metabolic gene and host takeover      9\n",
       "head and packaging                                     8\n",
       "tail                                                   8\n",
       "connector                                              2\n",
       "transcription regulation                               1\n",
       "Name: category, dtype: int64"
      ]
     },
     "execution_count": 32,
     "metadata": {},
     "output_type": "execute_result"
    }
   ],
   "source": [
    "vsag1['category'].value_counts()"
   ]
  },
  {
   "cell_type": "code",
   "execution_count": 33,
   "id": "68ad123e-05aa-4825-8900-281c7cd4cb80",
   "metadata": {},
   "outputs": [
    {
     "data": {
      "text/plain": [
       "glycosyltransferase                                   2\n",
       "glucosyltransferase                                   1\n",
       "phosphoheptose isomerase                              1\n",
       "phosphoribosylaminoimidazole synthetase               1\n",
       "5-phosphoribosylformylglycinamide amidotransferase    1\n",
       "porphyrin biosynthesis                                1\n",
       "Galactose-3-O-sulfotransferase                        1\n",
       "ferredoxin                                            1\n",
       "Name: annot, dtype: int64"
      ]
     },
     "execution_count": 33,
     "metadata": {},
     "output_type": "execute_result"
    }
   ],
   "source": [
    "vsag1_AMG = vsag1[vsag1['category'] == 'moron, auxiliary metabolic gene and host takeover']\n",
    "vsag1_AMG['annot'].value_counts()"
   ]
  },
  {
   "cell_type": "code",
   "execution_count": 34,
   "id": "fd3a6cae-67a8-4589-aff7-ea29c90a7ed1",
   "metadata": {},
   "outputs": [
    {
     "data": {
      "text/plain": [
       "9"
      ]
     },
     "execution_count": 34,
     "metadata": {},
     "output_type": "execute_result"
    }
   ],
   "source": [
    "len(vsag1_AMG)"
   ]
  },
  {
   "cell_type": "markdown",
   "id": "a73c08ec-d1b5-400a-8d20-f0596b05e00e",
   "metadata": {},
   "source": [
    "### vSAG2: vir_AM-654-E17"
   ]
  },
  {
   "cell_type": "code",
   "execution_count": 81,
   "id": "1ba39b90-b583-4b3e-9746-dddc97013fe7",
   "metadata": {},
   "outputs": [
    {
     "data": {
      "text/plain": [
       "212"
      ]
     },
     "execution_count": 81,
     "metadata": {},
     "output_type": "execute_result"
    }
   ],
   "source": [
    "len(vsag2)"
   ]
  },
  {
   "cell_type": "code",
   "execution_count": 29,
   "id": "676f997d-6e39-4afb-821e-5eee6731412a",
   "metadata": {},
   "outputs": [
    {
     "data": {
      "text/plain": [
       "unknown function                                     152\n",
       "tail                                                  18\n",
       "DNA, RNA and nucleotide metabolism                    15\n",
       "other                                                  8\n",
       "head and packaging                                     7\n",
       "moron, auxiliary metabolic gene and host takeover      5\n",
       "connector                                              3\n",
       "transcription regulation                               3\n",
       "lysis                                                  1\n",
       "Name: category, dtype: int64"
      ]
     },
     "execution_count": 29,
     "metadata": {},
     "output_type": "execute_result"
    }
   ],
   "source": [
    "vsag2['category'].value_counts()"
   ]
  },
  {
   "cell_type": "code",
   "execution_count": 35,
   "id": "ade409d9-0466-4b78-a0a7-170504333626",
   "metadata": {},
   "outputs": [
    {
     "data": {
      "text/plain": [
       "anti-restriction protein       1\n",
       "porphyrin biosynthesis         1\n",
       "2OG-Fe(II) oxygenase           1\n",
       "5'-3' deoxyribonucleotidase    1\n",
       "ribosomal protein S21          1\n",
       "Name: annot, dtype: int64"
      ]
     },
     "execution_count": 35,
     "metadata": {},
     "output_type": "execute_result"
    }
   ],
   "source": [
    "vsag2_AMG = vsag2[vsag2['category'] == 'moron, auxiliary metabolic gene and host takeover']\n",
    "vsag2_AMG['annot'].value_counts()"
   ]
  },
  {
   "cell_type": "code",
   "execution_count": 36,
   "id": "36e36371-59b6-425a-8192-15edb324e822",
   "metadata": {},
   "outputs": [
    {
     "data": {
      "text/plain": [
       "5"
      ]
     },
     "execution_count": 36,
     "metadata": {},
     "output_type": "execute_result"
    }
   ],
   "source": [
    "len(vsag2_AMG)"
   ]
  },
  {
   "cell_type": "markdown",
   "id": "ac7d86b8-91cf-4eaa-947a-d5aa9969a42c",
   "metadata": {},
   "source": [
    "### vSAG3: vir_AM-656-P04"
   ]
  },
  {
   "cell_type": "code",
   "execution_count": 39,
   "id": "53b96999-15f3-4512-8221-4fc1819692d9",
   "metadata": {},
   "outputs": [
    {
     "data": {
      "text/plain": [
       "51"
      ]
     },
     "execution_count": 39,
     "metadata": {},
     "output_type": "execute_result"
    }
   ],
   "source": [
    "len(vsag3)"
   ]
  },
  {
   "cell_type": "code",
   "execution_count": 40,
   "id": "a12d82f9-8617-47f1-afe6-753308b6786b",
   "metadata": {},
   "outputs": [
    {
     "data": {
      "text/plain": [
       "unknown function                      29\n",
       "DNA, RNA and nucleotide metabolism     8\n",
       "head and packaging                     5\n",
       "tail                                   5\n",
       "other                                  2\n",
       "connector                              1\n",
       "lysis                                  1\n",
       "Name: category, dtype: int64"
      ]
     },
     "execution_count": 40,
     "metadata": {},
     "output_type": "execute_result"
    }
   ],
   "source": [
    "vsag3['category'].value_counts()"
   ]
  },
  {
   "cell_type": "markdown",
   "id": "1be23687-8e40-4e19-9df5-dacd582cbe2c",
   "metadata": {},
   "source": [
    "## vSAG4: vir_AM-662-D22"
   ]
  },
  {
   "cell_type": "code",
   "execution_count": 44,
   "id": "73c42cfa-2bef-4cc8-948c-b2d5e684dd9c",
   "metadata": {},
   "outputs": [
    {
     "data": {
      "text/plain": [
       "60"
      ]
     },
     "execution_count": 44,
     "metadata": {},
     "output_type": "execute_result"
    }
   ],
   "source": [
    "len(vsags4)"
   ]
  },
  {
   "cell_type": "code",
   "execution_count": 47,
   "id": "616688aa-9a0b-46f5-a306-bd7ed970b3fe",
   "metadata": {},
   "outputs": [
    {
     "data": {
      "text/plain": [
       "unknown function                      46\n",
       "head and packaging                     6\n",
       "DNA, RNA and nucleotide metabolism     5\n",
       "tail                                   3\n",
       "Name: category, dtype: int64"
      ]
     },
     "execution_count": 47,
     "metadata": {},
     "output_type": "execute_result"
    }
   ],
   "source": [
    "vsag4['category'].value_counts()"
   ]
  },
  {
   "cell_type": "markdown",
   "id": "cc975a2d-ea66-48f1-b1ee-4eef8441857e",
   "metadata": {},
   "source": [
    "## vSAG5: vir_AM-666-P13"
   ]
  },
  {
   "cell_type": "code",
   "execution_count": 49,
   "id": "fe6d244f-8c03-49c4-bbb4-08f36b6aa382",
   "metadata": {},
   "outputs": [
    {
     "data": {
      "text/plain": [
       "194"
      ]
     },
     "execution_count": 49,
     "metadata": {},
     "output_type": "execute_result"
    }
   ],
   "source": [
    "len(vsag5)"
   ]
  },
  {
   "cell_type": "code",
   "execution_count": 50,
   "id": "d379dca9-d4f1-477d-9a51-77550d540f64",
   "metadata": {},
   "outputs": [
    {
     "data": {
      "text/plain": [
       "unknown function                                     164\n",
       "DNA, RNA and nucleotide metabolism                    11\n",
       "other                                                  9\n",
       "head and packaging                                     5\n",
       "moron, auxiliary metabolic gene and host takeover      3\n",
       "tail                                                   2\n",
       "Name: category, dtype: int64"
      ]
     },
     "execution_count": 50,
     "metadata": {},
     "output_type": "execute_result"
    }
   ],
   "source": [
    "vsag5['category'].value_counts()"
   ]
  },
  {
   "cell_type": "code",
   "execution_count": 51,
   "id": "b36b7da8-0abe-419a-be02-d37ac98bd108",
   "metadata": {},
   "outputs": [
    {
     "data": {
      "text/plain": [
       "2OG-Fe(II) oxygenase                               1\n",
       "QueE-like  radical SAM domain                      1\n",
       "QueD-like  6-pyruvoyl-tetrahydropterin synthase    1\n",
       "Name: annot, dtype: int64"
      ]
     },
     "execution_count": 51,
     "metadata": {},
     "output_type": "execute_result"
    }
   ],
   "source": [
    "vsag5_AMG = vsag5[vsag5['category'] == 'moron, auxiliary metabolic gene and host takeover']\n",
    "vsag5_AMG['annot'].value_counts()"
   ]
  },
  {
   "cell_type": "markdown",
   "id": "23a149d0-4b33-431e-a04c-bbd220e656cf",
   "metadata": {},
   "source": [
    "## vMAGs"
   ]
  },
  {
   "cell_type": "markdown",
   "id": "eb44ad94-6fef-45df-99bd-3c31ee546fd8",
   "metadata": {},
   "source": [
    "## vMAG1: jv119_vMAG_29"
   ]
  },
  {
   "cell_type": "code",
   "execution_count": 77,
   "id": "da096899-bdd5-4fcc-92be-3405af79ab0f",
   "metadata": {},
   "outputs": [
    {
     "data": {
      "text/plain": [
       "101"
      ]
     },
     "execution_count": 77,
     "metadata": {},
     "output_type": "execute_result"
    }
   ],
   "source": [
    "len(vmag1)"
   ]
  },
  {
   "cell_type": "code",
   "execution_count": 78,
   "id": "71a1e0cf-b305-4fa6-af6a-2b35a7b104d5",
   "metadata": {},
   "outputs": [
    {
     "data": {
      "text/plain": [
       "unknown function                      91\n",
       "integration and excision               3\n",
       "DNA, RNA and nucleotide metabolism     3\n",
       "other                                  2\n",
       "transcription regulation               1\n",
       "head and packaging                     1\n",
       "Name: category, dtype: int64"
      ]
     },
     "execution_count": 78,
     "metadata": {},
     "output_type": "execute_result"
    }
   ],
   "source": [
    "vmag1['category'].value_counts()"
   ]
  },
  {
   "cell_type": "markdown",
   "id": "409c3455-3d41-430e-a378-0757c212c53b",
   "metadata": {},
   "source": [
    "### vmag2: jv119_vMAG_32"
   ]
  },
  {
   "cell_type": "code",
   "execution_count": 82,
   "id": "7234216c-098f-428c-854d-c4b936affc8d",
   "metadata": {},
   "outputs": [
    {
     "data": {
      "text/plain": [
       "40"
      ]
     },
     "execution_count": 82,
     "metadata": {},
     "output_type": "execute_result"
    }
   ],
   "source": [
    "len(vmag2)"
   ]
  },
  {
   "cell_type": "code",
   "execution_count": 83,
   "id": "d9ad680a-af8c-4f6f-bba0-e3de3339fa70",
   "metadata": {},
   "outputs": [
    {
     "data": {
      "text/plain": [
       "unknown function                                     31\n",
       "DNA, RNA and nucleotide metabolism                    5\n",
       "head and packaging                                    2\n",
       "other                                                 1\n",
       "moron, auxiliary metabolic gene and host takeover     1\n",
       "Name: category, dtype: int64"
      ]
     },
     "execution_count": 83,
     "metadata": {},
     "output_type": "execute_result"
    }
   ],
   "source": [
    "vmag2['category'].value_counts()"
   ]
  },
  {
   "cell_type": "code",
   "execution_count": 84,
   "id": "7bf5e13d-99cf-4e72-9c96-f525066e40c0",
   "metadata": {},
   "outputs": [
    {
     "data": {
      "text/plain": [
       "QueC-like queuosine biosynthesis    1\n",
       "Name: annot, dtype: int64"
      ]
     },
     "execution_count": 84,
     "metadata": {},
     "output_type": "execute_result"
    }
   ],
   "source": [
    "vmag2_AMG = vmag2[vmag2['category'] == 'moron, auxiliary metabolic gene and host takeover']\n",
    "vmag2_AMG['annot'].value_counts()"
   ]
  },
  {
   "cell_type": "markdown",
   "id": "3d86db08-ad7d-4d19-9a14-790294426df1",
   "metadata": {},
   "source": [
    "### vmag3: jv121_vMAG_31"
   ]
  },
  {
   "cell_type": "code",
   "execution_count": 87,
   "id": "6395734e-929c-4850-a34b-7a52a55a0147",
   "metadata": {},
   "outputs": [
    {
     "data": {
      "text/plain": [
       "74"
      ]
     },
     "execution_count": 87,
     "metadata": {},
     "output_type": "execute_result"
    }
   ],
   "source": [
    "len(vmag3)"
   ]
  },
  {
   "cell_type": "code",
   "execution_count": 88,
   "id": "eb149b51-629f-46b2-9971-2d6be17b054b",
   "metadata": {},
   "outputs": [
    {
     "data": {
      "text/plain": [
       "unknown function                      68\n",
       "DNA, RNA and nucleotide metabolism     4\n",
       "head and packaging                     1\n",
       "other                                  1\n",
       "Name: category, dtype: int64"
      ]
     },
     "execution_count": 88,
     "metadata": {},
     "output_type": "execute_result"
    }
   ],
   "source": [
    "vmag3['category'].value_counts()"
   ]
  },
  {
   "cell_type": "markdown",
   "id": "dc958797-c7f4-4c7d-b4e6-dcf661859545",
   "metadata": {},
   "source": [
    "### vmag4: jv154_vMAG_31"
   ]
  },
  {
   "cell_type": "code",
   "execution_count": 90,
   "id": "44774214-3d2a-4f90-8b8d-6c5a431c8bda",
   "metadata": {},
   "outputs": [
    {
     "data": {
      "text/plain": [
       "51"
      ]
     },
     "execution_count": 90,
     "metadata": {},
     "output_type": "execute_result"
    }
   ],
   "source": [
    "len(vmag4)"
   ]
  },
  {
   "cell_type": "code",
   "execution_count": 91,
   "id": "d8cda82b-929c-432b-a8ae-3fa592c6d9e1",
   "metadata": {},
   "outputs": [
    {
     "data": {
      "text/plain": [
       "unknown function            47\n",
       "integration and excision     2\n",
       "transcription regulation     1\n",
       "head and packaging           1\n",
       "Name: category, dtype: int64"
      ]
     },
     "execution_count": 91,
     "metadata": {},
     "output_type": "execute_result"
    }
   ],
   "source": [
    "vmag4['category'].value_counts()"
   ]
  },
  {
   "cell_type": "markdown",
   "id": "6a7a4cac-e074-488a-99da-345b4ee9bfa9",
   "metadata": {},
   "source": [
    "### vmag5: jv154_vMAG_44"
   ]
  },
  {
   "cell_type": "code",
   "execution_count": 93,
   "id": "5c9c896a-8a24-4c65-a810-fedd5e45e182",
   "metadata": {},
   "outputs": [
    {
     "data": {
      "text/plain": [
       "109"
      ]
     },
     "execution_count": 93,
     "metadata": {},
     "output_type": "execute_result"
    }
   ],
   "source": [
    "len(vmag5)"
   ]
  },
  {
   "cell_type": "code",
   "execution_count": 94,
   "id": "85c97dcb-599f-483e-9259-93de089f4161",
   "metadata": {},
   "outputs": [
    {
     "data": {
      "text/plain": [
       "unknown function                      95\n",
       "DNA, RNA and nucleotide metabolism     7\n",
       "head and packaging                     4\n",
       "other                                  2\n",
       "tail                                   1\n",
       "Name: category, dtype: int64"
      ]
     },
     "execution_count": 94,
     "metadata": {},
     "output_type": "execute_result"
    }
   ],
   "source": [
    "vmag5['category'].value_counts()"
   ]
  }
 ],
 "metadata": {
  "kernelspec": {
   "display_name": "Python 3 (ipykernel)",
   "language": "python",
   "name": "python3"
  },
  "language_info": {
   "codemirror_mode": {
    "name": "ipython",
    "version": 3
   },
   "file_extension": ".py",
   "mimetype": "text/x-python",
   "name": "python",
   "nbconvert_exporter": "python",
   "pygments_lexer": "ipython3",
   "version": "3.9.12"
  }
 },
 "nbformat": 4,
 "nbformat_minor": 5
}
