{
 "cells": [
  {
   "cell_type": "markdown",
   "id": "a805e1a5-6552-4790-a7de-309fbbdb8b34",
   "metadata": {},
   "source": [
    "# 04_MAG_gtdbtk"
   ]
  },
  {
   "cell_type": "markdown",
   "id": "6ce1b8f5-7e5b-4f33-a98e-2982e5f46915",
   "metadata": {},
   "source": [
    "This document explores the MAG GTDB output. Imported data is the original data files from google drive. This document is written in the Python coding language."
   ]
  },
  {
   "cell_type": "markdown",
   "id": "2e5a7c2d-606d-41ca-a463-ce52836e9f2a",
   "metadata": {},
   "source": [
    "## Load packages and data"
   ]
  },
  {
   "cell_type": "code",
   "execution_count": 1,
   "id": "e5f1b59f-7d4e-47e5-bd19-e03470b15fa5",
   "metadata": {
    "collapsed": true,
    "jupyter": {
     "outputs_hidden": true
    },
    "tags": []
   },
   "outputs": [
    {
     "data": {
      "text/html": [
       "<div>\n",
       "<style scoped>\n",
       "    .dataframe tbody tr th:only-of-type {\n",
       "        vertical-align: middle;\n",
       "    }\n",
       "\n",
       "    .dataframe tbody tr th {\n",
       "        vertical-align: top;\n",
       "    }\n",
       "\n",
       "    .dataframe thead th {\n",
       "        text-align: right;\n",
       "    }\n",
       "</style>\n",
       "<table border=\"1\" class=\"dataframe\">\n",
       "  <thead>\n",
       "    <tr style=\"text-align: right;\">\n",
       "      <th></th>\n",
       "      <th>user_genome</th>\n",
       "      <th>classification</th>\n",
       "      <th>fastani_reference</th>\n",
       "      <th>fastani_reference_radius</th>\n",
       "      <th>fastani_taxonomy</th>\n",
       "      <th>fastani_ani</th>\n",
       "      <th>fastani_af</th>\n",
       "      <th>closest_placement_reference</th>\n",
       "      <th>closest_placement_radius</th>\n",
       "      <th>closest_placement_taxonomy</th>\n",
       "      <th>...</th>\n",
       "      <th>warnings</th>\n",
       "      <th>sample_name</th>\n",
       "      <th>sample_depth</th>\n",
       "      <th>domain</th>\n",
       "      <th>phyla</th>\n",
       "      <th>class</th>\n",
       "      <th>order</th>\n",
       "      <th>family</th>\n",
       "      <th>genus</th>\n",
       "      <th>species</th>\n",
       "    </tr>\n",
       "  </thead>\n",
       "  <tbody>\n",
       "    <tr>\n",
       "      <th>0</th>\n",
       "      <td>bin_101</td>\n",
       "      <td>d__Archaea;p__Thermoplasmatota;c__Poseidoniia;...</td>\n",
       "      <td>GCA_002731905.1</td>\n",
       "      <td>95.0</td>\n",
       "      <td>d__Archaea;p__Thermoplasmatota;c__Poseidoniia;...</td>\n",
       "      <td>98.12</td>\n",
       "      <td>0.737</td>\n",
       "      <td>GCA_002731905.1</td>\n",
       "      <td>95.0</td>\n",
       "      <td>d__Archaea;p__Thermoplasmatota;c__Poseidoniia;...</td>\n",
       "      <td>...</td>\n",
       "      <td>NaN</td>\n",
       "      <td>JV119</td>\n",
       "      <td>400</td>\n",
       "      <td>Archaea</td>\n",
       "      <td>Thermoplasmatota</td>\n",
       "      <td>Poseidoniia</td>\n",
       "      <td>MGIII</td>\n",
       "      <td>CG-Epi1</td>\n",
       "      <td>UBA8886</td>\n",
       "      <td>UBA8886 sp002731905</td>\n",
       "    </tr>\n",
       "    <tr>\n",
       "      <th>1</th>\n",
       "      <td>bin_103</td>\n",
       "      <td>d__Archaea;p__Nanoarchaeota;c__Nanoarchaeia;o_...</td>\n",
       "      <td>NaN</td>\n",
       "      <td>NaN</td>\n",
       "      <td>NaN</td>\n",
       "      <td>NaN</td>\n",
       "      <td>NaN</td>\n",
       "      <td>NaN</td>\n",
       "      <td>NaN</td>\n",
       "      <td>NaN</td>\n",
       "      <td>...</td>\n",
       "      <td>NaN</td>\n",
       "      <td>JV119</td>\n",
       "      <td>400</td>\n",
       "      <td>Archaea</td>\n",
       "      <td>Nanoarchaeota</td>\n",
       "      <td>Nanoarchaeia</td>\n",
       "      <td>Woesearchaeales</td>\n",
       "      <td>JABIAG01</td>\n",
       "      <td>NaN</td>\n",
       "      <td>NaN</td>\n",
       "    </tr>\n",
       "    <tr>\n",
       "      <th>2</th>\n",
       "      <td>bin_107</td>\n",
       "      <td>d__Archaea;p__Nanoarchaeota;c__Nanoarchaeia;o_...</td>\n",
       "      <td>NaN</td>\n",
       "      <td>NaN</td>\n",
       "      <td>NaN</td>\n",
       "      <td>NaN</td>\n",
       "      <td>NaN</td>\n",
       "      <td>NaN</td>\n",
       "      <td>NaN</td>\n",
       "      <td>NaN</td>\n",
       "      <td>...</td>\n",
       "      <td>NaN</td>\n",
       "      <td>JV119</td>\n",
       "      <td>400</td>\n",
       "      <td>Archaea</td>\n",
       "      <td>Nanoarchaeota</td>\n",
       "      <td>Nanoarchaeia</td>\n",
       "      <td>SCGC-AAA011-G17</td>\n",
       "      <td>JACPNG01</td>\n",
       "      <td>NaN</td>\n",
       "      <td>NaN</td>\n",
       "    </tr>\n",
       "    <tr>\n",
       "      <th>3</th>\n",
       "      <td>bin_112</td>\n",
       "      <td>d__Archaea;p__Nanoarchaeota;c__Nanoarchaeia;o_...</td>\n",
       "      <td>NaN</td>\n",
       "      <td>NaN</td>\n",
       "      <td>NaN</td>\n",
       "      <td>NaN</td>\n",
       "      <td>NaN</td>\n",
       "      <td>GCA_016185615.1</td>\n",
       "      <td>95.0</td>\n",
       "      <td>d__Archaea;p__Nanoarchaeota;c__Nanoarchaeia;o_...</td>\n",
       "      <td>...</td>\n",
       "      <td>NaN</td>\n",
       "      <td>JV119</td>\n",
       "      <td>400</td>\n",
       "      <td>Archaea</td>\n",
       "      <td>Nanoarchaeota</td>\n",
       "      <td>Nanoarchaeia</td>\n",
       "      <td>SCGC-AAA011-G17</td>\n",
       "      <td>JACPNG01</td>\n",
       "      <td>JACPNE01</td>\n",
       "      <td>NaN</td>\n",
       "    </tr>\n",
       "    <tr>\n",
       "      <th>4</th>\n",
       "      <td>bin_120</td>\n",
       "      <td>d__Archaea;p__Undinarchaeota;c__Undinarchaeia;...</td>\n",
       "      <td>NaN</td>\n",
       "      <td>NaN</td>\n",
       "      <td>NaN</td>\n",
       "      <td>NaN</td>\n",
       "      <td>NaN</td>\n",
       "      <td>GCA_002502135.1</td>\n",
       "      <td>95.0</td>\n",
       "      <td>d__Archaea;p__Undinarchaeota;c__Undinarchaeia;...</td>\n",
       "      <td>...</td>\n",
       "      <td>Genome not assigned to closest species as it f...</td>\n",
       "      <td>JV119</td>\n",
       "      <td>400</td>\n",
       "      <td>Archaea</td>\n",
       "      <td>Undinarchaeota</td>\n",
       "      <td>Undinarchaeia</td>\n",
       "      <td>Undinarchaeales</td>\n",
       "      <td>UBA543</td>\n",
       "      <td>UBA543</td>\n",
       "      <td>NaN</td>\n",
       "    </tr>\n",
       "    <tr>\n",
       "      <th>...</th>\n",
       "      <td>...</td>\n",
       "      <td>...</td>\n",
       "      <td>...</td>\n",
       "      <td>...</td>\n",
       "      <td>...</td>\n",
       "      <td>...</td>\n",
       "      <td>...</td>\n",
       "      <td>...</td>\n",
       "      <td>...</td>\n",
       "      <td>...</td>\n",
       "      <td>...</td>\n",
       "      <td>...</td>\n",
       "      <td>...</td>\n",
       "      <td>...</td>\n",
       "      <td>...</td>\n",
       "      <td>...</td>\n",
       "      <td>...</td>\n",
       "      <td>...</td>\n",
       "      <td>...</td>\n",
       "      <td>...</td>\n",
       "      <td>...</td>\n",
       "    </tr>\n",
       "    <tr>\n",
       "      <th>626</th>\n",
       "      <td>bin_95</td>\n",
       "      <td>d__Bacteria;p__Pseudomonadota;c__Alphaproteoba...</td>\n",
       "      <td>GCA_002686135.1</td>\n",
       "      <td>95.0</td>\n",
       "      <td>d__Bacteria;p__Pseudomonadota;c__Alphaproteoba...</td>\n",
       "      <td>96.77</td>\n",
       "      <td>0.856</td>\n",
       "      <td>GCA_002686135.1</td>\n",
       "      <td>95.0</td>\n",
       "      <td>d__Bacteria;p__Pseudomonadota;c__Alphaproteoba...</td>\n",
       "      <td>...</td>\n",
       "      <td>NaN</td>\n",
       "      <td>JV154</td>\n",
       "      <td>140</td>\n",
       "      <td>Bacteria</td>\n",
       "      <td>Pseudomonadota</td>\n",
       "      <td>Alphaproteobacteria</td>\n",
       "      <td>UBA11136</td>\n",
       "      <td>UBA11136</td>\n",
       "      <td>UBA11136</td>\n",
       "      <td>UBA11136 sp002686135</td>\n",
       "    </tr>\n",
       "    <tr>\n",
       "      <th>627</th>\n",
       "      <td>bin_96</td>\n",
       "      <td>d__Bacteria;p__Pseudomonadota;c__Gammaproteoba...</td>\n",
       "      <td>NaN</td>\n",
       "      <td>NaN</td>\n",
       "      <td>NaN</td>\n",
       "      <td>NaN</td>\n",
       "      <td>NaN</td>\n",
       "      <td>GCA_022572185.1</td>\n",
       "      <td>95.0</td>\n",
       "      <td>d__Bacteria;p__Pseudomonadota;c__Gammaproteoba...</td>\n",
       "      <td>...</td>\n",
       "      <td>Genome not assigned to closest species as it f...</td>\n",
       "      <td>JV154</td>\n",
       "      <td>140</td>\n",
       "      <td>Bacteria</td>\n",
       "      <td>Pseudomonadota</td>\n",
       "      <td>Gammaproteobacteria</td>\n",
       "      <td>Woeseiales</td>\n",
       "      <td>Woeseiaceae</td>\n",
       "      <td>JACZWL01</td>\n",
       "      <td>NaN</td>\n",
       "    </tr>\n",
       "    <tr>\n",
       "      <th>628</th>\n",
       "      <td>bin_97</td>\n",
       "      <td>Unclassified</td>\n",
       "      <td>NaN</td>\n",
       "      <td>NaN</td>\n",
       "      <td>NaN</td>\n",
       "      <td>NaN</td>\n",
       "      <td>NaN</td>\n",
       "      <td>NaN</td>\n",
       "      <td>NaN</td>\n",
       "      <td>NaN</td>\n",
       "      <td>...</td>\n",
       "      <td>No bacterial or archaeal marker</td>\n",
       "      <td>JV154</td>\n",
       "      <td>140</td>\n",
       "      <td>Unclassified</td>\n",
       "      <td>NaN</td>\n",
       "      <td>NaN</td>\n",
       "      <td>NaN</td>\n",
       "      <td>NaN</td>\n",
       "      <td>NaN</td>\n",
       "      <td>NaN</td>\n",
       "    </tr>\n",
       "    <tr>\n",
       "      <th>629</th>\n",
       "      <td>bin_98</td>\n",
       "      <td>Unclassified</td>\n",
       "      <td>NaN</td>\n",
       "      <td>NaN</td>\n",
       "      <td>NaN</td>\n",
       "      <td>NaN</td>\n",
       "      <td>NaN</td>\n",
       "      <td>NaN</td>\n",
       "      <td>NaN</td>\n",
       "      <td>NaN</td>\n",
       "      <td>...</td>\n",
       "      <td>No bacterial or archaeal marker</td>\n",
       "      <td>JV154</td>\n",
       "      <td>140</td>\n",
       "      <td>Unclassified</td>\n",
       "      <td>NaN</td>\n",
       "      <td>NaN</td>\n",
       "      <td>NaN</td>\n",
       "      <td>NaN</td>\n",
       "      <td>NaN</td>\n",
       "      <td>NaN</td>\n",
       "    </tr>\n",
       "    <tr>\n",
       "      <th>630</th>\n",
       "      <td>bin_99</td>\n",
       "      <td>d__Bacteria;p__Acidobacteriota;c__UBA6911;o__R...</td>\n",
       "      <td>NaN</td>\n",
       "      <td>NaN</td>\n",
       "      <td>NaN</td>\n",
       "      <td>NaN</td>\n",
       "      <td>NaN</td>\n",
       "      <td>NaN</td>\n",
       "      <td>NaN</td>\n",
       "      <td>NaN</td>\n",
       "      <td>...</td>\n",
       "      <td>NaN</td>\n",
       "      <td>JV154</td>\n",
       "      <td>140</td>\n",
       "      <td>Bacteria</td>\n",
       "      <td>Acidobacteriota</td>\n",
       "      <td>UBA6911</td>\n",
       "      <td>RPQK01</td>\n",
       "      <td>RPQK01</td>\n",
       "      <td>NaN</td>\n",
       "      <td>NaN</td>\n",
       "    </tr>\n",
       "  </tbody>\n",
       "</table>\n",
       "<p>631 rows × 29 columns</p>\n",
       "</div>"
      ],
      "text/plain": [
       "    user_genome                                     classification  \\\n",
       "0       bin_101  d__Archaea;p__Thermoplasmatota;c__Poseidoniia;...   \n",
       "1       bin_103  d__Archaea;p__Nanoarchaeota;c__Nanoarchaeia;o_...   \n",
       "2       bin_107  d__Archaea;p__Nanoarchaeota;c__Nanoarchaeia;o_...   \n",
       "3       bin_112  d__Archaea;p__Nanoarchaeota;c__Nanoarchaeia;o_...   \n",
       "4       bin_120  d__Archaea;p__Undinarchaeota;c__Undinarchaeia;...   \n",
       "..          ...                                                ...   \n",
       "626      bin_95  d__Bacteria;p__Pseudomonadota;c__Alphaproteoba...   \n",
       "627      bin_96  d__Bacteria;p__Pseudomonadota;c__Gammaproteoba...   \n",
       "628      bin_97                                       Unclassified   \n",
       "629      bin_98                                       Unclassified   \n",
       "630      bin_99  d__Bacteria;p__Acidobacteriota;c__UBA6911;o__R...   \n",
       "\n",
       "    fastani_reference  fastani_reference_radius  \\\n",
       "0     GCA_002731905.1                      95.0   \n",
       "1                 NaN                       NaN   \n",
       "2                 NaN                       NaN   \n",
       "3                 NaN                       NaN   \n",
       "4                 NaN                       NaN   \n",
       "..                ...                       ...   \n",
       "626   GCA_002686135.1                      95.0   \n",
       "627               NaN                       NaN   \n",
       "628               NaN                       NaN   \n",
       "629               NaN                       NaN   \n",
       "630               NaN                       NaN   \n",
       "\n",
       "                                      fastani_taxonomy  fastani_ani  \\\n",
       "0    d__Archaea;p__Thermoplasmatota;c__Poseidoniia;...        98.12   \n",
       "1                                                  NaN          NaN   \n",
       "2                                                  NaN          NaN   \n",
       "3                                                  NaN          NaN   \n",
       "4                                                  NaN          NaN   \n",
       "..                                                 ...          ...   \n",
       "626  d__Bacteria;p__Pseudomonadota;c__Alphaproteoba...        96.77   \n",
       "627                                                NaN          NaN   \n",
       "628                                                NaN          NaN   \n",
       "629                                                NaN          NaN   \n",
       "630                                                NaN          NaN   \n",
       "\n",
       "     fastani_af closest_placement_reference  closest_placement_radius  \\\n",
       "0         0.737             GCA_002731905.1                      95.0   \n",
       "1           NaN                         NaN                       NaN   \n",
       "2           NaN                         NaN                       NaN   \n",
       "3           NaN             GCA_016185615.1                      95.0   \n",
       "4           NaN             GCA_002502135.1                      95.0   \n",
       "..          ...                         ...                       ...   \n",
       "626       0.856             GCA_002686135.1                      95.0   \n",
       "627         NaN             GCA_022572185.1                      95.0   \n",
       "628         NaN                         NaN                       NaN   \n",
       "629         NaN                         NaN                       NaN   \n",
       "630         NaN                         NaN                       NaN   \n",
       "\n",
       "                            closest_placement_taxonomy  ...  \\\n",
       "0    d__Archaea;p__Thermoplasmatota;c__Poseidoniia;...  ...   \n",
       "1                                                  NaN  ...   \n",
       "2                                                  NaN  ...   \n",
       "3    d__Archaea;p__Nanoarchaeota;c__Nanoarchaeia;o_...  ...   \n",
       "4    d__Archaea;p__Undinarchaeota;c__Undinarchaeia;...  ...   \n",
       "..                                                 ...  ...   \n",
       "626  d__Bacteria;p__Pseudomonadota;c__Alphaproteoba...  ...   \n",
       "627  d__Bacteria;p__Pseudomonadota;c__Gammaproteoba...  ...   \n",
       "628                                                NaN  ...   \n",
       "629                                                NaN  ...   \n",
       "630                                                NaN  ...   \n",
       "\n",
       "                                              warnings  sample_name  \\\n",
       "0                                                  NaN        JV119   \n",
       "1                                                  NaN        JV119   \n",
       "2                                                  NaN        JV119   \n",
       "3                                                  NaN        JV119   \n",
       "4    Genome not assigned to closest species as it f...        JV119   \n",
       "..                                                 ...          ...   \n",
       "626                                                NaN        JV154   \n",
       "627  Genome not assigned to closest species as it f...        JV154   \n",
       "628                    No bacterial or archaeal marker        JV154   \n",
       "629                    No bacterial or archaeal marker        JV154   \n",
       "630                                                NaN        JV154   \n",
       "\n",
       "    sample_depth        domain             phyla                class  \\\n",
       "0            400       Archaea  Thermoplasmatota          Poseidoniia   \n",
       "1            400       Archaea     Nanoarchaeota         Nanoarchaeia   \n",
       "2            400       Archaea     Nanoarchaeota         Nanoarchaeia   \n",
       "3            400       Archaea     Nanoarchaeota         Nanoarchaeia   \n",
       "4            400       Archaea    Undinarchaeota        Undinarchaeia   \n",
       "..           ...           ...               ...                  ...   \n",
       "626          140      Bacteria    Pseudomonadota  Alphaproteobacteria   \n",
       "627          140      Bacteria    Pseudomonadota  Gammaproteobacteria   \n",
       "628          140  Unclassified               NaN                  NaN   \n",
       "629          140  Unclassified               NaN                  NaN   \n",
       "630          140      Bacteria   Acidobacteriota              UBA6911   \n",
       "\n",
       "               order       family     genus               species  \n",
       "0              MGIII      CG-Epi1   UBA8886   UBA8886 sp002731905  \n",
       "1    Woesearchaeales     JABIAG01       NaN                   NaN  \n",
       "2    SCGC-AAA011-G17     JACPNG01       NaN                   NaN  \n",
       "3    SCGC-AAA011-G17     JACPNG01  JACPNE01                   NaN  \n",
       "4    Undinarchaeales       UBA543    UBA543                   NaN  \n",
       "..               ...          ...       ...                   ...  \n",
       "626         UBA11136     UBA11136  UBA11136  UBA11136 sp002686135  \n",
       "627       Woeseiales  Woeseiaceae  JACZWL01                   NaN  \n",
       "628              NaN          NaN       NaN                   NaN  \n",
       "629              NaN          NaN       NaN                   NaN  \n",
       "630           RPQK01       RPQK01       NaN                   NaN  \n",
       "\n",
       "[631 rows x 29 columns]"
      ]
     },
     "execution_count": 1,
     "metadata": {},
     "output_type": "execute_result"
    }
   ],
   "source": [
    "import pandas as pd\n",
    "import os\n",
    "import sys\n",
    "import csv\n",
    "import numpy as np\n",
    "import matplotlib\n",
    "import matplotlib.pyplot as plt\n",
    "import glob\n",
    "import seaborn as sns\n",
    "from collections import Counter\n",
    "import matplotlib.pyplot as plt\n",
    "\n",
    "df = pd.read_csv('/Users/melissaherring/Documents/Bigelow- starting Sept 2022/Virus Project/OMZ_MH_Analysis/Data/mag_data/all_mag_gtdb.csv')\n",
    "df"
   ]
  },
  {
   "cell_type": "markdown",
   "id": "c47172ea-5890-4a2b-b2de-2ceaafb81fd9",
   "metadata": {},
   "source": [
    "## How many MAGs were classified in total?"
   ]
  },
  {
   "cell_type": "code",
   "execution_count": 2,
   "id": "6e8b21f0-cbdf-493c-852a-cc69a94da2b7",
   "metadata": {},
   "outputs": [
    {
     "data": {
      "text/plain": [
       "631"
      ]
     },
     "execution_count": 2,
     "metadata": {},
     "output_type": "execute_result"
    }
   ],
   "source": [
    "total = len(df)\n",
    "total"
   ]
  },
  {
   "cell_type": "markdown",
   "id": "c827b95f-5c07-4fff-be69-f3abb5ef0f2d",
   "metadata": {},
   "source": [
    "## How many MAGs were classified to at least that classification level?"
   ]
  },
  {
   "cell_type": "code",
   "execution_count": 3,
   "id": "d2dbfd48-58d6-43ef-b64a-65ec442e580f",
   "metadata": {},
   "outputs": [],
   "source": [
    "# function to count how many were classified based on an input dataframe and taxonomic level\n",
    "\n",
    "def count_classified(df, level):\n",
    "    \n",
    "    level_prefix = level[0] + '__' # create level prefixes\n",
    "    \n",
    "    subdf = df[(df[level] != 'Unclassified') & (~df[level].isna()) & (df[level] != '') & (df[level] != level_prefix)] # all conditions that level is unannotated\n",
    "   \n",
    "    return len(subdf)  # returns number of rows with annotation for level"
   ]
  },
  {
   "cell_type": "code",
   "execution_count": 4,
   "id": "09712764-df6b-4a0c-8ce4-83481fe55cc3",
   "metadata": {
    "tags": []
   },
   "outputs": [
    {
     "name": "stdout",
     "output_type": "stream",
     "text": [
      "There are 566 MAGs annotated to domain .\n",
      "There are 452 MAGs annotated to phyla .\n",
      "There are 452 MAGs annotated to class .\n",
      "There are 450 MAGs annotated to order .\n",
      "There are 441 MAGs annotated to family .\n",
      "There are 350 MAGs annotated to genus .\n",
      "There are 216 MAGs annotated to species .\n"
     ]
    }
   ],
   "source": [
    "level_counts = [] # set up empty level counts string\\\n",
    "\n",
    "levels = ['domain','phyla','class','order','family','genus','species'] # create a levels list\n",
    "\n",
    "# for loop that counts how many were classified using the count_classified function created above\n",
    "for level in levels:\n",
    "    lcount = count_classified(df, level)\n",
    "    \n",
    "    print('There are', lcount, 'MAGs annotated to', level,\".\") \n",
    "    \n",
    "    level_counts.append(lcount)"
   ]
  },
  {
   "cell_type": "code",
   "execution_count": 5,
   "id": "2fb93fa8-53bd-45e5-920f-3ea48ea25844",
   "metadata": {},
   "outputs": [
    {
     "data": {
      "text/html": [
       "<div>\n",
       "<style scoped>\n",
       "    .dataframe tbody tr th:only-of-type {\n",
       "        vertical-align: middle;\n",
       "    }\n",
       "\n",
       "    .dataframe tbody tr th {\n",
       "        vertical-align: top;\n",
       "    }\n",
       "\n",
       "    .dataframe thead th {\n",
       "        text-align: right;\n",
       "    }\n",
       "</style>\n",
       "<table border=\"1\" class=\"dataframe\">\n",
       "  <thead>\n",
       "    <tr style=\"text-align: right;\">\n",
       "      <th></th>\n",
       "      <th>tax_level</th>\n",
       "      <th>num_MAGs_classified</th>\n",
       "      <th>percent_classified</th>\n",
       "    </tr>\n",
       "  </thead>\n",
       "  <tbody>\n",
       "    <tr>\n",
       "      <th>0</th>\n",
       "      <td>domain</td>\n",
       "      <td>566</td>\n",
       "      <td>89.698891</td>\n",
       "    </tr>\n",
       "    <tr>\n",
       "      <th>1</th>\n",
       "      <td>phyla</td>\n",
       "      <td>452</td>\n",
       "      <td>71.632330</td>\n",
       "    </tr>\n",
       "    <tr>\n",
       "      <th>2</th>\n",
       "      <td>class</td>\n",
       "      <td>452</td>\n",
       "      <td>71.632330</td>\n",
       "    </tr>\n",
       "    <tr>\n",
       "      <th>3</th>\n",
       "      <td>order</td>\n",
       "      <td>450</td>\n",
       "      <td>71.315372</td>\n",
       "    </tr>\n",
       "    <tr>\n",
       "      <th>4</th>\n",
       "      <td>family</td>\n",
       "      <td>441</td>\n",
       "      <td>69.889065</td>\n",
       "    </tr>\n",
       "    <tr>\n",
       "      <th>5</th>\n",
       "      <td>genus</td>\n",
       "      <td>350</td>\n",
       "      <td>55.467512</td>\n",
       "    </tr>\n",
       "    <tr>\n",
       "      <th>6</th>\n",
       "      <td>species</td>\n",
       "      <td>216</td>\n",
       "      <td>34.231379</td>\n",
       "    </tr>\n",
       "  </tbody>\n",
       "</table>\n",
       "</div>"
      ],
      "text/plain": [
       "  tax_level  num_MAGs_classified  percent_classified\n",
       "0    domain                  566           89.698891\n",
       "1     phyla                  452           71.632330\n",
       "2     class                  452           71.632330\n",
       "3     order                  450           71.315372\n",
       "4    family                  441           69.889065\n",
       "5     genus                  350           55.467512\n",
       "6   species                  216           34.231379"
      ]
     },
     "execution_count": 5,
     "metadata": {},
     "output_type": "execute_result"
    }
   ],
   "source": [
    "taxdict = {'tax_level': levels, 'num_MAGs_classified': level_counts} # create a dictionary with the number classified for each level\n",
    "\n",
    "GTDB_tax = pd.DataFrame(data = taxdict)\n",
    "\n",
    "GTDB_tax['percent_classified'] = GTDB_tax['num_MAGs_classified']/total*100 # add a column to the dataframe that is the percent of MAGs\n",
    "\n",
    "GTDB_tax"
   ]
  },
  {
   "cell_type": "markdown",
   "id": "e92278e1-1929-44d7-a981-64131abc9ef0",
   "metadata": {},
   "source": [
    "## Plots"
   ]
  },
  {
   "cell_type": "code",
   "execution_count": 6,
   "id": "f46878d2-2017-4491-bb29-da7829d3ed52",
   "metadata": {},
   "outputs": [
    {
     "data": {
      "image/png": "[encoded data removed]",
      "text/plain": [
       "<Figure size 432x288 with 1 Axes>"
      ]
     },
     "metadata": {
      "needs_background": "light"
     },
     "output_type": "display_data"
    }
   ],
   "source": [
    "# count plot\n",
    "GTDB_tax.plot(kind='bar', x='tax_level', y='num_MAGs_classified',legend=None)\n",
    "plt.xlabel('Taxonomic classification')\n",
    "plt.ylabel('number of MAGs')\n",
    "plt.title('Assignment of MAGs at different taxonomic levels with GTDB')\n",
    "plt.tight_layout()"
   ]
  },
  {
   "cell_type": "code",
   "execution_count": 7,
   "id": "ce08f0d6-a28b-4bcb-bac5-2de689a4d9ce",
   "metadata": {},
   "outputs": [
    {
     "data": {
      "image/png": "[encoded data removed]",
      "text/plain": [
       "<Figure size 432x288 with 1 Axes>"
      ]
     },
     "metadata": {
      "needs_background": "light"
     },
     "output_type": "display_data"
    }
   ],
   "source": [
    "# percent plot\n",
    "GTDB_tax.plot(kind='bar', x='tax_level', y='percent_classified',legend=None)\n",
    "plt.xlabel('Taxonomic classification')\n",
    "plt.ylabel('percent of MAGs')\n",
    "plt.title('Percent of MAGs classified at different taxonomic levels with GTDB')\n",
    "plt.tight_layout()"
   ]
  },
  {
   "cell_type": "markdown",
   "id": "2d636061-7811-4726-995a-7ae0a1f22eff",
   "metadata": {},
   "source": [
    "## What are the most common classifications?"
   ]
  },
  {
   "cell_type": "code",
   "execution_count": 9,
   "id": "258f3b61-004d-4980-b7bc-74fd39204132",
   "metadata": {},
   "outputs": [
    {
     "data": {
      "text/plain": [
       "[('Unclassified Bacteria', 106),\n",
       " ('Unclassified', 65),\n",
       " ('d__Archaea;p__Thermoproteota;c__Nitrososphaeria;o__Nitrososphaerales;f__Nitrosopumilaceae;g__Nitrosopelagicus;s__',\n",
       "  9),\n",
       " ('Unclassified Archaea', 8),\n",
       " ('d__Bacteria;p__Planctomycetota;c__Phycisphaerae;o__Phycisphaerales;f__SM1A02;g__GCA-002718515;s__',\n",
       "  8),\n",
       " ('d__Bacteria;p__Patescibacteria;c__ABY1;o__Magasanikbacterales;f__UBA922;g__GCA-2716765;s__',\n",
       "  7),\n",
       " ('d__Bacteria;p__Pseudomonadota;c__Gammaproteobacteria;o__Arenicellales;f__UBA868;g__UBA868;s__UBA868 sp913031305',\n",
       "  6),\n",
       " ('d__Bacteria;p__Pseudomonadota;c__Alphaproteobacteria;o__UBA11136;f__UBA11136;g__UBA11136;s__UBA11136 sp002686135',\n",
       "  6),\n",
       " ('d__Bacteria;p__Pseudomonadota;c__Alphaproteobacteria;o__Pelagibacterales;f__Pelagibacteraceae;g__Pelagibacter;s__',\n",
       "  5),\n",
       " ('d__Bacteria;p__Chloroflexota;c__UBA11872;o__UBA11872;f__VXNJ01;g__;s__', 5)]"
      ]
     },
     "execution_count": 9,
     "metadata": {},
     "output_type": "execute_result"
    }
   ],
   "source": [
    "Counter(df['classification']).most_common()[:10]"
   ]
  },
  {
   "cell_type": "code",
   "execution_count": 10,
   "id": "0fa346f9-bdbd-4e90-9988-cb5812f636ec",
   "metadata": {
    "collapsed": true,
    "jupyter": {
     "outputs_hidden": true
    },
    "tags": []
   },
   "outputs": [
    {
     "name": "stdout",
     "output_type": "stream",
     "text": [
      "domain\n",
      "Bacteria                 391\n",
      "Unclassified Bacteria    106\n",
      "Unclassified              65\n",
      "Archaea                   61\n",
      "Unclassified Archaea       8\n",
      "Name: user_genome, dtype: int64\n",
      "\n",
      "\n",
      "phyla\n",
      "Pseudomonadota     95\n",
      "Patescibacteria    63\n",
      "Chloroflexota      51\n",
      "Planctomycetota    39\n",
      "Acidobacteriota    37\n",
      "Name: user_genome, dtype: int64\n",
      "\n",
      "\n",
      "class\n",
      "Gammaproteobacteria    61\n",
      "Alphaproteobacteria    34\n",
      "Dehalococcoidia        31\n",
      "ABY1                   27\n",
      "Paceibacteria          24\n",
      "Name: user_genome, dtype: int64\n",
      "\n",
      "\n",
      "order\n",
      "Arenicellales         26\n",
      "Acidimicrobiales      22\n",
      "Nitrososphaerales     22\n",
      "Phycisphaerales       17\n",
      "Vicinamibacterales    16\n",
      "Name: user_genome, dtype: int64\n",
      "\n",
      "\n",
      "family\n",
      "UBA868               22\n",
      "MedAcidi-G1          20\n",
      "SM1A02               17\n",
      "Nitrosopumilaceae    17\n",
      "Cyanobiaceae         12\n",
      "Name: user_genome, dtype: int64\n",
      "\n",
      "\n",
      "genus\n",
      "UBA868               11\n",
      "GCA-002718515        11\n",
      "UBA3125              10\n",
      "Nitrosopelagicus     10\n",
      "Prochlorococcus_C     8\n",
      "Name: user_genome, dtype: int64\n",
      "\n",
      "\n",
      "species\n",
      "UBA868 sp913031305          6\n",
      "UBA11136 sp002686135        6\n",
      "Arctic96AD-7 sp002685535    5\n",
      "UBA5680 sp002420425         4\n",
      "UBA12578 sp002729195        4\n",
      "Name: user_genome, dtype: int64\n",
      "\n",
      "\n"
     ]
    }
   ],
   "source": [
    "# top 5 groups in each level\n",
    "for taxa in ['domain', 'phyla','class','order','family','genus','species']:\n",
    "    print(df.groupby(taxa)['user_genome'].count().sort_values(ascending=False)[:5])\n",
    "    print(\"\\n\")"
   ]
  },
  {
   "cell_type": "markdown",
   "id": "460fb0d0-cb57-43bd-bd55-79d2ac2d15c6",
   "metadata": {},
   "source": [
    "#### Phyla"
   ]
  },
  {
   "cell_type": "code",
   "execution_count": 11,
   "id": "1c77c4c1-9e63-42bb-8496-e91aee951bd7",
   "metadata": {},
   "outputs": [
    {
     "data": {
      "text/plain": [
       "Text(0.5, 1.0, 'Number of MAGs belonging to the top 10 most abundant phyla with GTDB')"
      ]
     },
     "execution_count": 11,
     "metadata": {},
     "output_type": "execute_result"
    },
    {
     "data": {
      "image/png": "[encoded data removed]",
      "text/plain": [
       "<Figure size 432x288 with 1 Axes>"
      ]
     },
     "metadata": {
      "needs_background": "light"
     },
     "output_type": "display_data"
    }
   ],
   "source": [
    "phyla_df = df.groupby('phyla', as_index=False)['user_genome'].count().sort_values(by = 'user_genome',ascending=False)\n",
    "top_phyla = phyla_df [:10]\n",
    "\n",
    "top_phyla.plot('phyla','user_genome',kind = 'bar',legend=None)\n",
    "plt.xlabel('Phyla')\n",
    "plt.ylabel('Count')\n",
    "plt.title('Number of MAGs belonging to the top 10 most abundant phyla with GTDB')"
   ]
  },
  {
   "cell_type": "markdown",
   "id": "16ba7f97-8f91-45bf-a499-6197488e8955",
   "metadata": {},
   "source": [
    "#### Class"
   ]
  },
  {
   "cell_type": "code",
   "execution_count": 12,
   "id": "1b3f1523-40a9-4129-aeef-466a15248e9d",
   "metadata": {},
   "outputs": [
    {
     "data": {
      "text/plain": [
       "Text(0.5, 1.0, 'Number of MAGs belonging to the top 10 most abundant classes with GTDB')"
      ]
     },
     "execution_count": 12,
     "metadata": {},
     "output_type": "execute_result"
    },
    {
     "data": {
      "image/png": "[encoded data removed]",
      "text/plain": [
       "<Figure size 432x288 with 1 Axes>"
      ]
     },
     "metadata": {
      "needs_background": "light"
     },
     "output_type": "display_data"
    }
   ],
   "source": [
    "class_df = df.groupby('class', as_index=False)['user_genome'].count().sort_values(by = 'user_genome',ascending=False)\n",
    "top_class = class_df [:10]\n",
    "\n",
    "top_class.plot('class','user_genome',kind = 'bar',legend=None)\n",
    "plt.xlabel('Class')\n",
    "plt.ylabel('Count')\n",
    "plt.title('Number of MAGs belonging to the top 10 most abundant classes with GTDB')"
   ]
  },
  {
   "cell_type": "markdown",
   "id": "a0a6a643-25d3-4016-ac47-74bba56151ab",
   "metadata": {},
   "source": [
    "#### Order"
   ]
  },
  {
   "cell_type": "code",
   "execution_count": 13,
   "id": "c480cc1a-89c5-47aa-a31e-936851d67649",
   "metadata": {},
   "outputs": [
    {
     "data": {
      "text/plain": [
       "Text(0.5, 1.0, 'Number of MAGs belonging to the top 10 most abundant orders with GTDB')"
      ]
     },
     "execution_count": 13,
     "metadata": {},
     "output_type": "execute_result"
    },
    {
     "data": {
      "image/png": "[encoded data removed]",
      "text/plain": [
       "<Figure size 432x288 with 1 Axes>"
      ]
     },
     "metadata": {
      "needs_background": "light"
     },
     "output_type": "display_data"
    }
   ],
   "source": [
    "order_df = df.groupby('order', as_index=False)['user_genome'].count().sort_values(by = 'user_genome',ascending=False)\n",
    "top_order = order_df [:10]\n",
    "\n",
    "top_order.plot('order','user_genome',kind = 'bar',legend=None)\n",
    "plt.xlabel('Order')\n",
    "plt.ylabel('Count')\n",
    "plt.title('Number of MAGs belonging to the top 10 most abundant orders with GTDB')"
   ]
  },
  {
   "cell_type": "markdown",
   "id": "59c7038f-3750-4532-a926-2cdb14089de0",
   "metadata": {},
   "source": [
    "## Plot tax level"
   ]
  },
  {
   "cell_type": "code",
   "execution_count": 14,
   "id": "04d4b291-7ac8-4db0-b41f-80c803a7e4a0",
   "metadata": {},
   "outputs": [
    {
     "data": {
      "text/plain": [
       "['Gammaproteobacteria',\n",
       " 'Alphaproteobacteria',\n",
       " 'Dehalococcoidia',\n",
       " 'ABY1',\n",
       " 'Paceibacteria',\n",
       " 'Acidimicrobiia',\n",
       " 'Nitrososphaeria',\n",
       " 'Nanoarchaeia',\n",
       " 'Phycisphaerae',\n",
       " 'Vicinamibacteria']"
      ]
     },
     "execution_count": 14,
     "metadata": {},
     "output_type": "execute_result"
    }
   ],
   "source": [
    "top_10_class = list(df.groupby('class', as_index = False)['user_genome'].count().sort_values(by = 'user_genome', ascending = False)[:10]['class'])\n",
    "top_10_class "
   ]
  },
  {
   "cell_type": "code",
   "execution_count": 15,
   "id": "f4840ae4-3ef2-4a78-9f45-2df927b5920c",
   "metadata": {},
   "outputs": [],
   "source": [
    "plot_class = []\n",
    "\n",
    "for item in df['class']:\n",
    "    if item in top_10_class:\n",
    "        plot_class.append(item)\n",
    "    else:\n",
    "        plot_class.append('Other')\n",
    "\n",
    "df['plot_class'] = plot_class"
   ]
  },
  {
   "cell_type": "code",
   "execution_count": null,
   "id": "6dec5918-4cfd-40ae-b181-33f3639f2a23",
   "metadata": {},
   "outputs": [],
   "source": [
    "# alternative: list comprehension solution\n",
    "# df['plot_class'] = [item if item in top_10_class else 'Other' for item in df['plot_class']]"
   ]
  },
  {
   "cell_type": "code",
   "execution_count": 16,
   "id": "1a504310-6d65-4a88-a58f-a4438fb1a7f0",
   "metadata": {},
   "outputs": [
    {
     "data": {
      "text/plain": [
       "<matplotlib.legend.Legend at 0x7fb36c1895b0>"
      ]
     },
     "execution_count": 16,
     "metadata": {},
     "output_type": "execute_result"
    },
    {
     "data": {
      "image/png": "[encoded data removed]",
      "text/plain": [
       "<Figure size 432x288 with 1 Axes>"
      ]
     },
     "metadata": {
      "needs_background": "light"
     },
     "output_type": "display_data"
    }
   ],
   "source": [
    "class_counts = df.groupby(['sample_depth', 'plot_class'], as_index = False)['user_genome'].count().pivot(columns = 'plot_class', index = 'sample_depth', values = 'user_genome')\n",
    "\n",
    "class_counts.plot.bar(stacked = True)\n",
    "\n",
    "plt.legend(bbox_to_anchor=(1.1, 1.05))"
   ]
  },
  {
   "cell_type": "code",
   "execution_count": 17,
   "id": "d9e0054e-c343-42d5-b913-39b808e91618",
   "metadata": {},
   "outputs": [
    {
     "data": {
      "text/html": [
       "<div>\n",
       "<style scoped>\n",
       "    .dataframe tbody tr th:only-of-type {\n",
       "        vertical-align: middle;\n",
       "    }\n",
       "\n",
       "    .dataframe tbody tr th {\n",
       "        vertical-align: top;\n",
       "    }\n",
       "\n",
       "    .dataframe thead th {\n",
       "        text-align: right;\n",
       "    }\n",
       "</style>\n",
       "<table border=\"1\" class=\"dataframe\">\n",
       "  <thead>\n",
       "    <tr style=\"text-align: right;\">\n",
       "      <th>plot_class</th>\n",
       "      <th>ABY1</th>\n",
       "      <th>Acidimicrobiia</th>\n",
       "      <th>Alphaproteobacteria</th>\n",
       "      <th>Dehalococcoidia</th>\n",
       "      <th>Gammaproteobacteria</th>\n",
       "      <th>Nanoarchaeia</th>\n",
       "      <th>Nitrososphaeria</th>\n",
       "      <th>Other</th>\n",
       "      <th>Paceibacteria</th>\n",
       "      <th>Phycisphaerae</th>\n",
       "      <th>Vicinamibacteria</th>\n",
       "    </tr>\n",
       "    <tr>\n",
       "      <th>sample_depth</th>\n",
       "      <th></th>\n",
       "      <th></th>\n",
       "      <th></th>\n",
       "      <th></th>\n",
       "      <th></th>\n",
       "      <th></th>\n",
       "      <th></th>\n",
       "      <th></th>\n",
       "      <th></th>\n",
       "      <th></th>\n",
       "      <th></th>\n",
       "    </tr>\n",
       "  </thead>\n",
       "  <tbody>\n",
       "    <tr>\n",
       "      <th>80</th>\n",
       "      <td>3.0</td>\n",
       "      <td>7.0</td>\n",
       "      <td>5.0</td>\n",
       "      <td>1.0</td>\n",
       "      <td>18.0</td>\n",
       "      <td>2.0</td>\n",
       "      <td>9.0</td>\n",
       "      <td>75.0</td>\n",
       "      <td>3.0</td>\n",
       "      <td>3.0</td>\n",
       "      <td>3.0</td>\n",
       "    </tr>\n",
       "    <tr>\n",
       "      <th>95</th>\n",
       "      <td>12.0</td>\n",
       "      <td>9.0</td>\n",
       "      <td>8.0</td>\n",
       "      <td>17.0</td>\n",
       "      <td>13.0</td>\n",
       "      <td>9.0</td>\n",
       "      <td>12.0</td>\n",
       "      <td>80.0</td>\n",
       "      <td>6.0</td>\n",
       "      <td>7.0</td>\n",
       "      <td>4.0</td>\n",
       "    </tr>\n",
       "    <tr>\n",
       "      <th>140</th>\n",
       "      <td>4.0</td>\n",
       "      <td>5.0</td>\n",
       "      <td>9.0</td>\n",
       "      <td>8.0</td>\n",
       "      <td>14.0</td>\n",
       "      <td>3.0</td>\n",
       "      <td>1.0</td>\n",
       "      <td>81.0</td>\n",
       "      <td>6.0</td>\n",
       "      <td>3.0</td>\n",
       "      <td>4.0</td>\n",
       "    </tr>\n",
       "    <tr>\n",
       "      <th>400</th>\n",
       "      <td>8.0</td>\n",
       "      <td>3.0</td>\n",
       "      <td>12.0</td>\n",
       "      <td>5.0</td>\n",
       "      <td>16.0</td>\n",
       "      <td>8.0</td>\n",
       "      <td>NaN</td>\n",
       "      <td>117.0</td>\n",
       "      <td>9.0</td>\n",
       "      <td>4.0</td>\n",
       "      <td>5.0</td>\n",
       "    </tr>\n",
       "  </tbody>\n",
       "</table>\n",
       "</div>"
      ],
      "text/plain": [
       "plot_class    ABY1  Acidimicrobiia  Alphaproteobacteria  Dehalococcoidia  \\\n",
       "sample_depth                                                               \n",
       "80             3.0             7.0                  5.0              1.0   \n",
       "95            12.0             9.0                  8.0             17.0   \n",
       "140            4.0             5.0                  9.0              8.0   \n",
       "400            8.0             3.0                 12.0              5.0   \n",
       "\n",
       "plot_class    Gammaproteobacteria  Nanoarchaeia  Nitrososphaeria  Other  \\\n",
       "sample_depth                                                              \n",
       "80                           18.0           2.0              9.0   75.0   \n",
       "95                           13.0           9.0             12.0   80.0   \n",
       "140                          14.0           3.0              1.0   81.0   \n",
       "400                          16.0           8.0              NaN  117.0   \n",
       "\n",
       "plot_class    Paceibacteria  Phycisphaerae  Vicinamibacteria  \n",
       "sample_depth                                                  \n",
       "80                      3.0            3.0               3.0  \n",
       "95                      6.0            7.0               4.0  \n",
       "140                     6.0            3.0               4.0  \n",
       "400                     9.0            4.0               5.0  "
      ]
     },
     "execution_count": 17,
     "metadata": {},
     "output_type": "execute_result"
    }
   ],
   "source": [
    "class_counts"
   ]
  },
  {
   "cell_type": "code",
   "execution_count": 18,
   "id": "c1c80038-17fa-4214-8b2c-b02b13fa205f",
   "metadata": {},
   "outputs": [
    {
     "data": {
      "text/plain": [
       "<matplotlib.legend.Legend at 0x7fb3585d4b50>"
      ]
     },
     "execution_count": 18,
     "metadata": {},
     "output_type": "execute_result"
    },
    {
     "data": {
      "image/png": "[encoded data removed]",
      "text/plain": [
       "<Figure size 432x288 with 1 Axes>"
      ]
     },
     "metadata": {
      "needs_background": "light"
     },
     "output_type": "display_data"
    }
   ],
   "source": [
    "column_order = ['Other'] + top_10_class\n",
    "\n",
    "class_pcts = class_counts.div(class_counts.sum(axis=1), axis=0)\n",
    "class_pcts = round(class_pcts * 100, 1)\n",
    "\n",
    "\n",
    "\n",
    "class_pcts[column_order].plot.bar(stacked = True)\n",
    "plt.legend(bbox_to_anchor=(1.1, 1.05))"
   ]
  },
  {
   "cell_type": "code",
   "execution_count": 19,
   "id": "ddc23c6a-1883-43f2-a474-9728162ca9fa",
   "metadata": {},
   "outputs": [
    {
     "data": {
      "text/html": [
       "<div>\n",
       "<style scoped>\n",
       "    .dataframe tbody tr th:only-of-type {\n",
       "        vertical-align: middle;\n",
       "    }\n",
       "\n",
       "    .dataframe tbody tr th {\n",
       "        vertical-align: top;\n",
       "    }\n",
       "\n",
       "    .dataframe thead th {\n",
       "        text-align: right;\n",
       "    }\n",
       "</style>\n",
       "<table border=\"1\" class=\"dataframe\">\n",
       "  <thead>\n",
       "    <tr style=\"text-align: right;\">\n",
       "      <th>plot_class</th>\n",
       "      <th>ABY1</th>\n",
       "      <th>Acidimicrobiia</th>\n",
       "      <th>Alphaproteobacteria</th>\n",
       "      <th>Dehalococcoidia</th>\n",
       "      <th>Gammaproteobacteria</th>\n",
       "      <th>Nanoarchaeia</th>\n",
       "      <th>Nitrososphaeria</th>\n",
       "      <th>Other</th>\n",
       "      <th>Paceibacteria</th>\n",
       "      <th>Phycisphaerae</th>\n",
       "      <th>Vicinamibacteria</th>\n",
       "    </tr>\n",
       "    <tr>\n",
       "      <th>sample_depth</th>\n",
       "      <th></th>\n",
       "      <th></th>\n",
       "      <th></th>\n",
       "      <th></th>\n",
       "      <th></th>\n",
       "      <th></th>\n",
       "      <th></th>\n",
       "      <th></th>\n",
       "      <th></th>\n",
       "      <th></th>\n",
       "      <th></th>\n",
       "    </tr>\n",
       "  </thead>\n",
       "  <tbody>\n",
       "    <tr>\n",
       "      <th>80</th>\n",
       "      <td>2.3</td>\n",
       "      <td>5.4</td>\n",
       "      <td>3.9</td>\n",
       "      <td>0.8</td>\n",
       "      <td>14.0</td>\n",
       "      <td>1.6</td>\n",
       "      <td>7.0</td>\n",
       "      <td>58.1</td>\n",
       "      <td>2.3</td>\n",
       "      <td>2.3</td>\n",
       "      <td>2.3</td>\n",
       "    </tr>\n",
       "    <tr>\n",
       "      <th>95</th>\n",
       "      <td>6.8</td>\n",
       "      <td>5.1</td>\n",
       "      <td>4.5</td>\n",
       "      <td>9.6</td>\n",
       "      <td>7.3</td>\n",
       "      <td>5.1</td>\n",
       "      <td>6.8</td>\n",
       "      <td>45.2</td>\n",
       "      <td>3.4</td>\n",
       "      <td>4.0</td>\n",
       "      <td>2.3</td>\n",
       "    </tr>\n",
       "    <tr>\n",
       "      <th>140</th>\n",
       "      <td>2.9</td>\n",
       "      <td>3.6</td>\n",
       "      <td>6.5</td>\n",
       "      <td>5.8</td>\n",
       "      <td>10.1</td>\n",
       "      <td>2.2</td>\n",
       "      <td>0.7</td>\n",
       "      <td>58.7</td>\n",
       "      <td>4.3</td>\n",
       "      <td>2.2</td>\n",
       "      <td>2.9</td>\n",
       "    </tr>\n",
       "    <tr>\n",
       "      <th>400</th>\n",
       "      <td>4.3</td>\n",
       "      <td>1.6</td>\n",
       "      <td>6.4</td>\n",
       "      <td>2.7</td>\n",
       "      <td>8.6</td>\n",
       "      <td>4.3</td>\n",
       "      <td>NaN</td>\n",
       "      <td>62.6</td>\n",
       "      <td>4.8</td>\n",
       "      <td>2.1</td>\n",
       "      <td>2.7</td>\n",
       "    </tr>\n",
       "  </tbody>\n",
       "</table>\n",
       "</div>"
      ],
      "text/plain": [
       "plot_class    ABY1  Acidimicrobiia  Alphaproteobacteria  Dehalococcoidia  \\\n",
       "sample_depth                                                               \n",
       "80             2.3             5.4                  3.9              0.8   \n",
       "95             6.8             5.1                  4.5              9.6   \n",
       "140            2.9             3.6                  6.5              5.8   \n",
       "400            4.3             1.6                  6.4              2.7   \n",
       "\n",
       "plot_class    Gammaproteobacteria  Nanoarchaeia  Nitrososphaeria  Other  \\\n",
       "sample_depth                                                              \n",
       "80                           14.0           1.6              7.0   58.1   \n",
       "95                            7.3           5.1              6.8   45.2   \n",
       "140                          10.1           2.2              0.7   58.7   \n",
       "400                           8.6           4.3              NaN   62.6   \n",
       "\n",
       "plot_class    Paceibacteria  Phycisphaerae  Vicinamibacteria  \n",
       "sample_depth                                                  \n",
       "80                      2.3            2.3               2.3  \n",
       "95                      3.4            4.0               2.3  \n",
       "140                     4.3            2.2               2.9  \n",
       "400                     4.8            2.1               2.7  "
      ]
     },
     "execution_count": 19,
     "metadata": {},
     "output_type": "execute_result"
    }
   ],
   "source": [
    "class_pcts"
   ]
  }
 ],
 "metadata": {
  "kernelspec": {
   "display_name": "Python 3 (ipykernel)",
   "language": "python",
   "name": "python3"
  },
  "language_info": {
   "codemirror_mode": {
    "name": "ipython",
    "version": 3
   },
   "file_extension": ".py",
   "mimetype": "text/x-python",
   "name": "python",
   "nbconvert_exporter": "python",
   "pygments_lexer": "ipython3",
   "version": "3.9.12"
  }
 },
 "nbformat": 4,
 "nbformat_minor": 5
}
