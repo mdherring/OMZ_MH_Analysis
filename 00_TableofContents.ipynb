{
 "cells": [
  {
   "cell_type": "markdown",
   "id": "199f4a08-e6ec-4f34-a1d6-4a00f49689a7",
   "metadata": {},
   "source": [
    "# Table of Contents\n",
    "\n",
    "Notebooks are numbered by the order they were completed and should be run in.\n",
    "\n",
    "***00_functions.py*** : a list of all functions (with notes and comments) used for this project compiled into one python document for easy copying and pasting into jupyter notebooks\n",
    "\n",
    "***01_create_proximeta_associations_table*** : creates a table of the proximeta data with all contigs and vMAGs\n",
    "+ Input contig proximeta data files from viral_hosts folders\n",
    "+ Input vMAG proximeta data files from viral_hosts folders\n",
    "+ Create sample_name colunm for each data frame\n",
    "+ Create virus_type column for each data frame\n",
    "+ Create sample_depth column for each data frame\n",
    "+ Rename columns in each data frame using column mapping to make column names match\n",
    "+ Merge all data frames together and write to csv\n",
    "\n",
    "***02_host_virus_assoc_summary*** : summarizes host-virus associations\n",
    "+ Input proximeta_associations_table from 01_create_proximeta_associations_table\n",
    "+ Input proximeta data files from viral_MAGs folders\n",
    "+ Input sag associations data file from sag_data folder\n",
    "+ Input sag gtdb file from sag_data folder\n",
    "+ How many contig associations?\n",
    "    + per sample\n",
    "    + total\n",
    "+ How many vMAG associations?\n",
    "    + per sample\n",
    "    + total\n",
    "+ Plots:\n",
    "    + distribution of adjusted_inter_vs_intra_ratio\n",
    "    + distribution of adjusted_inter_connective_linkage_density\n",
    "    + number of associated vMAGs (vMAGs connected to a specific host) and the total number of vMAGs\n",
    "    + number of associated vSAGs (vSAGs connected to a specific host) and the total number of vMAGs\n",
    "    \n",
    "***03_create_merged_mag_gtdb_table*** : creates a table of gtdb classifications for archaea and bacteria for all samples\n",
    "+ Input gtdb files from the mag_data folder\n",
    "+ Create sample_name column for all data frames\n",
    "+ Create sample_depth column for all data frames\n",
    "+ Concatenate all data frame\n",
    "+ Apply the split_classification() function on the concatenated data frame and write csv\n",
    "\n",
    "***04_MAG_gtdb*** : phylogenomic analysis of all mags (with and without viruses associated to them)\n",
    "+ Input merged mag gtdb table from 03_create_merged_mag_gtdb_table\n",
    "+ Create lists of ten most abundant taxonomic groups for each level of classification\n",
    "+ How many MAGs were classified in total?\n",
    "+ How many MAGs were classified to at least each classification level?\n",
    "    + plots: Count and Percent\n",
    "+ What are the most common classifications?\n",
    "    + plots: count of top 10 most abundant phyla, classes, and orders\n",
    "+ Plots: stacked barplots of top order abundances \n",
    "    + count and percent"
   ]
  },
  {
   "cell_type": "code",
   "execution_count": null,
   "id": "23debd75-bc6a-4d4d-8890-2f1a96607e0c",
   "metadata": {},
   "outputs": [],
   "source": []
  }
 ],
 "metadata": {
  "kernelspec": {
   "display_name": "Python 3 (ipykernel)",
   "language": "python",
   "name": "python3"
  },
  "language_info": {
   "codemirror_mode": {
    "name": "ipython",
    "version": 3
   },
   "file_extension": ".py",
   "mimetype": "text/x-python",
   "name": "python",
   "nbconvert_exporter": "python",
   "pygments_lexer": "ipython3",
   "version": "3.9.12"
  }
 },
 "nbformat": 4,
 "nbformat_minor": 5
}
