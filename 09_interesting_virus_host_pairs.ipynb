{
 "cells": [
  {
   "cell_type": "markdown",
   "id": "8a03860e-7cf7-4d83-94fb-5f291e242aeb",
   "metadata": {},
   "source": [
    "# 08_interesting_virus_host_pairs"
   ]
  },
  {
   "cell_type": "markdown",
   "id": "1e2dc225-7150-4b63-a79d-7c1e85b7040c",
   "metadata": {},
   "source": [
    "This document explores which virus-host pairs are the most interesting based on the strength of the connection, the taxonomy of the host (biogeochemical significance), and quality of the viral sequence/MAG."
   ]
  },
  {
   "cell_type": "markdown",
   "id": "9dc9f314-cb82-4312-a067-2010dd982c3a",
   "metadata": {},
   "source": [
    "## Load packages and data"
   ]
  },
  {
   "cell_type": "code",
   "execution_count": 2,
   "id": "66e07241-e5ec-403d-be5a-2774d627630e",
   "metadata": {},
   "outputs": [],
   "source": [
    "import pandas as pd\n",
    "import os\n",
    "import sys\n",
    "import csv\n",
    "import numpy as np\n",
    "import matplotlib\n",
    "import matplotlib.pyplot as plt\n",
    "import glob\n",
    "import seaborn as sns\n",
    "from collections import Counter\n",
    "\n",
    "pd.set_option('display.max_columns', None)\n",
    "\n",
    "df = pd.read_csv('~/Documents/Bigelow/Virus_Project/OMZ_MH_Analysis/Data/proximeta_viral_files/vMAG_associations.csv')"
   ]
  },
  {
   "cell_type": "markdown",
   "id": "7fda7450-c662-4a46-b582-12f5e54b5ab0",
   "metadata": {},
   "source": [
    "## Criteria: Interesting Taxonomy"
   ]
  },
  {
   "cell_type": "markdown",
   "id": "78ab14d1-821a-4f4d-969d-de1d5d975355",
   "metadata": {},
   "source": [
    "Readings? How do I determine this?"
   ]
  },
  {
   "cell_type": "markdown",
   "id": "4ebe0046-d6d8-4c2c-968e-f03916417d50",
   "metadata": {},
   "source": [
    "## Criteria: Quality"
   ]
  },
  {
   "cell_type": "code",
   "execution_count": 3,
   "id": "aa693328-e085-4594-9b29-85f45a579847",
   "metadata": {},
   "outputs": [
    {
     "data": {
      "text/plain": [
       "114"
      ]
     },
     "execution_count": 3,
     "metadata": {},
     "output_type": "execute_result"
    }
   ],
   "source": [
    "# Virus length\n",
    "long_length = df[df['virus_length'] >= 15000]\n",
    "len(long_length)"
   ]
  },
  {
   "cell_type": "code",
   "execution_count": 4,
   "id": "b634b701-5e4e-43dc-b603-e555dfcc51e7",
   "metadata": {},
   "outputs": [
    {
     "data": {
      "text/plain": [
       "array(['Caulobacterales', 'Pirellulales', 'GCA-2731375', 'UBA4486',\n",
       "       'PCC-6307', 'Acidimicrobiales', 'Pseudomonadales',\n",
       "       'Anaerolineales', 'UBA5377', 'Brocadiales'], dtype=object)"
      ]
     },
     "execution_count": 4,
     "metadata": {},
     "output_type": "execute_result"
    }
   ],
   "source": [
    "# sort by number of identified viral genes\n",
    "viral_genes = long_length.sort_values(by='viral_genes',ascending=False)\n",
    "viral_genes = viral_genes.dropna(subset='order')\n",
    "viral_genes['order'].unique()"
   ]
  },
  {
   "cell_type": "markdown",
   "id": "5307cb56-764d-4959-9e78-55f4cc2df8ac",
   "metadata": {},
   "source": [
    "There are 11 different orders of hosts that are represented with the vMAGs."
   ]
  },
  {
   "cell_type": "markdown",
   "id": "552ef9be-5620-4464-8075-af3b95643f86",
   "metadata": {},
   "source": [
    "## Connection Strength"
   ]
  },
  {
   "cell_type": "markdown",
   "id": "812ab471-abbf-4bae-8dc5-f7cee179488b",
   "metadata": {},
   "source": [
    "Proposed criteria: Adjusted inter connective linkage density >= 0.05 reads/kbp^2"
   ]
  },
  {
   "cell_type": "code",
   "execution_count": 19,
   "id": "109f118c-0c03-472d-9643-1676da406c08",
   "metadata": {},
   "outputs": [
    {
     "name": "stdout",
     "output_type": "stream",
     "text": [
      "87 associations are >= 0.05, which is about 26 %.\n"
     ]
    }
   ],
   "source": [
    "inter = df[df['adjusted_inter_linkage_density'] >= 0.05]\n",
    "print(len(inter), 'associations are >= 0.05, which is about', round(len(inter)/len(df)*100), '%.')"
   ]
  },
  {
   "cell_type": "raw",
   "id": "31c56bdd-0db4-42f4-8f36-1ccbd9e2fac0",
   "metadata": {},
   "source": [
    "Proposed criteria: inter vs intra ratio"
   ]
  },
  {
   "cell_type": "code",
   "execution_count": 23,
   "id": "35513b99-a829-4ac3-a264-0fb3c597713e",
   "metadata": {},
   "outputs": [
    {
     "name": "stdout",
     "output_type": "stream",
     "text": [
      "88 associations are >= 1, which is about 26 %.\n"
     ]
    }
   ],
   "source": [
    "ratio = df[df['adjusted_inter_vs_intra_ratio'] >= 2.5]\n",
    "print(len(ratio), 'associations are >= 1, which is about', round(len(ratio)/len(df)*100), '%.')"
   ]
  },
  {
   "cell_type": "code",
   "execution_count": 31,
   "id": "80d5d0dd-a756-47ab-be53-bda88bbcb3fe",
   "metadata": {},
   "outputs": [
    {
     "data": {
      "text/html": [
       "<div>\n",
       "<style scoped>\n",
       "    .dataframe tbody tr th:only-of-type {\n",
       "        vertical-align: middle;\n",
       "    }\n",
       "\n",
       "    .dataframe tbody tr th {\n",
       "        vertical-align: top;\n",
       "    }\n",
       "\n",
       "    .dataframe thead th {\n",
       "        text-align: right;\n",
       "    }\n",
       "</style>\n",
       "<table border=\"1\" class=\"dataframe\">\n",
       "  <thead>\n",
       "    <tr style=\"text-align: right;\">\n",
       "      <th></th>\n",
       "      <th>virus_name</th>\n",
       "      <th>virus_length</th>\n",
       "      <th>virus_read_count</th>\n",
       "      <th>virus_read_depth</th>\n",
       "      <th>virus_read_depth_in_host</th>\n",
       "      <th>host_name</th>\n",
       "      <th>host_length</th>\n",
       "      <th>host_read_count</th>\n",
       "      <th>host_read_depth</th>\n",
       "      <th>intra_read_count</th>\n",
       "      <th>...</th>\n",
       "      <th>translation_table</th>\n",
       "      <th>red_value</th>\n",
       "      <th>warnings</th>\n",
       "      <th>domain</th>\n",
       "      <th>phyla</th>\n",
       "      <th>class</th>\n",
       "      <th>order</th>\n",
       "      <th>family</th>\n",
       "      <th>genus</th>\n",
       "      <th>species</th>\n",
       "    </tr>\n",
       "  </thead>\n",
       "  <tbody>\n",
       "    <tr>\n",
       "      <th>209</th>\n",
       "      <td>k141_3298423</td>\n",
       "      <td>5405</td>\n",
       "      <td>231</td>\n",
       "      <td>42.738205</td>\n",
       "      <td>15.114731</td>\n",
       "      <td>bin_110</td>\n",
       "      <td>155303</td>\n",
       "      <td>4643</td>\n",
       "      <td>29.896396</td>\n",
       "      <td>142</td>\n",
       "      <td>...</td>\n",
       "      <td>NaN</td>\n",
       "      <td>NaN</td>\n",
       "      <td>No bacterial or archaeal marker</td>\n",
       "      <td>Unclassified</td>\n",
       "      <td>NaN</td>\n",
       "      <td>NaN</td>\n",
       "      <td>NaN</td>\n",
       "      <td>NaN</td>\n",
       "      <td>NaN</td>\n",
       "      <td>NaN</td>\n",
       "    </tr>\n",
       "    <tr>\n",
       "      <th>286</th>\n",
       "      <td>k141_2834672</td>\n",
       "      <td>16753</td>\n",
       "      <td>366</td>\n",
       "      <td>21.846833</td>\n",
       "      <td>8.516562</td>\n",
       "      <td>bin_135</td>\n",
       "      <td>110072</td>\n",
       "      <td>2484</td>\n",
       "      <td>22.567047</td>\n",
       "      <td>106</td>\n",
       "      <td>...</td>\n",
       "      <td>NaN</td>\n",
       "      <td>NaN</td>\n",
       "      <td>No bacterial or archaeal marker</td>\n",
       "      <td>Unclassified</td>\n",
       "      <td>NaN</td>\n",
       "      <td>NaN</td>\n",
       "      <td>NaN</td>\n",
       "      <td>NaN</td>\n",
       "      <td>NaN</td>\n",
       "      <td>NaN</td>\n",
       "    </tr>\n",
       "  </tbody>\n",
       "</table>\n",
       "<p>2 rows × 46 columns</p>\n",
       "</div>"
      ],
      "text/plain": [
       "       virus_name  virus_length  virus_read_count  virus_read_depth  \\\n",
       "209  k141_3298423          5405               231         42.738205   \n",
       "286  k141_2834672         16753               366         21.846833   \n",
       "\n",
       "     virus_read_depth_in_host host_name  host_length  host_read_count  \\\n",
       "209                 15.114731   bin_110       155303             4643   \n",
       "286                  8.516562   bin_135       110072             2484   \n",
       "\n",
       "     host_read_depth  intra_read_count  ...  translation_table  red_value  \\\n",
       "209        29.896396               142  ...                NaN        NaN   \n",
       "286        22.567047               106  ...                NaN        NaN   \n",
       "\n",
       "                            warnings        domain  phyla  class  order  \\\n",
       "209  No bacterial or archaeal marker  Unclassified    NaN    NaN    NaN   \n",
       "286  No bacterial or archaeal marker  Unclassified    NaN    NaN    NaN   \n",
       "\n",
       "    family genus  species  \n",
       "209    NaN   NaN      NaN  \n",
       "286    NaN   NaN      NaN  \n",
       "\n",
       "[2 rows x 46 columns]"
      ]
     },
     "execution_count": 31,
     "metadata": {},
     "output_type": "execute_result"
    }
   ],
   "source": [
    "both = df[(df['adjusted_inter_linkage_density'] >= 0.05) & (df['adjusted_inter_vs_intra_ratio'] >= 2.5)]\n",
    "both"
   ]
  },
  {
   "cell_type": "markdown",
   "id": "d279748e-cde2-4080-8492-19177b145e06",
   "metadata": {},
   "source": [
    "There are only 2 associations that have adjusted_inter_linkage_density >= 0.05 and adjusted_inter_vs_intra_ratio >= 2.5. So I recommend picking one of the criteria, not both."
   ]
  },
  {
   "cell_type": "code",
   "execution_count": null,
   "id": "dd4bbe80-4368-4704-ab7a-46857d00dcc5",
   "metadata": {},
   "outputs": [],
   "source": []
  }
 ],
 "metadata": {
  "kernelspec": {
   "display_name": "Python 3 (ipykernel)",
   "language": "python",
   "name": "python3"
  },
  "language_info": {
   "codemirror_mode": {
    "name": "ipython",
    "version": 3
   },
   "file_extension": ".py",
   "mimetype": "text/x-python",
   "name": "python",
   "nbconvert_exporter": "python",
   "pygments_lexer": "ipython3",
   "version": "3.9.12"
  }
 },
 "nbformat": 4,
 "nbformat_minor": 5
}
