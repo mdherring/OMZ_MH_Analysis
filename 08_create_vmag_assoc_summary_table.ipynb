{
 "cells": [
  {
   "cell_type": "markdown",
   "id": "73a25c37-1fd1-4c8c-aab4-4a3340b9a723",
   "metadata": {},
   "source": [
    "# 08_create_vmag_assoc_summary_table"
   ]
  },
  {
   "cell_type": "code",
   "execution_count": null,
   "id": "a920395a-e070-4e7d-9362-659062bd0b83",
   "metadata": {},
   "outputs": [],
   "source": [
    "# Load packages\n",
    "import pandas as pd\n",
    "import os\n",
    "import os.path as op\n",
    "import sys\n",
    "import csv\n",
    "import numpy as np\n",
    "import matplotlib\n",
    "import glob\n",
    "import seaborn as sns\n",
    "from collections import Counter\n",
    "import matplotlib.pyplot as plt\n",
    "\n",
    "# file paths\n",
    "path = '/Users/melissaherring/Google Drive/My Drive/MH_project/'\n",
    "#path = '/Users/juliabrown/Google Drive/My Drive/projects/OMZvir_round2/MH_project/'\n",
    "\n",
    "\n",
    "assoc = pd.read_csv('~/Documents/Bigelow/Virus_Project/OMZ_MH_Analysis/Data/all_associations_gtdb.csv')\n",
    "assoc_vMAG = assoc[assoc['virus_type'] == 'vMAG']\n",
    "\n",
    "vMAG_119 = pd.read_csv(\"~/Documents/Bigelow/Virus_Project/OMZ_MH_Analysis/Data/proximeta_viral_files/jv-119_874814_Viral_Files/viral_MAGs/viral_mags_summary.tsv\", sep = '\\t')\n",
    "vMAG_121 = pd.read_csv(\"~/Documents/Bigelow/Virus_Project/OMZ_MH_Analysis/Data/proximeta_viral_files/jv-121_874818_Viral_Files/viral_MAGs/viral_mags_summary.tsv\", sep = '\\t')\n",
    "vMAG_132 = pd.read_csv(\"~/Documents/Bigelow/Virus_Project/OMZ_MH_Analysis/Data/proximeta_viral_files/jv-132_874826_Viral_Files/viral_MAGs/viral_mags_summary.tsv\", sep = '\\t')\n",
    "vMAG_154 = pd.read_csv(\"~/Documents/Bigelow/Virus_Project/OMZ_MH_Analysis/Data/proximeta_viral_files/jv-154_874822_Viral_Files/viral_MAGs/viral_mags_summary.tsv\", sep = '\\t')\n",
    "\n",
    "# combine all vMAG data frames together\n",
    "vMAGs_all = pd.concat([vMAG_119,vMAG_121,vMAG_132,vMAG_154])\n",
    "\n",
    "# split up contig_id column into different columns\n",
    "vMAGs_all['virus_name'] = vMAGs_all['contig_id'].str.split(\"|\").str[0]\n",
    "vMAGs_all['N'] = vMAGs_all['contig_id'].str.split(\"|\").str[1]\n",
    "vMAGs_all['N'] = vMAGs_all['N'].str.replace('N=', '')\n",
    "vMAGs_all['N'] = pd.to_numeric(vMAGs_all['N'])\n",
    "vMAGs_all['L'] = vMAGs_all['contig_id'].str.split(\"|\").str[2]\n",
    "vMAGs_all['L'] = vMAGs_all['L'].str.replace('L=', '')\n",
    "vMAGs_all['L'] = pd.to_numeric(vMAGs_all['L'])\n",
    "\n",
    "# merge vMAGs with associations \n",
    "combo = assoc_vMAG.merge(vMAGs_all,how='inner',on=['virus_name'])\n",
    "\n",
    "combo.to_csv('~/Documents/Bigelow/Virus_Project/OMZ_MH_Analysis/Data/proximeta_viral_files/vMAG_associations.csv', index=False)"
   ]
  }
 ],
 "metadata": {
  "kernelspec": {
   "display_name": "Python 3 (ipykernel)",
   "language": "python",
   "name": "python3"
  },
  "language_info": {
   "codemirror_mode": {
    "name": "ipython",
    "version": 3
   },
   "file_extension": ".py",
   "mimetype": "text/x-python",
   "name": "python",
   "nbconvert_exporter": "python",
   "pygments_lexer": "ipython3",
   "version": "3.9.12"
  }
 },
 "nbformat": 4,
 "nbformat_minor": 5
}
