{
 "cells": [
  {
   "cell_type": "markdown",
   "id": "50cb22b6-10d6-4b04-b05e-d9cc16361459",
   "metadata": {},
   "source": [
    "# 05_associations_gtdbtk"
   ]
  },
  {
   "cell_type": "markdown",
   "id": "b27ef452-e183-40e7-aa77-9e886f329b3f",
   "metadata": {},
   "source": [
    "This document explores the phylogenetic make-up of identified MAGs with associated viruses. The data loaded is all_host_association.csv (created with 01 R script) and all_mag_gtdb.csv (created with 03 Jupyter notebook)."
   ]
  },
  {
   "cell_type": "markdown",
   "id": "bc9e4e47-7a81-404d-a603-88c7ed641ec4",
   "metadata": {},
   "source": [
    "## Load packages and data"
   ]
  },
  {
   "cell_type": "code",
   "execution_count": 1,
   "id": "b0de2daa-685b-4248-9751-fd2836de6c59",
   "metadata": {},
   "outputs": [],
   "source": [
    "import pandas as pd\n",
    "import os\n",
    "import sys\n",
    "import csv\n",
    "import numpy as np\n",
    "import matplotlib\n",
    "import glob\n",
    "import seaborn as sns\n",
    "from collections import Counter\n",
    "import matplotlib.pyplot as plt\n",
    "\n",
    "associations = pd.read_csv('~/Documents/Bigelow- starting Sept 2022/Virus Project/OMZ_MH_Analysis/Data/proximeta_viral_files/all_host_associations.csv')\n",
    "mags = jv154_bac = pd.read_csv('~/Documents/Bigelow- starting Sept 2022/Virus Project/OMZ_MH_Analysis/Data/mag_data/all_mag_gtdb.csv')\n",
    "mags.rename(columns={'user_genome':'host_name'}, inplace=True) # rename user_genome column to match associations data frame"
   ]
  },
  {
   "cell_type": "markdown",
   "id": "628ee09f-191d-49da-8192-ec8f7e18e6a6",
   "metadata": {},
   "source": [
    "## Merge host association data with gtdbtk data"
   ]
  },
  {
   "cell_type": "code",
   "execution_count": 2,
   "id": "b7fc2ea3-8565-4148-acb5-29d159e5b69c",
   "metadata": {},
   "outputs": [
    {
     "data": {
      "text/html": [
       "<div>\n",
       "<style scoped>\n",
       "    .dataframe tbody tr th:only-of-type {\n",
       "        vertical-align: middle;\n",
       "    }\n",
       "\n",
       "    .dataframe tbody tr th {\n",
       "        vertical-align: top;\n",
       "    }\n",
       "\n",
       "    .dataframe thead th {\n",
       "        text-align: right;\n",
       "    }\n",
       "</style>\n",
       "<table border=\"1\" class=\"dataframe\">\n",
       "  <thead>\n",
       "    <tr style=\"text-align: right;\">\n",
       "      <th></th>\n",
       "      <th>virus_name</th>\n",
       "      <th>virus_length</th>\n",
       "      <th>virus_read_count</th>\n",
       "      <th>virus_read_depth</th>\n",
       "      <th>virus_read_depth_in_host</th>\n",
       "      <th>host_name</th>\n",
       "      <th>host_length</th>\n",
       "      <th>host_read_count</th>\n",
       "      <th>host_read_depth</th>\n",
       "      <th>intra_read_count</th>\n",
       "      <th>...</th>\n",
       "      <th>translation_table</th>\n",
       "      <th>red_value</th>\n",
       "      <th>warnings</th>\n",
       "      <th>domain</th>\n",
       "      <th>phyla</th>\n",
       "      <th>class</th>\n",
       "      <th>order</th>\n",
       "      <th>family</th>\n",
       "      <th>genus</th>\n",
       "      <th>species</th>\n",
       "    </tr>\n",
       "  </thead>\n",
       "  <tbody>\n",
       "    <tr>\n",
       "      <th>0</th>\n",
       "      <td>k141_30505</td>\n",
       "      <td>6674</td>\n",
       "      <td>91</td>\n",
       "      <td>13.635001</td>\n",
       "      <td>4.999501</td>\n",
       "      <td>bin_165</td>\n",
       "      <td>176803</td>\n",
       "      <td>3432</td>\n",
       "      <td>19.411435</td>\n",
       "      <td>166</td>\n",
       "      <td>...</td>\n",
       "      <td>NA</td>\n",
       "      <td>NA</td>\n",
       "      <td>Insufficient number of amino acids in MSA (1.6%)</td>\n",
       "      <td>Unclassified Bacteria</td>\n",
       "      <td>NA</td>\n",
       "      <td>NA</td>\n",
       "      <td>NA</td>\n",
       "      <td>NA</td>\n",
       "      <td>NA</td>\n",
       "      <td>NA</td>\n",
       "    </tr>\n",
       "    <tr>\n",
       "      <th>1</th>\n",
       "      <td>k141_2024815</td>\n",
       "      <td>6453</td>\n",
       "      <td>100</td>\n",
       "      <td>15.496668</td>\n",
       "      <td>10.044137</td>\n",
       "      <td>bin_35</td>\n",
       "      <td>2800912</td>\n",
       "      <td>46716</td>\n",
       "      <td>16.678853</td>\n",
       "      <td>7992</td>\n",
       "      <td>...</td>\n",
       "      <td>11.0</td>\n",
       "      <td>NA</td>\n",
       "      <td>NA</td>\n",
       "      <td>Bacteria</td>\n",
       "      <td>Pseudomonadota</td>\n",
       "      <td>Alphaproteobacteria</td>\n",
       "      <td>Caulobacterales</td>\n",
       "      <td>Hyphomonadaceae</td>\n",
       "      <td>Henriciella</td>\n",
       "      <td>Henriciella pelagia</td>\n",
       "    </tr>\n",
       "    <tr>\n",
       "      <th>2</th>\n",
       "      <td>k141_554695</td>\n",
       "      <td>6107</td>\n",
       "      <td>49</td>\n",
       "      <td>8.023579</td>\n",
       "      <td>3.343158</td>\n",
       "      <td>bin_53</td>\n",
       "      <td>1619275</td>\n",
       "      <td>12799</td>\n",
       "      <td>7.904155</td>\n",
       "      <td>538</td>\n",
       "      <td>...</td>\n",
       "      <td>11.0</td>\n",
       "      <td>0.9941</td>\n",
       "      <td>Genome not assigned to closest species as it f...</td>\n",
       "      <td>Bacteria</td>\n",
       "      <td>Nitrospinota</td>\n",
       "      <td>CAJXCL01</td>\n",
       "      <td>CAJXCL01</td>\n",
       "      <td>CAJXCL01</td>\n",
       "      <td>CAJXCL01</td>\n",
       "      <td>NA</td>\n",
       "    </tr>\n",
       "    <tr>\n",
       "      <th>3</th>\n",
       "      <td>k141_1008272</td>\n",
       "      <td>9439</td>\n",
       "      <td>446</td>\n",
       "      <td>47.250768</td>\n",
       "      <td>5.625091</td>\n",
       "      <td>bin_5</td>\n",
       "      <td>6683291</td>\n",
       "      <td>199608</td>\n",
       "      <td>29.866723</td>\n",
       "      <td>3598</td>\n",
       "      <td>...</td>\n",
       "      <td>11.0</td>\n",
       "      <td>0.99969</td>\n",
       "      <td>Genome domain questionable ( 25.8% Bacterial, ...</td>\n",
       "      <td>Archaea</td>\n",
       "      <td>Thermoplasmatota</td>\n",
       "      <td>Poseidoniia</td>\n",
       "      <td>MGIII</td>\n",
       "      <td>CG-Epi1</td>\n",
       "      <td>UBA8886</td>\n",
       "      <td>NA</td>\n",
       "    </tr>\n",
       "    <tr>\n",
       "      <th>4</th>\n",
       "      <td>k141_2878208</td>\n",
       "      <td>6018</td>\n",
       "      <td>80</td>\n",
       "      <td>13.293453</td>\n",
       "      <td>9.795176</td>\n",
       "      <td>bin_9</td>\n",
       "      <td>4907602</td>\n",
       "      <td>94765</td>\n",
       "      <td>19.309838</td>\n",
       "      <td>17780</td>\n",
       "      <td>...</td>\n",
       "      <td>11.0</td>\n",
       "      <td>0.76892</td>\n",
       "      <td>NA</td>\n",
       "      <td>Bacteria</td>\n",
       "      <td>Myxococcota</td>\n",
       "      <td>Polyangia</td>\n",
       "      <td>Polyangiales</td>\n",
       "      <td>Polyangiaceae</td>\n",
       "      <td>NA</td>\n",
       "      <td>NA</td>\n",
       "    </tr>\n",
       "    <tr>\n",
       "      <th>...</th>\n",
       "      <td>...</td>\n",
       "      <td>...</td>\n",
       "      <td>...</td>\n",
       "      <td>...</td>\n",
       "      <td>...</td>\n",
       "      <td>...</td>\n",
       "      <td>...</td>\n",
       "      <td>...</td>\n",
       "      <td>...</td>\n",
       "      <td>...</td>\n",
       "      <td>...</td>\n",
       "      <td>...</td>\n",
       "      <td>...</td>\n",
       "      <td>...</td>\n",
       "      <td>...</td>\n",
       "      <td>...</td>\n",
       "      <td>...</td>\n",
       "      <td>...</td>\n",
       "      <td>...</td>\n",
       "      <td>...</td>\n",
       "      <td>...</td>\n",
       "    </tr>\n",
       "    <tr>\n",
       "      <th>331</th>\n",
       "      <td>vMAG_28</td>\n",
       "      <td>19811</td>\n",
       "      <td>256</td>\n",
       "      <td>12.922114</td>\n",
       "      <td>0.646106</td>\n",
       "      <td>bin_24</td>\n",
       "      <td>2974822</td>\n",
       "      <td>17871</td>\n",
       "      <td>6.007418</td>\n",
       "      <td>323</td>\n",
       "      <td>...</td>\n",
       "      <td>11.0</td>\n",
       "      <td>NA</td>\n",
       "      <td>NA</td>\n",
       "      <td>Bacteria</td>\n",
       "      <td>Pseudomonadota</td>\n",
       "      <td>Alphaproteobacteria</td>\n",
       "      <td>GCA-2731375</td>\n",
       "      <td>GCA-2731375</td>\n",
       "      <td>GCA-2731375</td>\n",
       "      <td>GCA-2731375 sp002731375</td>\n",
       "    </tr>\n",
       "    <tr>\n",
       "      <th>332</th>\n",
       "      <td>vMAG_11</td>\n",
       "      <td>12392</td>\n",
       "      <td>755</td>\n",
       "      <td>60.926404</td>\n",
       "      <td>1.249772</td>\n",
       "      <td>bin_26</td>\n",
       "      <td>2922201</td>\n",
       "      <td>11622</td>\n",
       "      <td>3.977139</td>\n",
       "      <td>1037</td>\n",
       "      <td>...</td>\n",
       "      <td>11.0</td>\n",
       "      <td>NA</td>\n",
       "      <td>NA</td>\n",
       "      <td>Bacteria</td>\n",
       "      <td>Pseudomonadota</td>\n",
       "      <td>Gammaproteobacteria</td>\n",
       "      <td>Pseudomonadales</td>\n",
       "      <td>Pseudohongiellaceae</td>\n",
       "      <td>UBA9145</td>\n",
       "      <td>UBA9145 sp002730035</td>\n",
       "    </tr>\n",
       "    <tr>\n",
       "      <th>333</th>\n",
       "      <td>vMAG_44</td>\n",
       "      <td>67417</td>\n",
       "      <td>9735</td>\n",
       "      <td>144.399780</td>\n",
       "      <td>98.904902</td>\n",
       "      <td>bin_1</td>\n",
       "      <td>9896228</td>\n",
       "      <td>4482963</td>\n",
       "      <td>452.997142</td>\n",
       "      <td>1398908</td>\n",
       "      <td>...</td>\n",
       "      <td>11.0</td>\n",
       "      <td>NA</td>\n",
       "      <td>NA</td>\n",
       "      <td>Bacteria</td>\n",
       "      <td>Planctomycetota</td>\n",
       "      <td>Planctomycetia</td>\n",
       "      <td>Pirellulales</td>\n",
       "      <td>Pirellulaceae</td>\n",
       "      <td>ARS98</td>\n",
       "      <td>ARS98 sp002685655</td>\n",
       "    </tr>\n",
       "    <tr>\n",
       "      <th>334</th>\n",
       "      <td>vMAG_46</td>\n",
       "      <td>23788</td>\n",
       "      <td>4761</td>\n",
       "      <td>200.142929</td>\n",
       "      <td>167.987002</td>\n",
       "      <td>bin_1</td>\n",
       "      <td>9896228</td>\n",
       "      <td>4482963</td>\n",
       "      <td>452.997142</td>\n",
       "      <td>1398908</td>\n",
       "      <td>...</td>\n",
       "      <td>11.0</td>\n",
       "      <td>NA</td>\n",
       "      <td>NA</td>\n",
       "      <td>Bacteria</td>\n",
       "      <td>Planctomycetota</td>\n",
       "      <td>Planctomycetia</td>\n",
       "      <td>Pirellulales</td>\n",
       "      <td>Pirellulaceae</td>\n",
       "      <td>ARS98</td>\n",
       "      <td>ARS98 sp002685655</td>\n",
       "    </tr>\n",
       "    <tr>\n",
       "      <th>335</th>\n",
       "      <td>vMAG_17</td>\n",
       "      <td>25751</td>\n",
       "      <td>6621</td>\n",
       "      <td>257.116228</td>\n",
       "      <td>241.411291</td>\n",
       "      <td>bin_4</td>\n",
       "      <td>5984518</td>\n",
       "      <td>1333481</td>\n",
       "      <td>222.821788</td>\n",
       "      <td>347766</td>\n",
       "      <td>...</td>\n",
       "      <td>11.0</td>\n",
       "      <td>0.77113</td>\n",
       "      <td>NA</td>\n",
       "      <td>Bacteria</td>\n",
       "      <td>Armatimonadota</td>\n",
       "      <td>UBA5377</td>\n",
       "      <td>UBA5377</td>\n",
       "      <td>VGFC01</td>\n",
       "      <td>NA</td>\n",
       "      <td>NA</td>\n",
       "    </tr>\n",
       "  </tbody>\n",
       "</table>\n",
       "<p>336 rows × 46 columns</p>\n",
       "</div>"
      ],
      "text/plain": [
       "       virus_name  virus_length  virus_read_count  virus_read_depth  \\\n",
       "0      k141_30505          6674                91         13.635001   \n",
       "1    k141_2024815          6453               100         15.496668   \n",
       "2     k141_554695          6107                49          8.023579   \n",
       "3    k141_1008272          9439               446         47.250768   \n",
       "4    k141_2878208          6018                80         13.293453   \n",
       "..            ...           ...               ...               ...   \n",
       "331       vMAG_28         19811               256         12.922114   \n",
       "332       vMAG_11         12392               755         60.926404   \n",
       "333       vMAG_44         67417              9735        144.399780   \n",
       "334       vMAG_46         23788              4761        200.142929   \n",
       "335       vMAG_17         25751              6621        257.116228   \n",
       "\n",
       "     virus_read_depth_in_host host_name  host_length  host_read_count  \\\n",
       "0                    4.999501   bin_165       176803             3432   \n",
       "1                   10.044137    bin_35      2800912            46716   \n",
       "2                    3.343158    bin_53      1619275            12799   \n",
       "3                    5.625091     bin_5      6683291           199608   \n",
       "4                    9.795176     bin_9      4907602            94765   \n",
       "..                        ...       ...          ...              ...   \n",
       "331                  0.646106    bin_24      2974822            17871   \n",
       "332                  1.249772    bin_26      2922201            11622   \n",
       "333                 98.904902     bin_1      9896228          4482963   \n",
       "334                167.987002     bin_1      9896228          4482963   \n",
       "335                241.411291     bin_4      5984518          1333481   \n",
       "\n",
       "     host_read_depth  intra_read_count  ...  translation_table  red_value  \\\n",
       "0          19.411435               166  ...                 NA         NA   \n",
       "1          16.678853              7992  ...               11.0         NA   \n",
       "2           7.904155               538  ...               11.0     0.9941   \n",
       "3          29.866723              3598  ...               11.0    0.99969   \n",
       "4          19.309838             17780  ...               11.0    0.76892   \n",
       "..               ...               ...  ...                ...        ...   \n",
       "331         6.007418               323  ...               11.0         NA   \n",
       "332         3.977139              1037  ...               11.0         NA   \n",
       "333       452.997142           1398908  ...               11.0         NA   \n",
       "334       452.997142           1398908  ...               11.0         NA   \n",
       "335       222.821788            347766  ...               11.0    0.77113   \n",
       "\n",
       "                                              warnings                 domain  \\\n",
       "0     Insufficient number of amino acids in MSA (1.6%)  Unclassified Bacteria   \n",
       "1                                                   NA               Bacteria   \n",
       "2    Genome not assigned to closest species as it f...               Bacteria   \n",
       "3    Genome domain questionable ( 25.8% Bacterial, ...                Archaea   \n",
       "4                                                   NA               Bacteria   \n",
       "..                                                 ...                    ...   \n",
       "331                                                 NA               Bacteria   \n",
       "332                                                 NA               Bacteria   \n",
       "333                                                 NA               Bacteria   \n",
       "334                                                 NA               Bacteria   \n",
       "335                                                 NA               Bacteria   \n",
       "\n",
       "                phyla                class            order  \\\n",
       "0                  NA                   NA               NA   \n",
       "1      Pseudomonadota  Alphaproteobacteria  Caulobacterales   \n",
       "2        Nitrospinota             CAJXCL01         CAJXCL01   \n",
       "3    Thermoplasmatota          Poseidoniia            MGIII   \n",
       "4         Myxococcota            Polyangia     Polyangiales   \n",
       "..                ...                  ...              ...   \n",
       "331    Pseudomonadota  Alphaproteobacteria      GCA-2731375   \n",
       "332    Pseudomonadota  Gammaproteobacteria  Pseudomonadales   \n",
       "333   Planctomycetota       Planctomycetia     Pirellulales   \n",
       "334   Planctomycetota       Planctomycetia     Pirellulales   \n",
       "335    Armatimonadota              UBA5377          UBA5377   \n",
       "\n",
       "                  family        genus                  species  \n",
       "0                     NA           NA                       NA  \n",
       "1        Hyphomonadaceae  Henriciella      Henriciella pelagia  \n",
       "2               CAJXCL01     CAJXCL01                       NA  \n",
       "3                CG-Epi1      UBA8886                       NA  \n",
       "4          Polyangiaceae           NA                       NA  \n",
       "..                   ...          ...                      ...  \n",
       "331          GCA-2731375  GCA-2731375  GCA-2731375 sp002731375  \n",
       "332  Pseudohongiellaceae      UBA9145      UBA9145 sp002730035  \n",
       "333        Pirellulaceae        ARS98        ARS98 sp002685655  \n",
       "334        Pirellulaceae        ARS98        ARS98 sp002685655  \n",
       "335               VGFC01           NA                       NA  \n",
       "\n",
       "[336 rows x 46 columns]"
      ]
     },
     "execution_count": 2,
     "metadata": {},
     "output_type": "execute_result"
    }
   ],
   "source": [
    "combo = associations.merge(mags,how='left',on=[\"host_name\",\"sample_name\",\"sample_depth\"])\n",
    "combo = combo.fillna(\"NA\")\n",
    "combo"
   ]
  },
  {
   "cell_type": "code",
   "execution_count": 3,
   "id": "677a00f2-4963-48fa-b557-832062243082",
   "metadata": {},
   "outputs": [],
   "source": [
    "# write csv file\n",
    "combo.to_csv('~/Documents/Bigelow- starting Sept 2022/Virus Project/OMZ_MH_Analysis/Data/all_associations_gtdb.csv', index=False)"
   ]
  },
  {
   "cell_type": "markdown",
   "id": "135246f9-a06f-4a5b-affb-2f940c3a1d9a",
   "metadata": {},
   "source": [
    "## How many associations were classified in total?"
   ]
  },
  {
   "cell_type": "code",
   "execution_count": 4,
   "id": "eda94e6d-f714-4cbc-8e58-0454c772dc0d",
   "metadata": {},
   "outputs": [
    {
     "data": {
      "text/plain": [
       "336"
      ]
     },
     "execution_count": 4,
     "metadata": {},
     "output_type": "execute_result"
    }
   ],
   "source": [
    "tot = len(combo['domain'])\n",
    "tot"
   ]
  },
  {
   "cell_type": "markdown",
   "id": "2f204cc8-6d31-4d39-a4b0-aff6b11337ac",
   "metadata": {},
   "source": [
    "## How many MAGs were classified to at least that classification level?"
   ]
  },
  {
   "cell_type": "code",
   "execution_count": 5,
   "id": "5422309b-5a85-441c-86dc-e91e133e46e2",
   "metadata": {},
   "outputs": [
    {
     "data": {
      "text/html": [
       "<div>\n",
       "<style scoped>\n",
       "    .dataframe tbody tr th:only-of-type {\n",
       "        vertical-align: middle;\n",
       "    }\n",
       "\n",
       "    .dataframe tbody tr th {\n",
       "        vertical-align: top;\n",
       "    }\n",
       "\n",
       "    .dataframe thead th {\n",
       "        text-align: right;\n",
       "    }\n",
       "</style>\n",
       "<table border=\"1\" class=\"dataframe\">\n",
       "  <thead>\n",
       "    <tr style=\"text-align: right;\">\n",
       "      <th></th>\n",
       "      <th>tax_level</th>\n",
       "      <th>num_associations_classified</th>\n",
       "      <th>percent_classified</th>\n",
       "    </tr>\n",
       "  </thead>\n",
       "  <tbody>\n",
       "    <tr>\n",
       "      <th>0</th>\n",
       "      <td>total</td>\n",
       "      <td>336</td>\n",
       "      <td>100.000000</td>\n",
       "    </tr>\n",
       "    <tr>\n",
       "      <th>1</th>\n",
       "      <td>domain</td>\n",
       "      <td>336</td>\n",
       "      <td>100.000000</td>\n",
       "    </tr>\n",
       "    <tr>\n",
       "      <th>2</th>\n",
       "      <td>phyla</td>\n",
       "      <td>196</td>\n",
       "      <td>58.333333</td>\n",
       "    </tr>\n",
       "    <tr>\n",
       "      <th>3</th>\n",
       "      <td>class</td>\n",
       "      <td>196</td>\n",
       "      <td>58.333333</td>\n",
       "    </tr>\n",
       "    <tr>\n",
       "      <th>4</th>\n",
       "      <td>order</td>\n",
       "      <td>196</td>\n",
       "      <td>58.333333</td>\n",
       "    </tr>\n",
       "    <tr>\n",
       "      <th>5</th>\n",
       "      <td>family</td>\n",
       "      <td>196</td>\n",
       "      <td>58.333333</td>\n",
       "    </tr>\n",
       "    <tr>\n",
       "      <th>6</th>\n",
       "      <td>genus</td>\n",
       "      <td>166</td>\n",
       "      <td>49.404762</td>\n",
       "    </tr>\n",
       "    <tr>\n",
       "      <th>7</th>\n",
       "      <td>species</td>\n",
       "      <td>129</td>\n",
       "      <td>38.392857</td>\n",
       "    </tr>\n",
       "  </tbody>\n",
       "</table>\n",
       "</div>"
      ],
      "text/plain": [
       "  tax_level  num_associations_classified  percent_classified\n",
       "0     total                          336          100.000000\n",
       "1    domain                          336          100.000000\n",
       "2     phyla                          196           58.333333\n",
       "3     class                          196           58.333333\n",
       "4     order                          196           58.333333\n",
       "5    family                          196           58.333333\n",
       "6     genus                          166           49.404762\n",
       "7   species                          129           38.392857"
      ]
     },
     "execution_count": 5,
     "metadata": {},
     "output_type": "execute_result"
    }
   ],
   "source": [
    "d_assoc = len(combo[combo['domain']!= \"NA\"])\n",
    "p_assoc = len(combo[combo['phyla']!=\"NA\"])\n",
    "c_assoc =len(combo[combo['class']!=\"NA\"])\n",
    "o_assoc=len(combo[combo['order']!=\"NA\"])\n",
    "f_assoc=len(combo[combo['family']!=\"NA\"])\n",
    "g_assoc=len(combo[combo['genus']!=\"NA\"]) \n",
    "s_assoc=len(combo[combo['species']!=\"NA\"])\n",
    "\n",
    "# create a data frame of the number of MAGs associated with each level\n",
    "dict_assoc = {'tax_level': ['total', 'domain', 'phyla', 'class', 'order', 'family', 'genus','species'], 'num_associations_classified':\n",
    "   [tot, d_assoc, p_assoc, c_assoc, o_assoc, f_assoc, g_assoc, s_assoc]}\n",
    "GTDB_assoc = pd.DataFrame(data = dict_assoc)\n",
    "\n",
    "# add a column to the dataframe that is the percent of MAGs\n",
    "GTDB_assoc['percent_classified']=GTDB_assoc['num_associations_classified']/tot*100\n",
    "\n",
    "GTDB_assoc"
   ]
  },
  {
   "cell_type": "code",
   "execution_count": 7,
   "id": "29c8dd6b-6742-4fdb-aa8e-233a46122ed5",
   "metadata": {},
   "outputs": [
    {
     "data": {
      "text/plain": [
       "Text(0.5, 1.0, 'Assignment of host-virus associations at different taxonomic levels with GTDB')"
      ]
     },
     "execution_count": 7,
     "metadata": {},
     "output_type": "execute_result"
    },
    {
     "data": {
      "image/png": "[encoded data removed]",
      "text/plain": [
       "<Figure size 432x288 with 1 Axes>"
      ]
     },
     "metadata": {
      "needs_background": "light"
     },
     "output_type": "display_data"
    }
   ],
   "source": [
    "# count plot\n",
    "GTDB_assoc.plot(kind='bar', x='tax_level', y='num_associations_classified',legend=None)\n",
    "plt.xlabel('Taxonomic classification')\n",
    "plt.ylabel('Number of associations')\n",
    "plt.title('Assignment of host-virus associations at different taxonomic levels with GTDB')"
   ]
  },
  {
   "cell_type": "code",
   "execution_count": 8,
   "id": "4ff00794-3e09-4414-b35d-b9aec17e4577",
   "metadata": {},
   "outputs": [
    {
     "data": {
      "text/plain": [
       "Text(0.5, 1.0, 'Percent of virus-host associations classified at different taxonomic levels with GTDB')"
      ]
     },
     "execution_count": 8,
     "metadata": {},
     "output_type": "execute_result"
    },
    {
     "data": {
      "image/png": "[encoded data removed]",
      "text/plain": [
       "<Figure size 432x288 with 1 Axes>"
      ]
     },
     "metadata": {
      "needs_background": "light"
     },
     "output_type": "display_data"
    }
   ],
   "source": [
    "# percent plot\n",
    "GTDB_assoc.plot(kind='bar', x='tax_level', y='percent_classified',legend=None)\n",
    "plt.xlabel('Taxonomic classification')\n",
    "plt.ylabel('Percent')\n",
    "plt.title('Percent of host-virus associations classified at different taxonomic levels with GTDB')"
   ]
  },
  {
   "cell_type": "markdown",
   "id": "648de039-e3ae-4c0a-ac67-0810b1760afb",
   "metadata": {},
   "source": [
    "## What are the most common classifications?"
   ]
  },
  {
   "cell_type": "markdown",
   "id": "5c61fa30-c859-4403-8eed-883225418e10",
   "metadata": {},
   "source": [
    "#### Phyla"
   ]
  },
  {
   "cell_type": "code",
   "execution_count": 22,
   "id": "a99e21c2-0a25-4db4-ac89-4b0bb16c9ed2",
   "metadata": {},
   "outputs": [
    {
     "data": {
      "text/plain": [
       "Text(0.5, 1.0, 'Number of host-virus associations belonging to the top 10 most abundant phyla with GTDB')"
      ]
     },
     "execution_count": 22,
     "metadata": {},
     "output_type": "execute_result"
    },
    {
     "data": {
      "image/png": "[encoded data removed]",
      "text/plain": [
       "<Figure size 432x288 with 1 Axes>"
      ]
     },
     "metadata": {
      "needs_background": "light"
     },
     "output_type": "display_data"
    }
   ],
   "source": [
    "phyla_df = combo.groupby('phyla', as_index=False)['host_name'].count().sort_values(by = 'host_name',ascending=False)\n",
    "top_phyla = phyla_df [:11]\n",
    "top_phyla = top_phyla [2:11]\n",
    "\n",
    "top_phyla.plot('phyla','host_name',kind = 'bar',legend=None)\n",
    "plt.xlabel('Phyla')\n",
    "plt.ylabel('Count')\n",
    "plt.title('Number of host-virus associations belonging to the top 10 most abundant phyla with GTDB')"
   ]
  },
  {
   "cell_type": "markdown",
   "id": "b7b5b0e0-22f2-49f8-98b2-acc3890171a6",
   "metadata": {},
   "source": [
    "#### Class"
   ]
  },
  {
   "cell_type": "code",
   "execution_count": 29,
   "id": "253a092c-3f94-432b-bad5-10db978c49c7",
   "metadata": {},
   "outputs": [
    {
     "data": {
      "text/plain": [
       "Text(0.5, 1.0, 'Number of host-virus associations belonging to the top 10 most abundant classes with GTDB')"
      ]
     },
     "execution_count": 29,
     "metadata": {},
     "output_type": "execute_result"
    },
    {
     "data": {
      "image/png": "[encoded data removed]",
      "text/plain": [
       "<Figure size 432x288 with 1 Axes>"
      ]
     },
     "metadata": {
      "needs_background": "light"
     },
     "output_type": "display_data"
    }
   ],
   "source": [
    "class_df = combo.groupby('class', as_index=False)['host_name'].count().sort_values(by = 'host_name',ascending=False)\n",
    "top_class = class_df [:11]\n",
    "top_class = top_class [2:11]\n",
    "\n",
    "top_class.plot('class','host_name',kind = 'bar',legend=None)\n",
    "plt.xlabel('Class')\n",
    "plt.ylabel('Count')\n",
    "plt.title('Number of host-virus associations belonging to the top 10 most abundant classes with GTDB')"
   ]
  },
  {
   "cell_type": "markdown",
   "id": "2436b647-54fd-4d6c-9daa-8cf62b6de76e",
   "metadata": {},
   "source": [
    "#### Order"
   ]
  },
  {
   "cell_type": "code",
   "execution_count": 33,
   "id": "ff561e60-65e3-49c5-bc0e-33aeccb2569c",
   "metadata": {},
   "outputs": [
    {
     "data": {
      "text/plain": [
       "Text(0.5, 1.0, 'Number of host-virus associations belonging to the top 10 most abundant orders with GTDB')"
      ]
     },
     "execution_count": 33,
     "metadata": {},
     "output_type": "execute_result"
    },
    {
     "data": {
      "image/png": "[encoded data removed]",
      "text/plain": [
       "<Figure size 432x288 with 1 Axes>"
      ]
     },
     "metadata": {
      "needs_background": "light"
     },
     "output_type": "display_data"
    }
   ],
   "source": [
    "order_df = combo.groupby('order', as_index=False)['host_name'].count().sort_values(by = 'host_name',ascending=False)\n",
    "top_order = order_df [:11]\n",
    "top_order = top_order [2:11]\n",
    "\n",
    "top_order.plot('order','host_name',kind = 'bar',legend=None)\n",
    "plt.xlabel('Order')\n",
    "plt.ylabel('Count')\n",
    "plt.title('Number of host-virus associations belonging to the top 10 most abundant orders with GTDB')"
   ]
  }
 ],
 "metadata": {
  "kernelspec": {
   "display_name": "Python 3 (ipykernel)",
   "language": "python",
   "name": "python3"
  },
  "language_info": {
   "codemirror_mode": {
    "name": "ipython",
    "version": 3
   },
   "file_extension": ".py",
   "mimetype": "text/x-python",
   "name": "python",
   "nbconvert_exporter": "python",
   "pygments_lexer": "ipython3",
   "version": "3.9.12"
  }
 },
 "nbformat": 4,
 "nbformat_minor": 5
}
