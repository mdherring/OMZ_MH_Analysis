{
 "cells": [
  {
   "cell_type": "markdown",
   "id": "c0c634d6-c58d-4ef7-ad87-6aea16518c76",
   "metadata": {},
   "source": [
    "# 02_create_sag_master_table\n",
    "\n",
    "This script creates a master table for all SAGs with columns for all of the information available on google drive."
   ]
  },
  {
   "cell_type": "code",
   "execution_count": 28,
   "id": "1f0f6961-dbe1-4003-b207-3c84c8bb467d",
   "metadata": {},
   "outputs": [],
   "source": [
    "# Load packages\n",
    "import pandas as pd\n",
    "import os\n",
    "import os.path as op\n",
    "import sys\n",
    "import csv\n",
    "import numpy as np\n",
    "import matplotlib\n",
    "import glob\n",
    "import seaborn as sns\n",
    "from collections import Counter\n",
    "import matplotlib.pyplot as plt\n",
    "\n",
    "# file paths\n",
    "path = '/Users/melissaherring/Google Drive/My Drive/MH_project/'\n",
    "#path = '/Users/juliabrown/Google Drive/My Drive/projects/OMZvir_round2/MH_project/'\n",
    "\n",
    "# define functions \n",
    "def split_classification(df):\n",
    "    df[['domain','phyla','class','order','family','genus','species']] = df.classification.str.split(';', expand=True)\n",
    "    df['domain'] = df['domain'].str.replace('d__', '')\n",
    "    df['phyla'] = df['phyla'].str.replace('p__', '')\n",
    "    df['class'] = df['class'].str.replace('c__', '')\n",
    "    df['order'] = df['order'].str.replace('o__', '')\n",
    "    df['family'] = df['family'].str.replace('f__', '')\n",
    "    df['genus'] = df['genus'].str.replace('g__', '')\n",
    "    df['species'] = df['species'].str.replace('s__', '')\n",
    "    return df\n",
    "\n",
    "# input sag data\n",
    "proximeta_matches = pd.read_csv(op.join(path, 'data/sag_data/MPsag_mx2_proximeta_matches_gtdbtk.csv'))\n",
    "vsag_info = pd.read_csv(op.join(path, 'data/sag_data/MPvsag_info_230818.csv'))\n",
    "\n",
    "# create virus_type column for vsag_info\n",
    "vsag_info['virus_type'] = 'vsag'\n",
    "\n",
    "# rename well column for proximeta_matches\n",
    "proximeta_matches = proximeta_matches.rename(columns={'well': 'sag'})\n",
    "\n",
    "# merge\n",
    "sag_master = proximeta_matches.merge(vsag_info,how='outer',on=['sag','classification_via_GTDBTk','depth']).replace('', np.nan).fillna(\"NA\").drop('plate_y',axis=1)\n",
    "\n",
    "sag_master['virus_type'] = sag_master['virus_type'].replace('NA', 'uninfected sag')\n",
    "\n",
    "sag_master = sag_master.rename(columns={'plate_x':'plate','classification_via_GTDBTk':'classification'})\n",
    "\n",
    "sag_master['classification'] = sag_master['classification'].replace('0', np.nan).fillna(\"NA\")"
   ]
  },
  {
   "cell_type": "code",
   "execution_count": 30,
   "id": "b5df3a1c-7ab7-4f6e-8dda-4c12fb38695d",
   "metadata": {},
   "outputs": [],
   "source": [
    "sag_master.to_csv(op.join(path, 'tables/sag_master.csv'), index=False)"
   ]
  }
 ],
 "metadata": {
  "kernelspec": {
   "display_name": "Python 3 (ipykernel)",
   "language": "python",
   "name": "python3"
  },
  "language_info": {
   "codemirror_mode": {
    "name": "ipython",
    "version": 3
   },
   "file_extension": ".py",
   "mimetype": "text/x-python",
   "name": "python",
   "nbconvert_exporter": "python",
   "pygments_lexer": "ipython3",
   "version": "3.9.12"
  }
 },
 "nbformat": 4,
 "nbformat_minor": 5
}
