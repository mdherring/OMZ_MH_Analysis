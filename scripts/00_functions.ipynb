{
 "cells": [
  {
   "cell_type": "markdown",
   "id": "5f513591-9ac9-4ffb-9880-13294f1abfed",
   "metadata": {},
   "source": [
    "# 00_functions\n",
    "\n",
    "This notebook compiles all functions used in this project throughout all notebooks."
   ]
  },
  {
   "cell_type": "markdown",
   "id": "e9a5471e-2d09-4460-ac0e-cbdd6e6a9782",
   "metadata": {},
   "source": [
    "## File paths"
   ]
  },
  {
   "cell_type": "code",
   "execution_count": null,
   "id": "a5d4cd7f-5b34-4d6a-a802-98d7525c293f",
   "metadata": {},
   "outputs": [],
   "source": [
    "m_path = '/Users/melissaherring/Google Drive/My Drive/MH_project/'\n",
    "#j_path = '/Users/juliabrown/Google Drive/My Drive/projects/OMZvir_round2/MH_project/'"
   ]
  },
  {
   "cell_type": "markdown",
   "id": "2ffed67c-6a59-49a5-af96-2bd8464f9f1e",
   "metadata": {},
   "source": [
    "## Packages"
   ]
  },
  {
   "cell_type": "code",
   "execution_count": null,
   "id": "e664270c-2fc1-48bd-b67d-e839b605857c",
   "metadata": {},
   "outputs": [],
   "source": [
    "import pandas as pd\n",
    "import os\n",
    "import os.path as op\n",
    "import sys\n",
    "import csv\n",
    "import numpy as np\n",
    "import matplotlib\n",
    "import glob\n",
    "import seaborn as sns\n",
    "from collections import Counter\n",
    "import matplotlib.pyplot as plt\n",
    "from matplotlib_venn import venn2"
   ]
  },
  {
   "cell_type": "markdown",
   "id": "09a72397-1161-4bf2-8489-2a9f3ffa30bf",
   "metadata": {},
   "source": [
    "## split_classification()"
   ]
  },
  {
   "cell_type": "code",
   "execution_count": null,
   "id": "56e7b8f9-29d2-4ced-acf1-501999689bb6",
   "metadata": {},
   "outputs": [],
   "source": [
    "def split_classification(df):\n",
    "    df[['domain','phyla','class','order','family','genus','species']] = df.classification.str.split(';', expand=True)\n",
    "    df['domain'] = df['domain'].str.replace('d__', '')\n",
    "    df['phyla'] = df['phyla'].str.replace('p__', '')\n",
    "    df['class'] = df['class'].str.replace('c__', '')\n",
    "    df['order'] = df['order'].str.replace('o__', '')\n",
    "    df['family'] = df['family'].str.replace('f__', '')\n",
    "    df['genus'] = df['genus'].str.replace('g__', '')\n",
    "    df['species'] = df['species'].str.replace('s__', '')\n",
    "    return df"
   ]
  },
  {
   "cell_type": "markdown",
   "id": "5119682c-88f1-4eef-bd3d-45d53c252e53",
   "metadata": {},
   "source": [
    "## count_classified()"
   ]
  },
  {
   "cell_type": "code",
   "execution_count": null,
   "id": "40485b9c-cf0a-4725-9551-6688f7f86638",
   "metadata": {},
   "outputs": [],
   "source": [
    "def count_classified(df, level):\n",
    "    level_prefix = level[0] + '__' # create level prefixes\n",
    "    subdf = df[(df[level] != 'Unclassified') & (~df[level].isna()) & (df[level] != '') & (df[level] != level_prefix)] # all conditions that level is unannotated\n",
    "    return len(subdf)  # returns number of rows with annotation for level"
   ]
  },
  {
   "cell_type": "markdown",
   "id": "79f4e5c7-460d-46d9-8250-2889d16e51ef",
   "metadata": {},
   "source": [
    "## split_contig_id()"
   ]
  },
  {
   "cell_type": "code",
   "execution_count": null,
   "id": "a8023c25-3b0b-43ce-a226-20d3c12de145",
   "metadata": {},
   "outputs": [],
   "source": [
    "def split_contig_id(df):\n",
    "    df['virus_name'] = df['contig_id'].str.split(\"|\").str[0]\n",
    "    df['N'] = pd.to_numeric(df['contig_id'].str.split(\"|\").str[1].str.replace('N=', ''))\n",
    "    df['L'] = pd.to_numeric(df['contig_id'].str.split(\"|\").str[2].str.replace('L=', ''))\n",
    "    return df"
   ]
  }
 ],
 "metadata": {
  "kernelspec": {
   "display_name": "Python 3 (ipykernel)",
   "language": "python",
   "name": "python3"
  },
  "language_info": {
   "codemirror_mode": {
    "name": "ipython",
    "version": 3
   },
   "file_extension": ".py",
   "mimetype": "text/x-python",
   "name": "python",
   "nbconvert_exporter": "python",
   "pygments_lexer": "ipython3",
   "version": "3.9.12"
  }
 },
 "nbformat": 4,
 "nbformat_minor": 5
}
