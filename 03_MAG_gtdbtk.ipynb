{
 "cells": [
  {
   "cell_type": "markdown",
   "id": "a805e1a5-6552-4790-a7de-309fbbdb8b34",
   "metadata": {},
   "source": [
    "# 03_MAG_gtdbtk"
   ]
  },
  {
   "cell_type": "markdown",
   "id": "6ce1b8f5-7e5b-4f33-a98e-2982e5f46915",
   "metadata": {},
   "source": [
    "This document explores the MAG GTDB output. Imported data is the original data files from google drive. This document is written in the Python coding language."
   ]
  },
  {
   "cell_type": "markdown",
   "id": "2e5a7c2d-606d-41ca-a463-ce52836e9f2a",
   "metadata": {},
   "source": [
    "## Load packages and data"
   ]
  },
  {
   "cell_type": "code",
   "execution_count": 135,
   "id": "e5f1b59f-7d4e-47e5-bd19-e03470b15fa5",
   "metadata": {
    "tags": []
   },
   "outputs": [
    {
     "data": {
      "text/html": [
       "<div>\n",
       "<style scoped>\n",
       "    .dataframe tbody tr th:only-of-type {\n",
       "        vertical-align: middle;\n",
       "    }\n",
       "\n",
       "    .dataframe tbody tr th {\n",
       "        vertical-align: top;\n",
       "    }\n",
       "\n",
       "    .dataframe thead th {\n",
       "        text-align: right;\n",
       "    }\n",
       "</style>\n",
       "<table border=\"1\" class=\"dataframe\">\n",
       "  <thead>\n",
       "    <tr style=\"text-align: right;\">\n",
       "      <th></th>\n",
       "      <th>user_genome</th>\n",
       "      <th>classification</th>\n",
       "      <th>fastani_reference</th>\n",
       "      <th>fastani_reference_radius</th>\n",
       "      <th>fastani_taxonomy</th>\n",
       "      <th>fastani_ani</th>\n",
       "      <th>fastani_af</th>\n",
       "      <th>closest_placement_reference</th>\n",
       "      <th>closest_placement_radius</th>\n",
       "      <th>closest_placement_taxonomy</th>\n",
       "      <th>...</th>\n",
       "      <th>warnings</th>\n",
       "      <th>sample_name</th>\n",
       "      <th>sample_depth</th>\n",
       "      <th>domain</th>\n",
       "      <th>phyla</th>\n",
       "      <th>class</th>\n",
       "      <th>order</th>\n",
       "      <th>family</th>\n",
       "      <th>genus</th>\n",
       "      <th>species</th>\n",
       "    </tr>\n",
       "  </thead>\n",
       "  <tbody>\n",
       "    <tr>\n",
       "      <th>0</th>\n",
       "      <td>bin_101</td>\n",
       "      <td>d__Archaea;p__Thermoplasmatota;c__Poseidoniia;...</td>\n",
       "      <td>GCA_002731905.1</td>\n",
       "      <td>95.0</td>\n",
       "      <td>d__Archaea;p__Thermoplasmatota;c__Poseidoniia;...</td>\n",
       "      <td>98.12</td>\n",
       "      <td>0.737</td>\n",
       "      <td>GCA_002731905.1</td>\n",
       "      <td>95.0</td>\n",
       "      <td>d__Archaea;p__Thermoplasmatota;c__Poseidoniia;...</td>\n",
       "      <td>...</td>\n",
       "      <td>NaN</td>\n",
       "      <td>JV119</td>\n",
       "      <td>400</td>\n",
       "      <td>Archaea</td>\n",
       "      <td>Thermoplasmatota</td>\n",
       "      <td>Poseidoniia</td>\n",
       "      <td>MGIII</td>\n",
       "      <td>CG-Epi1</td>\n",
       "      <td>UBA8886</td>\n",
       "      <td>UBA8886 sp002731905</td>\n",
       "    </tr>\n",
       "    <tr>\n",
       "      <th>1</th>\n",
       "      <td>bin_103</td>\n",
       "      <td>d__Archaea;p__Nanoarchaeota;c__Nanoarchaeia;o_...</td>\n",
       "      <td>NaN</td>\n",
       "      <td>NaN</td>\n",
       "      <td>NaN</td>\n",
       "      <td>NaN</td>\n",
       "      <td>NaN</td>\n",
       "      <td>NaN</td>\n",
       "      <td>NaN</td>\n",
       "      <td>NaN</td>\n",
       "      <td>...</td>\n",
       "      <td>NaN</td>\n",
       "      <td>JV119</td>\n",
       "      <td>400</td>\n",
       "      <td>Archaea</td>\n",
       "      <td>Nanoarchaeota</td>\n",
       "      <td>Nanoarchaeia</td>\n",
       "      <td>Woesearchaeales</td>\n",
       "      <td>JABIAG01</td>\n",
       "      <td></td>\n",
       "      <td></td>\n",
       "    </tr>\n",
       "    <tr>\n",
       "      <th>2</th>\n",
       "      <td>bin_107</td>\n",
       "      <td>d__Archaea;p__Nanoarchaeota;c__Nanoarchaeia;o_...</td>\n",
       "      <td>NaN</td>\n",
       "      <td>NaN</td>\n",
       "      <td>NaN</td>\n",
       "      <td>NaN</td>\n",
       "      <td>NaN</td>\n",
       "      <td>NaN</td>\n",
       "      <td>NaN</td>\n",
       "      <td>NaN</td>\n",
       "      <td>...</td>\n",
       "      <td>NaN</td>\n",
       "      <td>JV119</td>\n",
       "      <td>400</td>\n",
       "      <td>Archaea</td>\n",
       "      <td>Nanoarchaeota</td>\n",
       "      <td>Nanoarchaeia</td>\n",
       "      <td>SCGC-AAA011-G17</td>\n",
       "      <td>JACPNG01</td>\n",
       "      <td></td>\n",
       "      <td></td>\n",
       "    </tr>\n",
       "    <tr>\n",
       "      <th>3</th>\n",
       "      <td>bin_112</td>\n",
       "      <td>d__Archaea;p__Nanoarchaeota;c__Nanoarchaeia;o_...</td>\n",
       "      <td>NaN</td>\n",
       "      <td>NaN</td>\n",
       "      <td>NaN</td>\n",
       "      <td>NaN</td>\n",
       "      <td>NaN</td>\n",
       "      <td>GCA_016185615.1</td>\n",
       "      <td>95.0</td>\n",
       "      <td>d__Archaea;p__Nanoarchaeota;c__Nanoarchaeia;o_...</td>\n",
       "      <td>...</td>\n",
       "      <td>NaN</td>\n",
       "      <td>JV119</td>\n",
       "      <td>400</td>\n",
       "      <td>Archaea</td>\n",
       "      <td>Nanoarchaeota</td>\n",
       "      <td>Nanoarchaeia</td>\n",
       "      <td>SCGC-AAA011-G17</td>\n",
       "      <td>JACPNG01</td>\n",
       "      <td>JACPNE01</td>\n",
       "      <td></td>\n",
       "    </tr>\n",
       "    <tr>\n",
       "      <th>4</th>\n",
       "      <td>bin_120</td>\n",
       "      <td>d__Archaea;p__Undinarchaeota;c__Undinarchaeia;...</td>\n",
       "      <td>NaN</td>\n",
       "      <td>NaN</td>\n",
       "      <td>NaN</td>\n",
       "      <td>NaN</td>\n",
       "      <td>NaN</td>\n",
       "      <td>GCA_002502135.1</td>\n",
       "      <td>95.0</td>\n",
       "      <td>d__Archaea;p__Undinarchaeota;c__Undinarchaeia;...</td>\n",
       "      <td>...</td>\n",
       "      <td>Genome not assigned to closest species as it f...</td>\n",
       "      <td>JV119</td>\n",
       "      <td>400</td>\n",
       "      <td>Archaea</td>\n",
       "      <td>Undinarchaeota</td>\n",
       "      <td>Undinarchaeia</td>\n",
       "      <td>Undinarchaeales</td>\n",
       "      <td>UBA543</td>\n",
       "      <td>UBA543</td>\n",
       "      <td></td>\n",
       "    </tr>\n",
       "    <tr>\n",
       "      <th>...</th>\n",
       "      <td>...</td>\n",
       "      <td>...</td>\n",
       "      <td>...</td>\n",
       "      <td>...</td>\n",
       "      <td>...</td>\n",
       "      <td>...</td>\n",
       "      <td>...</td>\n",
       "      <td>...</td>\n",
       "      <td>...</td>\n",
       "      <td>...</td>\n",
       "      <td>...</td>\n",
       "      <td>...</td>\n",
       "      <td>...</td>\n",
       "      <td>...</td>\n",
       "      <td>...</td>\n",
       "      <td>...</td>\n",
       "      <td>...</td>\n",
       "      <td>...</td>\n",
       "      <td>...</td>\n",
       "      <td>...</td>\n",
       "      <td>...</td>\n",
       "    </tr>\n",
       "    <tr>\n",
       "      <th>124</th>\n",
       "      <td>bin_95</td>\n",
       "      <td>d__Bacteria;p__Pseudomonadota;c__Alphaproteoba...</td>\n",
       "      <td>GCA_002686135.1</td>\n",
       "      <td>95.0</td>\n",
       "      <td>d__Bacteria;p__Pseudomonadota;c__Alphaproteoba...</td>\n",
       "      <td>96.77</td>\n",
       "      <td>0.856</td>\n",
       "      <td>GCA_002686135.1</td>\n",
       "      <td>95.0</td>\n",
       "      <td>d__Bacteria;p__Pseudomonadota;c__Alphaproteoba...</td>\n",
       "      <td>...</td>\n",
       "      <td>NaN</td>\n",
       "      <td>JV154</td>\n",
       "      <td>140</td>\n",
       "      <td>Bacteria</td>\n",
       "      <td>Pseudomonadota</td>\n",
       "      <td>Alphaproteobacteria</td>\n",
       "      <td>UBA11136</td>\n",
       "      <td>UBA11136</td>\n",
       "      <td>UBA11136</td>\n",
       "      <td>UBA11136 sp002686135</td>\n",
       "    </tr>\n",
       "    <tr>\n",
       "      <th>125</th>\n",
       "      <td>bin_96</td>\n",
       "      <td>d__Bacteria;p__Pseudomonadota;c__Gammaproteoba...</td>\n",
       "      <td>NaN</td>\n",
       "      <td>NaN</td>\n",
       "      <td>NaN</td>\n",
       "      <td>NaN</td>\n",
       "      <td>NaN</td>\n",
       "      <td>GCA_022572185.1</td>\n",
       "      <td>95.0</td>\n",
       "      <td>d__Bacteria;p__Pseudomonadota;c__Gammaproteoba...</td>\n",
       "      <td>...</td>\n",
       "      <td>Genome not assigned to closest species as it f...</td>\n",
       "      <td>JV154</td>\n",
       "      <td>140</td>\n",
       "      <td>Bacteria</td>\n",
       "      <td>Pseudomonadota</td>\n",
       "      <td>Gammaproteobacteria</td>\n",
       "      <td>Woeseiales</td>\n",
       "      <td>Woeseiaceae</td>\n",
       "      <td>JACZWL01</td>\n",
       "      <td></td>\n",
       "    </tr>\n",
       "    <tr>\n",
       "      <th>126</th>\n",
       "      <td>bin_97</td>\n",
       "      <td>Unclassified</td>\n",
       "      <td>NaN</td>\n",
       "      <td>NaN</td>\n",
       "      <td>NaN</td>\n",
       "      <td>NaN</td>\n",
       "      <td>NaN</td>\n",
       "      <td>NaN</td>\n",
       "      <td>NaN</td>\n",
       "      <td>NaN</td>\n",
       "      <td>...</td>\n",
       "      <td>No bacterial or archaeal marker</td>\n",
       "      <td>JV154</td>\n",
       "      <td>140</td>\n",
       "      <td>Unclassified</td>\n",
       "      <td>None</td>\n",
       "      <td>None</td>\n",
       "      <td>None</td>\n",
       "      <td>None</td>\n",
       "      <td>None</td>\n",
       "      <td>None</td>\n",
       "    </tr>\n",
       "    <tr>\n",
       "      <th>127</th>\n",
       "      <td>bin_98</td>\n",
       "      <td>Unclassified</td>\n",
       "      <td>NaN</td>\n",
       "      <td>NaN</td>\n",
       "      <td>NaN</td>\n",
       "      <td>NaN</td>\n",
       "      <td>NaN</td>\n",
       "      <td>NaN</td>\n",
       "      <td>NaN</td>\n",
       "      <td>NaN</td>\n",
       "      <td>...</td>\n",
       "      <td>No bacterial or archaeal marker</td>\n",
       "      <td>JV154</td>\n",
       "      <td>140</td>\n",
       "      <td>Unclassified</td>\n",
       "      <td>None</td>\n",
       "      <td>None</td>\n",
       "      <td>None</td>\n",
       "      <td>None</td>\n",
       "      <td>None</td>\n",
       "      <td>None</td>\n",
       "    </tr>\n",
       "    <tr>\n",
       "      <th>128</th>\n",
       "      <td>bin_99</td>\n",
       "      <td>d__Bacteria;p__Acidobacteriota;c__UBA6911;o__R...</td>\n",
       "      <td>NaN</td>\n",
       "      <td>NaN</td>\n",
       "      <td>NaN</td>\n",
       "      <td>NaN</td>\n",
       "      <td>NaN</td>\n",
       "      <td>NaN</td>\n",
       "      <td>NaN</td>\n",
       "      <td>NaN</td>\n",
       "      <td>...</td>\n",
       "      <td>NaN</td>\n",
       "      <td>JV154</td>\n",
       "      <td>140</td>\n",
       "      <td>Bacteria</td>\n",
       "      <td>Acidobacteriota</td>\n",
       "      <td>UBA6911</td>\n",
       "      <td>RPQK01</td>\n",
       "      <td>RPQK01</td>\n",
       "      <td></td>\n",
       "      <td></td>\n",
       "    </tr>\n",
       "  </tbody>\n",
       "</table>\n",
       "<p>631 rows × 29 columns</p>\n",
       "</div>"
      ],
      "text/plain": [
       "    user_genome                                     classification  \\\n",
       "0       bin_101  d__Archaea;p__Thermoplasmatota;c__Poseidoniia;...   \n",
       "1       bin_103  d__Archaea;p__Nanoarchaeota;c__Nanoarchaeia;o_...   \n",
       "2       bin_107  d__Archaea;p__Nanoarchaeota;c__Nanoarchaeia;o_...   \n",
       "3       bin_112  d__Archaea;p__Nanoarchaeota;c__Nanoarchaeia;o_...   \n",
       "4       bin_120  d__Archaea;p__Undinarchaeota;c__Undinarchaeia;...   \n",
       "..          ...                                                ...   \n",
       "124      bin_95  d__Bacteria;p__Pseudomonadota;c__Alphaproteoba...   \n",
       "125      bin_96  d__Bacteria;p__Pseudomonadota;c__Gammaproteoba...   \n",
       "126      bin_97                                       Unclassified   \n",
       "127      bin_98                                       Unclassified   \n",
       "128      bin_99  d__Bacteria;p__Acidobacteriota;c__UBA6911;o__R...   \n",
       "\n",
       "    fastani_reference  fastani_reference_radius  \\\n",
       "0     GCA_002731905.1                      95.0   \n",
       "1                 NaN                       NaN   \n",
       "2                 NaN                       NaN   \n",
       "3                 NaN                       NaN   \n",
       "4                 NaN                       NaN   \n",
       "..                ...                       ...   \n",
       "124   GCA_002686135.1                      95.0   \n",
       "125               NaN                       NaN   \n",
       "126               NaN                       NaN   \n",
       "127               NaN                       NaN   \n",
       "128               NaN                       NaN   \n",
       "\n",
       "                                      fastani_taxonomy  fastani_ani  \\\n",
       "0    d__Archaea;p__Thermoplasmatota;c__Poseidoniia;...        98.12   \n",
       "1                                                  NaN          NaN   \n",
       "2                                                  NaN          NaN   \n",
       "3                                                  NaN          NaN   \n",
       "4                                                  NaN          NaN   \n",
       "..                                                 ...          ...   \n",
       "124  d__Bacteria;p__Pseudomonadota;c__Alphaproteoba...        96.77   \n",
       "125                                                NaN          NaN   \n",
       "126                                                NaN          NaN   \n",
       "127                                                NaN          NaN   \n",
       "128                                                NaN          NaN   \n",
       "\n",
       "     fastani_af closest_placement_reference  closest_placement_radius  \\\n",
       "0         0.737             GCA_002731905.1                      95.0   \n",
       "1           NaN                         NaN                       NaN   \n",
       "2           NaN                         NaN                       NaN   \n",
       "3           NaN             GCA_016185615.1                      95.0   \n",
       "4           NaN             GCA_002502135.1                      95.0   \n",
       "..          ...                         ...                       ...   \n",
       "124       0.856             GCA_002686135.1                      95.0   \n",
       "125         NaN             GCA_022572185.1                      95.0   \n",
       "126         NaN                         NaN                       NaN   \n",
       "127         NaN                         NaN                       NaN   \n",
       "128         NaN                         NaN                       NaN   \n",
       "\n",
       "                            closest_placement_taxonomy  ...  \\\n",
       "0    d__Archaea;p__Thermoplasmatota;c__Poseidoniia;...  ...   \n",
       "1                                                  NaN  ...   \n",
       "2                                                  NaN  ...   \n",
       "3    d__Archaea;p__Nanoarchaeota;c__Nanoarchaeia;o_...  ...   \n",
       "4    d__Archaea;p__Undinarchaeota;c__Undinarchaeia;...  ...   \n",
       "..                                                 ...  ...   \n",
       "124  d__Bacteria;p__Pseudomonadota;c__Alphaproteoba...  ...   \n",
       "125  d__Bacteria;p__Pseudomonadota;c__Gammaproteoba...  ...   \n",
       "126                                                NaN  ...   \n",
       "127                                                NaN  ...   \n",
       "128                                                NaN  ...   \n",
       "\n",
       "                                              warnings  sample_name  \\\n",
       "0                                                  NaN        JV119   \n",
       "1                                                  NaN        JV119   \n",
       "2                                                  NaN        JV119   \n",
       "3                                                  NaN        JV119   \n",
       "4    Genome not assigned to closest species as it f...        JV119   \n",
       "..                                                 ...          ...   \n",
       "124                                                NaN        JV154   \n",
       "125  Genome not assigned to closest species as it f...        JV154   \n",
       "126                    No bacterial or archaeal marker        JV154   \n",
       "127                    No bacterial or archaeal marker        JV154   \n",
       "128                                                NaN        JV154   \n",
       "\n",
       "    sample_depth        domain             phyla                class  \\\n",
       "0            400       Archaea  Thermoplasmatota          Poseidoniia   \n",
       "1            400       Archaea     Nanoarchaeota         Nanoarchaeia   \n",
       "2            400       Archaea     Nanoarchaeota         Nanoarchaeia   \n",
       "3            400       Archaea     Nanoarchaeota         Nanoarchaeia   \n",
       "4            400       Archaea    Undinarchaeota        Undinarchaeia   \n",
       "..           ...           ...               ...                  ...   \n",
       "124          140      Bacteria    Pseudomonadota  Alphaproteobacteria   \n",
       "125          140      Bacteria    Pseudomonadota  Gammaproteobacteria   \n",
       "126          140  Unclassified              None                 None   \n",
       "127          140  Unclassified              None                 None   \n",
       "128          140      Bacteria   Acidobacteriota              UBA6911   \n",
       "\n",
       "               order       family     genus               species  \n",
       "0              MGIII      CG-Epi1   UBA8886   UBA8886 sp002731905  \n",
       "1    Woesearchaeales     JABIAG01                                  \n",
       "2    SCGC-AAA011-G17     JACPNG01                                  \n",
       "3    SCGC-AAA011-G17     JACPNG01  JACPNE01                        \n",
       "4    Undinarchaeales       UBA543    UBA543                        \n",
       "..               ...          ...       ...                   ...  \n",
       "124         UBA11136     UBA11136  UBA11136  UBA11136 sp002686135  \n",
       "125       Woeseiales  Woeseiaceae  JACZWL01                        \n",
       "126             None         None      None                  None  \n",
       "127             None         None      None                  None  \n",
       "128           RPQK01       RPQK01                                  \n",
       "\n",
       "[631 rows x 29 columns]"
      ]
     },
     "execution_count": 135,
     "metadata": {},
     "output_type": "execute_result"
    }
   ],
   "source": [
    "import pandas as pd\n",
    "import os\n",
    "import sys\n",
    "import csv\n",
    "import numpy as np\n",
    "import matplotlib\n",
    "import glob\n",
    "import seaborn as sns\n",
    "from collections import Counter\n",
    "import matplotlib.pyplot as plt\n",
    "\n",
    "jv119_arc = pd.read_csv('/Users/melissaherring/Documents/Bigelow- starting Sept 2022/Virus Project/OMZ_MH_Analysis/Data/mag_data/gtdbtk/jv-119/jv-119.ar53.summary.tsv',sep='\\t')\n",
    "jv119_bac = pd.read_csv('/Users/melissaherring/Documents/Bigelow- starting Sept 2022/Virus Project/OMZ_MH_Analysis/Data/mag_data/gtdbtk/jv-119/jv-119.bac120.summary.tsv',sep='\\t')\n",
    "jv121_arc = pd.read_csv('/Users/melissaherring/Documents/Bigelow- starting Sept 2022/Virus Project/OMZ_MH_Analysis/Data/mag_data/gtdbtk/jv-121/jv-121.ar53.summary.tsv',sep='\\t')\n",
    "jv121_bac = pd.read_csv('~/Documents/Bigelow- starting Sept 2022/Virus Project/OMZ_MH_Analysis/Data/mag_data/gtdbtk/jv-121/jv-121.bac120.summary.tsv',sep='\\t')\n",
    "jv132_arc = pd.read_csv('~/Documents/Bigelow- starting Sept 2022/Virus Project/OMZ_MH_Analysis/Data/mag_data/gtdbtk/jv-132/jv-132.ar53.summary.tsv',sep='\\t')\n",
    "jv132_bac = pd.read_csv('~/Documents/Bigelow- starting Sept 2022/Virus Project/OMZ_MH_Analysis/Data/mag_data/gtdbtk/jv-132/jv-132.bac120.summary.tsv',sep='\\t')\n",
    "jv154_arc = pd.read_csv('~/Documents/Bigelow- starting Sept 2022/Virus Project/OMZ_MH_Analysis/Data/mag_data/gtdbtk/jv-154/jv-154.ar53.summary.tsv',sep='\\t')\n",
    "jv154_bac = pd.read_csv('~/Documents/Bigelow- starting Sept 2022/Virus Project/OMZ_MH_Analysis/Data/mag_data/gtdbtk/jv-154/jv-154.bac120.summary.tsv',sep='\\t')\n",
    "\n",
    "# create sample_name column\n",
    "jv119_arc['sample_name'] = \"JV119\"\n",
    "jv119_bac['sample_name'] = \"JV119\"\n",
    "jv121_arc['sample_name'] = \"JV121\"\n",
    "jv121_bac['sample_name'] = \"JV121\"\n",
    "jv132_arc['sample_name'] = \"JV132\"\n",
    "jv132_bac['sample_name'] = \"JV132\"\n",
    "jv154_arc['sample_name'] = \"JV154\"\n",
    "jv154_bac['sample_name'] = \"JV154\"\n",
    "\n",
    "# create sample_depth column\n",
    "jv119_arc['sample_depth'] = 400\n",
    "jv119_bac['sample_depth'] = 400\n",
    "jv121_arc['sample_depth'] = 95\n",
    "jv121_bac['sample_depth'] = 95\n",
    "jv132_arc['sample_depth'] = 80\n",
    "jv132_bac['sample_depth'] = 80\n",
    "jv154_arc['sample_depth'] = 140\n",
    "jv154_bac['sample_depth'] = 140\n",
    "\n",
    "# combine all data frames into one data set\n",
    "combo = pd.concat([jv119_arc, jv119_bac, jv121_arc, jv121_bac, jv132_arc, jv132_bac, jv154_arc, jv154_bac])\n",
    "\n",
    "# split the classification into tax level columns and rename\n",
    "combo[['domain', 'phyla', 'class', 'order', 'family', 'genus', 'species']]=combo.classification.str.split(';', expand=True)\n",
    "combo['domain'] = combo['domain'].str.replace('d__', '') # remove the d__ in front of all observations\n",
    "combo['phyla'] = combo['phyla'].str.replace('p__', '')\n",
    "combo['class'] = combo['class'].str.replace('c__', '')\n",
    "combo['order'] = combo['order'].str.replace('o__', '')\n",
    "combo['family'] = combo['family'].str.replace('f__', '')\n",
    "combo['genus'] = combo['genus'].str.replace('g__', '')\n",
    "combo['species'] = combo['species'].str.replace('s__', '')\n",
    "combo"
   ]
  },
  {
   "cell_type": "code",
   "execution_count": 136,
   "id": "fb9adf3a-6d37-4269-8d4c-1c8fa5dcf2ab",
   "metadata": {},
   "outputs": [],
   "source": [
    "# write csv file\n",
    "combo.to_csv('~/Documents/Bigelow- starting Sept 2022/Virus Project/OMZ_MH_Analysis/Data/mag_data/all_mag_gtdb.csv', index=False)"
   ]
  },
  {
   "cell_type": "markdown",
   "id": "c47172ea-5890-4a2b-b2de-2ceaafb81fd9",
   "metadata": {},
   "source": [
    "## How many MAGs were classified in total?"
   ]
  },
  {
   "cell_type": "code",
   "execution_count": null,
   "id": "6e8b21f0-cbdf-493c-852a-cc69a94da2b7",
   "metadata": {},
   "outputs": [],
   "source": [
    "total = len(combo['domain'])\n",
    "total"
   ]
  },
  {
   "cell_type": "markdown",
   "id": "c827b95f-5c07-4fff-be69-f3abb5ef0f2d",
   "metadata": {},
   "source": [
    "## How many MAGs were classified to at least that classification level?"
   ]
  },
  {
   "cell_type": "code",
   "execution_count": null,
   "id": "9c913da7-fb4e-48c7-aa4e-7dd60ed1d6ca",
   "metadata": {},
   "outputs": [],
   "source": [
    "d_mag = len(combo[combo['domain']!='d__'])\n",
    "p_mag = len(combo[combo['phyla']!='p__'])\n",
    "c_mag =len(combo[combo['class']!='c__'])\n",
    "o_mag=len(combo[combo['order']!='o__'])\n",
    "f_mag=len(combo[combo['family']!='f__'])\n",
    "g_mag=len(combo[combo['genus']!='g__']) \n",
    "s_mag=len(combo[combo['species']!='s__'])\n",
    "\n",
    "# create a data frame of the number of MAGs associated with each level\n",
    "dict = {'tax_level': ['total', 'domain', 'phyla', 'class', 'order', 'family', 'genus','species'], 'num_MAGs_classified':\n",
    "   [total, d_mag, p_mag, c_mag, o_mag, f_mag, g_mag, s_mag]}\n",
    "GTDB_tax = pd.DataFrame(data = dict)\n",
    "\n",
    "# add a column to the dataframe that is the percent of MAGs\n",
    "GTDB_tax['percent_classified']=GTDB_tax['num_MAGs_classified']/total*100\n",
    "\n",
    "GTDB_tax"
   ]
  },
  {
   "cell_type": "code",
   "execution_count": 133,
   "id": "f46878d2-2017-4491-bb29-da7829d3ed52",
   "metadata": {},
   "outputs": [
    {
     "data": {
      "image/png": "[encoded data removed]",
      "text/plain": [
       "<Figure size 432x288 with 1 Axes>"
      ]
     },
     "metadata": {
      "needs_background": "light"
     },
     "output_type": "display_data"
    }
   ],
   "source": [
    "# count plot\n",
    "GTDB_tax.plot(kind='bar', x='tax_level', y='num_MAGs_classified',legend=None)\n",
    "plt.xlabel('Taxonomic classification')\n",
    "plt.ylabel('number of MAGs')\n",
    "plt.title('Assignment of MAGs at different taxonomic levels with GTDB')\n",
    "plt.tight_layout()"
   ]
  },
  {
   "cell_type": "code",
   "execution_count": 134,
   "id": "ce08f0d6-a28b-4bcb-bac5-2de689a4d9ce",
   "metadata": {},
   "outputs": [
    {
     "data": {
      "image/png": "[encoded data removed]",
      "text/plain": [
       "<Figure size 432x288 with 1 Axes>"
      ]
     },
     "metadata": {
      "needs_background": "light"
     },
     "output_type": "display_data"
    }
   ],
   "source": [
    "# percent plot\n",
    "GTDB_tax.plot(kind='bar', x='tax_level', y='percent_classified',legend=None)\n",
    "plt.xlabel('Taxonomic classification')\n",
    "plt.ylabel('percent of MAGs')\n",
    "plt.title('Percent of MAGs classified at different taxonomic levels with GTDB')\n",
    "plt.tight_layout()"
   ]
  },
  {
   "cell_type": "markdown",
   "id": "2d636061-7811-4726-995a-7ae0a1f22eff",
   "metadata": {},
   "source": [
    "## What are the most common classifications?"
   ]
  },
  {
   "cell_type": "code",
   "execution_count": null,
   "id": "258f3b61-004d-4980-b7bc-74fd39204132",
   "metadata": {},
   "outputs": [],
   "source": [
    "Counter(combo['classification']).most_common()[:10]"
   ]
  },
  {
   "cell_type": "code",
   "execution_count": null,
   "id": "0fa346f9-bdbd-4e90-9988-cb5812f636ec",
   "metadata": {},
   "outputs": [],
   "source": [
    "# top 5 groups in each level\n",
    "for taxa in ['domain', 'phyla','class','order','family','genus','species']:\n",
    "    print(combo.groupby(taxa)['user_genome'].count().sort_values(ascending=False)[:5])\n",
    "    print(\"\\n\")"
   ]
  },
  {
   "cell_type": "markdown",
   "id": "460fb0d0-cb57-43bd-bd55-79d2ac2d15c6",
   "metadata": {},
   "source": [
    "#### Phyla"
   ]
  },
  {
   "cell_type": "code",
   "execution_count": 131,
   "id": "1c77c4c1-9e63-42bb-8496-e91aee951bd7",
   "metadata": {},
   "outputs": [
    {
     "data": {
      "text/plain": [
       "Text(0.5, 1.0, 'Number of MAGs belonging to the top 10 most abundant phyla with GTDB')"
      ]
     },
     "execution_count": 131,
     "metadata": {},
     "output_type": "execute_result"
    },
    {
     "data": {
      "image/png": "[encoded data removed]",
      "text/plain": [
       "<Figure size 432x288 with 1 Axes>"
      ]
     },
     "metadata": {
      "needs_background": "light"
     },
     "output_type": "display_data"
    }
   ],
   "source": [
    "phyla_df = combo.groupby('phyla', as_index=False)['user_genome'].count().sort_values(by = 'user_genome',ascending=False)\n",
    "top_phyla = phyla_df [:10]\n",
    "\n",
    "top_phyla.plot('phyla','user_genome',kind = 'bar',legend=None)\n",
    "plt.xlabel('Phyla')\n",
    "plt.ylabel('Count')\n",
    "plt.title('Number of MAGs belonging to the top 10 most abundant phyla with GTDB')"
   ]
  },
  {
   "cell_type": "markdown",
   "id": "16ba7f97-8f91-45bf-a499-6197488e8955",
   "metadata": {},
   "source": [
    "#### Class"
   ]
  },
  {
   "cell_type": "code",
   "execution_count": 132,
   "id": "1b3f1523-40a9-4129-aeef-466a15248e9d",
   "metadata": {},
   "outputs": [
    {
     "data": {
      "text/plain": [
       "Text(0.5, 1.0, 'Number of MAGs belonging to the top 10 most abundant classes with GTDB')"
      ]
     },
     "execution_count": 132,
     "metadata": {},
     "output_type": "execute_result"
    },
    {
     "data": {
      "image/png": "[encoded data removed]",
      "text/plain": [
       "<Figure size 432x288 with 1 Axes>"
      ]
     },
     "metadata": {
      "needs_background": "light"
     },
     "output_type": "display_data"
    }
   ],
   "source": [
    "class_df = combo.groupby('class', as_index=False)['user_genome'].count().sort_values(by = 'user_genome',ascending=False)\n",
    "top_class = class_df [:10]\n",
    "\n",
    "top_class.plot('class','user_genome',kind = 'bar',legend=None)\n",
    "plt.xlabel('Class')\n",
    "plt.ylabel('Count')\n",
    "plt.title('Number of MAGs belonging to the top 10 most abundant classes with GTDB')"
   ]
  },
  {
   "cell_type": "markdown",
   "id": "a0a6a643-25d3-4016-ac47-74bba56151ab",
   "metadata": {},
   "source": [
    "#### Order"
   ]
  },
  {
   "cell_type": "code",
   "execution_count": 130,
   "id": "c480cc1a-89c5-47aa-a31e-936851d67649",
   "metadata": {},
   "outputs": [
    {
     "data": {
      "text/plain": [
       "Text(0.5, 1.0, 'Number of MAGs belonging to the top 10 most abundant orders with GTDB')"
      ]
     },
     "execution_count": 130,
     "metadata": {},
     "output_type": "execute_result"
    },
    {
     "data": {
      "image/png": "[encoded data removed]",
      "text/plain": [
       "<Figure size 432x288 with 1 Axes>"
      ]
     },
     "metadata": {
      "needs_background": "light"
     },
     "output_type": "display_data"
    }
   ],
   "source": [
    "order_df = combo.groupby('order', as_index=False)['user_genome'].count().sort_values(by = 'user_genome',ascending=False)\n",
    "top_order = order_df [:10]\n",
    "\n",
    "top_order.plot('order','user_genome',kind = 'bar',legend=None)\n",
    "plt.xlabel('Order')\n",
    "plt.ylabel('Count')\n",
    "plt.title('Number of MAGs belonging to the top 10 most abundant orders with GTDB')"
   ]
  }
 ],
 "metadata": {
  "kernelspec": {
   "display_name": "Python 3 (ipykernel)",
   "language": "python",
   "name": "python3"
  },
  "language_info": {
   "codemirror_mode": {
    "name": "ipython",
    "version": 3
   },
   "file_extension": ".py",
   "mimetype": "text/x-python",
   "name": "python",
   "nbconvert_exporter": "python",
   "pygments_lexer": "ipython3",
   "version": "3.9.12"
  }
 },
 "nbformat": 4,
 "nbformat_minor": 5
}
