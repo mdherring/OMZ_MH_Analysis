{
 "cells": [
  {
   "cell_type": "code",
   "execution_count": 10,
   "id": "f1a8e7df-edd6-4274-ade7-cacaaf92fd49",
   "metadata": {},
   "outputs": [],
   "source": [
    "import pandas as pd\n",
    "import math\n",
    "import glob\n",
    "from collections import defaultdict\n",
    "import os # these two packages are good for searching and navigating file systems\n",
    "import os.path as op\n",
    "import seaborn as sns\n",
    "import matplotlib.pyplot as plt\n",
    "\n",
    "m_path = '/Users/melissaherring/Google Drive/My Drive/MH_project/'\n",
    "#j_path = '/Users/juliabrown/Google Drive/My Drive/projects/OMZvir_round2/MH_project/'\n",
    "\n",
    "df = pd.read_csv(op.join(m_path, 'tables/091923_dram_tax_merged.csv'))"
   ]
  },
  {
   "cell_type": "code",
   "execution_count": 11,
   "id": "643a0988-b1ed-4f70-9c91-5f2fa856b437",
   "metadata": {},
   "outputs": [
    {
     "data": {
      "text/plain": [
       "Text(0.5, 0, 'Number of Genes Annotated')"
      ]
     },
     "execution_count": 11,
     "metadata": {},
     "output_type": "execute_result"
    },
    {
     "data": {
      "image/png": "[encoded data removed]",
      "text/plain": [
       "<Figure size 432x288 with 1 Axes>"
      ]
     },
     "metadata": {
      "needs_background": "light"
     },
     "output_type": "display_data"
    }
   ],
   "source": [
    "sns.histplot(df['total_genes_annot'], bins=10, color='navy', edgecolor='black')\n",
    "plt.ylabel('Frequency')\n",
    "plt.xlabel('Number of Genes Annotated')"
   ]
  },
  {
   "cell_type": "code",
   "execution_count": null,
   "id": "3d6e3f4e-c0c7-4692-98ba-149b6e232076",
   "metadata": {},
   "outputs": [],
   "source": []
  }
 ],
 "metadata": {
  "kernelspec": {
   "display_name": "Python 3 (ipykernel)",
   "language": "python",
   "name": "python3"
  },
  "language_info": {
   "codemirror_mode": {
    "name": "ipython",
    "version": 3
   },
   "file_extension": ".py",
   "mimetype": "text/x-python",
   "name": "python",
   "nbconvert_exporter": "python",
   "pygments_lexer": "ipython3",
   "version": "3.9.12"
  }
 },
 "nbformat": 4,
 "nbformat_minor": 5
}
